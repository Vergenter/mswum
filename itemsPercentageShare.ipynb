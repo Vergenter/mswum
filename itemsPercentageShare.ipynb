{
 "cells": [
  {
   "cell_type": "code",
   "execution_count": 1,
   "metadata": {
    "jupyter": {
     "outputs_hidden": true
    }
   },
   "outputs": [],
   "source": [
    "%matplotlib inline\n",
    "%load_ext memory_profiler "
   ]
  },
  {
   "cell_type": "code",
   "execution_count": 2,
   "metadata": {},
   "outputs": [],
   "source": [
    "from KnackpackData import n_items,weights,values,max_weight,max_value,encodeNumber,items_size_threshold,getDiff\n",
    "from Timer import *\n",
    "import matplotlib.pyplot as plt\n",
    "import numpy as np\n",
    "import random\n",
    "from numba import njit,prange\n",
    "t = Timer()"
   ]
  },
  {
   "cell_type": "markdown",
   "metadata": {},
   "source": [
    "## Udział procentowy przedmiotów w plecaku\n",
    "\n",
    "Implementacja ma pokazać procentowy udział małych (i dużych) przedmiotów wybranych do wypełnienia plecaka, wśród najlepszych wyników.\n",
    "\n",
    "Mały przedmiot ma wagę mniejszą bądź równą 0.5. <br>\n",
    "Duże przedmioty to te z wagą powyżej 0.5."
   ]
  },
  {
   "cell_type": "markdown",
   "metadata": {},
   "source": [
    "### Obliczenia\n",
    "\n",
    "Zliczana jest ilość użytych małych i dużych przedmiotów w każdym znalezionym rozwiązaniu.\n",
    "\n",
    "Wybierany jest 1% najlepszych rozwiązań i wyświetlany jest wykres zawierający procentowe udziały małych przedmiotów wśród wszystkich użytych przedmiotów w konkretnym plecaku."
   ]
  },
  {
   "cell_type": "code",
   "execution_count": 3,
   "metadata": {
    "jupyter": {
     "outputs_hidden": true
    }
   },
   "outputs": [],
   "source": [
    "def scoreFunctionWithItemsSizes(mask, weights=weights,values=values,max_weight=max_weight,max_value=max_value):\n",
    "    final_weight = 0\n",
    "    score = 0 \n",
    "    items = weights[mask]\n",
    "    s_items = items[items <= items_size_threshold].size\n",
    "    b_items = items[items > items_size_threshold].size\n",
    "    for i in prange(weights.size):\n",
    "        if mask[i]:\n",
    "            final_weight+=weights[i]\n",
    "            score+=values[i]\n",
    "    return final_weight, score, s_items, b_items\n",
    "\n",
    "def getDataWithItemsSize():\n",
    "    return np.array([scoreFunctionWithItemsSizes(encodeNumber(x)) for x in prange(2**n_items)])\n",
    "\n",
    "data_with_sizes_t = getDataWithItemsSize()"
   ]
  },
  {
   "cell_type": "code",
   "execution_count": 4,
   "metadata": {
    "jupyter": {
     "outputs_hidden": true
    }
   },
   "outputs": [],
   "source": [
    "# Sort by weights\n",
    "data_with_sizes = data_with_sizes_t[np.argsort(data_with_sizes_t[:, 0])]\n",
    "# Delete results larger than max_weight\n",
    "data_with_sizes = data_with_sizes[(data_with_sizes[:,0] <= max_weight)]\n",
    "# Sort by score\n",
    "data_with_sizes = data_with_sizes[np.argsort(data_with_sizes[:, 1])]"
   ]
  },
  {
   "cell_type": "code",
   "execution_count": 5,
   "metadata": {},
   "outputs": [
    {
     "data": {
      "text/plain": [
       "array([[2.65571179, 4.69313976],\n",
       "       [2.6979442 , 4.70059162],\n",
       "       [2.88330288, 4.74501949],\n",
       "       [2.96497628, 4.74671992],\n",
       "       [2.95226796, 4.76879224],\n",
       "       [2.78004393, 4.81811392],\n",
       "       [2.87913456, 4.8687458 ],\n",
       "       [2.77098602, 4.87170844],\n",
       "       [2.99857711, 4.92358817],\n",
       "       [2.89531816, 4.9966826 ]])"
      ]
     },
     "execution_count": 5,
     "metadata": {},
     "output_type": "execute_result"
    }
   ],
   "source": [
    "data_with_sizes[-10:,0:2]"
   ]
  },
  {
   "cell_type": "code",
   "execution_count": 6,
   "metadata": {
    "jupyter": {
     "outputs_hidden": true
    }
   },
   "outputs": [],
   "source": [
    "# Number of best 1% results\n",
    "data_size = data_with_sizes.shape[0]\n",
    "best_1_cnt = int(np.round(data_size/100))"
   ]
  },
  {
   "cell_type": "code",
   "execution_count": 7,
   "metadata": {
    "jupyter": {
     "outputs_hidden": true
    }
   },
   "outputs": [],
   "source": [
    "# Flip results (start from the best result)\n",
    "best_1_ar = np.flip(data_with_sizes[-best_1_cnt:], axis=0)\n",
    "# Prepare small items percentages\n",
    "small_items_p = best_1_ar[:,2]/(best_1_ar[:,2]+best_1_ar[:,3])"
   ]
  },
  {
   "cell_type": "code",
   "execution_count": 8,
   "metadata": {},
   "outputs": [
    {
     "data": {
      "image/png": "[encoded data removed]",
      "text/plain": [
       "<Figure size 1280x960 with 1 Axes>"
      ]
     },
     "metadata": {
      "needs_background": "light"
     },
     "output_type": "display_data"
    }
   ],
   "source": [
    "# Plot results\n",
    "plt.figure(figsize=(16, 12), dpi=80) \n",
    "plt.bar(np.arange(best_1_cnt), small_items_p*100, color=\"g\")\n",
    "plt.ylabel('light items [%]')\n",
    "plt.xlabel('n best results')\n",
    "plt.title('% amount of small items in 1% best results')\n",
    "plt.show()"
   ]
  },
  {
   "cell_type": "markdown",
   "metadata": {},
   "source": [
    "### Wnioski\n",
    "\n",
    "Z powyższych danych wynika, że lepszym rozwiazaniem jest dobieranie małych przedmiotów do plecaków. Większość (ponad 60-80% wyników) przedmiotów w najlepszych plecakach to przedmioty małe."
   ]
  }
 ],
 "metadata": {
  "kernelspec": {
   "display_name": "Python 3",
   "language": "python",
   "name": "python3"
  },
  "language_info": {
   "codemirror_mode": {
    "name": "ipython",
    "version": 3
   },
   "file_extension": ".py",
   "mimetype": "text/x-python",
   "name": "python",
   "nbconvert_exporter": "python",
   "pygments_lexer": "ipython3",
   "version": "3.8.5"
  }
 },
 "nbformat": 4,
 "nbformat_minor": 5
}
