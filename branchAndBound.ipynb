{
 "cells": [
  {
   "cell_type": "code",
   "execution_count": 1,
   "metadata": {},
   "outputs": [],
   "source": [
    "%matplotlib inline\n",
    "%load_ext memory_profiler "
   ]
  },
  {
   "cell_type": "code",
   "execution_count": 2,
   "metadata": {},
   "outputs": [],
   "source": [
    "from KnackpackData import n_items,weights,values,max_weight,max_value,encodeNumber,items_size_threshold,getDiff\n",
    "from Timer import *\n",
    "import matplotlib.pyplot as plt\n",
    "import numpy as np\n",
    "import random\n",
    "from numba import njit,prange\n",
    "t = Timer()"
   ]
  },
  {
   "cell_type": "markdown",
   "metadata": {},
   "source": [
    "## Branch & Bound\n",
    "\n",
    "Branch and Bound to technika używana w rozwiązywaniu problemów opymalizacji. Jest ona nieco \"lepsza\" od metod wyczerpujących (exhaustive), ponieważ dokonuje oceny już częściowo pryzgotowanych rozwiazań, a jeżeli potencjalne pozostałe rozwiazania ne generują lepszych wyników, wtedy są pomijane.\n",
    "W najgorszym przypadku B&B ma wykładniczą złożoność i wygeneruje wszystkie możliwe kombinacje liści. Wtedy drzewo będzie kompletne i będzie zawierało $2^{n-1}-1$ odgałęzień. Mimo to przeważnie i tak będzie lepszym wyborem niż sprawdzanie wszystkich możliwych rozwiązań metodą Brute Force.\n",
    "\n",
    "B&B bazuje na drzewie przestrzni stanów, gdzie każdy kolejny poziom reprezentuje ścieżki dążące od lisci do korzenia i zaweirające rozwiazania. Przy czym korzeń (poziom 0) to punkt startowy bez żadnego rozwiązania. \n",
    "\n",
    "W przypadku problemu plecakowego 0-1 przy $N$ dostepnych przedmiotach $k$-ty poziom reprezentuje stan z którego wybierane jest rozwiązanie (wybrane zostały przedmioty lub nie). To daje $2^{k}$ gałęzi na $k$-tym poziomie drzewa, a liście znajdują się na poziomie $N$.\n",
    "\n",
    "\n",
    "W drzewie przestrzeni stanów lewe odgałęzienie powinno oznaczać użycie kolejnego przedmiotu, a prawa gałąź jego wykluczenie.\n",
    "\n",
    "Obliczana górna granica ($Upper Bound$) obliczana jest na zasadzie dodawania wartości obecnego podzbioru przedmiotów oraz pozostałej pojemności plecaka wymnożonej przez najlepszy kolejny przedmiot:\n",
    "\n",
    "$Upper Bound = v + (Capacity - w)*(\\frac{vi+1}{wi+1})$\n",
    "\n",
    "Przed uruchomieniem algorytmu wszystkie przedmioty powinny być posortowane w stosunku wartość ($v$) - waga ($w$): \n",
    "$\\frac{v}{w}$."
   ]
  },
  {
   "cell_type": "markdown",
   "metadata": {},
   "source": [
    "### Opis\n",
    "Możliwe są 2 implementacje algorytmu B&B: \n",
    "1. wybieranie gałęzi z najmniejszą wartością graniczną. Ten sposób sprawdza mniej możliwości, a co za tym idzie zajmuje mniej czasu, ale wymaga więcej pamięci.\n",
    "2. wybieranie gałezi z najmniejszą wartością graniczną z nowo utworzonych gałęzi. Ten sposób wymaga mniej pamięci ale więcej możliwych rozgałęzień co wydłuża jego czas pracy.\n",
    "\n",
    "W poniższym algorytmie została wykorzystana metoda 1.\n",
    "\n",
    "Algorytm na początku tworzy korzeń i z niego kolejno generuje lewe i prawe odgałęzienia sprawdzając ich granice i osiągnięte wartości."
   ]
  },
  {
   "cell_type": "code",
   "execution_count": 3,
   "metadata": {
    "jupyter": {
     "outputs_hidden": true
    }
   },
   "outputs": [],
   "source": [
    "# Data must be sorted in value/weights ratio way.\n",
    "VW_ratios = values / weights\n",
    "indexes = np.flip(np.argsort(VW_ratios))"
   ]
  },
  {
   "cell_type": "code",
   "execution_count": 4,
   "metadata": {
    "jupyter": {
     "outputs_hidden": true
    }
   },
   "outputs": [],
   "source": [
    "VW_ratios = np.take_along_axis(VW_ratios, indexes, axis=0) # Value/weight ratios\n",
    "VW_weights = np.take_along_axis(weights, indexes, axis=0) # Sorted weights\n",
    "VW_values = np.take_along_axis(values, indexes, axis=0) # Sorted values"
   ]
  },
  {
   "cell_type": "code",
   "execution_count": 5,
   "metadata": {},
   "outputs": [],
   "source": [
    "'''\n",
    "Based on:\n",
    "A. Shaheen and A. Sleit, ‘‘Comparing between different approaches to solve the 0/1 Knapsack problem’’ \n",
    "Int. J. Comput. Sci. Netw. Secur., vol. 16,no. 7, p. 1. 2016.\n",
    "'''\n",
    "\n",
    "# *** Branching with smallest node. ***\n",
    "\n",
    "class State:\n",
    "    def __init__(self, level, value, weight, bound, items):\n",
    "        self.level = level\n",
    "        self.value = value\n",
    "        self.weight = weight\n",
    "        self.bound = bound\n",
    "        self.items = items\n",
    "               \n",
    "def upper_bound(branch, max_weight, item_count, sorted_values, sorted_weights):\n",
    "    \n",
    "    # *This condition is not explicitely included in default B&B*\n",
    "    # If child weight exceeds maximum weight its bound should be 0 or None.\n",
    "    if branch.weight > max_weight:\n",
    "        return 0\n",
    "    else:\n",
    "        bound = branch.value \n",
    "        weight = branch.weight\n",
    "        level = branch.level # Level indicates amount of items in knapsack.\n",
    "        \n",
    "        # Calculate upper bound based on branch parameters and left capacity\n",
    "        while level < item_count and weight + sorted_weights[level] <= max_weight:\n",
    "            bound += sorted_values[level]\n",
    "            weight += sorted_weights[level]\n",
    "            level += 1\n",
    "        \n",
    "        # If there is any item left (best according to value/weight ratio) add it to bound.\n",
    "        if level < item_count:\n",
    "            bound += (max_weight - weight) * float(sorted_values[level])/ sorted_weights[level]\n",
    "            \n",
    "        return bound\n",
    "\n",
    "def run():\n",
    "    root = State(0, 0.0, 0.0, 0.0, []) # Initialize root as empty branch.\n",
    "    root.bound = upper_bound(root, 3, 16, VW_values, VW_weights) # Calculate root upper bound.\n",
    "\n",
    "    queue = [] # Queue to store new branches.\n",
    "    queue.append(root) # First item in queue is root.\n",
    "\n",
    "    max_value = root.value # First max_value is root value (0).\n",
    "\n",
    "    best_items = [0]*n_items # First best items is empty.\n",
    "\n",
    "    # Iterate till queue is not empty.\n",
    "    while queue:\n",
    "        # Get the smallest node value (a.k.a last value).\n",
    "        current_state = queue.pop()\n",
    "\n",
    "        # If node bound is greater than max found value then go to the next level.\n",
    "        if current_state.bound > max_value:\n",
    "            level = current_state.level + 1 \n",
    "\n",
    "        # Generate left branch.\n",
    "        left = State(level, current_state.value + VW_values[current_state.level], current_state.weight + VW_weights[current_state.level], 0.0, current_state.items[:])\n",
    "        # Calculate new left branch upper bound.\n",
    "        left.bound = upper_bound(left, max_weight, n_items, VW_values, VW_weights)\n",
    "        left.items.append(level)\n",
    "\n",
    "        # *This condition is not explicitely included in default B&B*\n",
    "        # If weight doesn't exceed maximum capacity proceed to checking vlaues.\n",
    "        if left.weight <= max_weight:\n",
    "            # If value is greater than max found vlaue set it as new max.\n",
    "            if left.value > max_value:\n",
    "                max_value = left.value\n",
    "                best_items = left.items\n",
    "            # Append child if its upper bound is greater than max found value.\n",
    "            if left.bound > max_value:\n",
    "                queue.append(left)\n",
    "\n",
    "        # Generate right branch.\n",
    "        right = State(level,current_state.value, current_state.weight, 0.0, current_state.items[:])\n",
    "        # Calculate new right branch upper bound.\n",
    "        right.bound = upper_bound(right, max_weight, n_items, VW_values, VW_weights)\n",
    "\n",
    "        # Right branch is considered if left branch is not present, but in general it should not be better than left (state space tree principle).\n",
    "        if right.weight <= max_weight:\n",
    "            if right.value > max_value:\n",
    "                max_value = right.value\n",
    "                best_items = right.items\n",
    "            if right.bound > max_value:\n",
    "                queue.append(right)\n",
    "\n",
    "    taken_items = [0]*n_items\n",
    "    \n",
    "    return best_items, taken_items"
   ]
  },
  {
   "cell_type": "code",
   "execution_count": 6,
   "metadata": {},
   "outputs": [
    {
     "name": "stdout",
     "output_type": "stream",
     "text": [
      "Elapsed time: 0.0092 seconds.\n",
      "Best value:  4.996682595542677\n",
      "Best weight:  2.8953181580761527\n",
      "Difference (value, weight): [4.457322511086659e-09, 1.9238473036864434e-09]\n"
     ]
    }
   ],
   "source": [
    "t.start()\n",
    "best_items, taken_items = run()\n",
    "t.stop()\n",
    "\n",
    "for item_idx in best_items:\n",
    "    taken_items[item_idx-1] = 1\n",
    "best_value = np.sum(VW_values[(np.where(np.array(taken_items) == 1))])\n",
    "best_weight = np.sum(VW_weights[(np.where(np.array(taken_items) == 1))])\n",
    "print(\"Best value: \",best_value)\n",
    "print(\"Best weight: \",best_weight)\n",
    "print(\"Difference (value, weight):\", getDiff(n_items,best_value, best_weight))"
   ]
  },
  {
   "cell_type": "markdown",
   "metadata": {},
   "source": [
    "### Wnioski\n",
    "\n",
    "Algorytm B&B jest dużo wydajniejszym algorytmem przeszukiwania niż metoda Brute Force, a dającym bardzo dobre wyniki. Uzyskany wynik jest równy najlepszemu znanemu w danym problemie. \n",
    "Algorytm ten bardzo dobrze sprawdza się dla małych rozmiarów problemów z niską korelacją waga-wartosć co zostanie przedstawione w dalszej części."
   ]
  }
 ],
 "metadata": {
  "kernelspec": {
   "display_name": "Python 3",
   "language": "python",
   "name": "python3"
  },
  "language_info": {
   "codemirror_mode": {
    "name": "ipython",
    "version": 3
   },
   "file_extension": ".py",
   "mimetype": "text/x-python",
   "name": "python",
   "nbconvert_exporter": "python",
   "pygments_lexer": "ipython3",
   "version": "3.8.5"
  }
 },
 "nbformat": 4,
 "nbformat_minor": 5
}
