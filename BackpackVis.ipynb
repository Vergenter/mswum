{
 "cells": [
  {
   "cell_type": "code",
   "execution_count": 4,
   "id": "5913fd29",
   "metadata": {},
   "outputs": [],
   "source": [
    "import random\n",
    "import numpy as np\n",
    "np.random.seed(seed=1337)\n",
    "max_weight = 10\n",
    "n_items = 32\n",
    "weights =  np.random.rand(n_items)\n",
    "values = np.random.rand(n_items)"
   ]
  },
  {
   "cell_type": "code",
   "execution_count": 13,
   "id": "a53c3569",
   "metadata": {},
   "outputs": [],
   "source": [
    "def encodeNumberHigh(bits):\n",
    "    def f(number):\n",
    "        return [number & 2**x != 0 for x in range(n_items-1,-1,-1)]\n",
    "    return f\n",
    "encodeNumber = encodeNumberHigh(n_items)"
   ]
  },
  {
   "cell_type": "code",
   "execution_count": 25,
   "id": "976dbca5",
   "metadata": {},
   "outputs": [],
   "source": [
    "def scoreFunction(mask, weights=weights,values=values,max_weight=max_weight):\n",
    "    return 0 if max_weight<np.sum(weights[mask]) else np.sum(values[mask])"
   ]
  },
  {
   "cell_type": "code",
   "execution_count": 24,
   "id": "1ffea7e0",
   "metadata": {},
   "outputs": [
    {
     "data": {
      "text/plain": [
       "0.9973891432208869"
      ]
     },
     "execution_count": 24,
     "metadata": {},
     "output_type": "execute_result"
    }
   ],
   "source": []
  },
  {
   "cell_type": "code",
   "execution_count": null,
   "id": "4cec0287",
   "metadata": {},
   "outputs": [],
   "source": []
  }
 ],
 "metadata": {
  "kernelspec": {
   "display_name": "Python 3",
   "language": "python",
   "name": "python3"
  },
  "language_info": {
   "codemirror_mode": {
    "name": "ipython",
    "version": 3
   },
   "file_extension": ".py",
   "mimetype": "text/x-python",
   "name": "python",
   "nbconvert_exporter": "python",
   "pygments_lexer": "ipython3",
   "version": "3.7.10"
  }
 },
 "nbformat": 4,
 "nbformat_minor": 5
}
