{
 "cells": [
  {
   "cell_type": "code",
   "execution_count": 1,
   "metadata": {},
   "outputs": [],
   "source": [
    "%matplotlib inline"
   ]
  },
  {
   "cell_type": "code",
   "execution_count": 28,
   "metadata": {},
   "outputs": [],
   "source": [
    "from KnackpackData import getEncoded,getScores,scoreFunction\n",
    "import matplotlib.pyplot as plt\n",
    "import numpy as np\n",
    "import random"
   ]
  },
  {
   "cell_type": "code",
   "execution_count": 20,
   "metadata": {},
   "outputs": [],
   "source": [
    "def initilization_of_population(size,n_feat):\n",
    "    population = []\n",
    "    for i in range(size):\n",
    "        chromosome = np.ones(n_feat,dtype=np.bool)\n",
    "        chromosome[:int(0.8*n_feat)]=False\n",
    "        np.random.shuffle(chromosome)\n",
    "        population.append(chromosome)\n",
    "    return population"
   ]
  },
  {
   "cell_type": "code",
   "execution_count": 21,
   "metadata": {},
   "outputs": [],
   "source": [
    "def fitness_score(population):\n",
    "    scores = np.array(list(map(scoreFunction, population)))\n",
    "    population = np.array(population)\n",
    "    order = np.argsort(-scores)\n",
    "    return scores[order],population[order]"
   ]
  },
  {
   "cell_type": "markdown",
   "metadata": {},
   "source": [
    "# Change to K-Tournament"
   ]
  },
  {
   "cell_type": "code",
   "execution_count": 22,
   "metadata": {},
   "outputs": [],
   "source": [
    "def selection(pop_after_fit,n_parents):\n",
    "    return np.array(pop_after_fit[:n_parents],copy=True)"
   ]
  },
  {
   "cell_type": "markdown",
   "metadata": {},
   "source": [
    "def crossover(pop_after_sel):\n",
    "    def crossingMethod(index):\n",
    "        point = random.randint(0, len(pop_after_sel[0]))\n",
    "        next_index = (index+1)%len(pop_after_sel)\n",
    "        return np.concatenate((pop_after_sel[index][:point],pop_after_sel[next_index][point:]))\n",
    "    return np.array([crossingMethod(index) for index in range(len(pop_after_sel))])"
   ]
  },
  {
   "cell_type": "markdown",
   "metadata": {},
   "source": [
    "## Change to two point mutation"
   ]
  },
  {
   "cell_type": "code",
   "execution_count": null,
   "metadata": {},
   "outputs": [],
   "source": [
    "def mutation(pop_after_cross,mutation_rate):\n",
    "    mutated_data = np.array([[ (random.random() < mutation_rate) != x for x in chromosome] for chromosome in pop_after_cross])\n",
    "    return np.concatenate((pop_after_cross,mutated_data))"
   ]
  },
  {
   "cell_type": "markdown",
   "metadata": {},
   "source": [
    "## Add max iterations, crossover rate"
   ]
  },
  {
   "cell_type": "code",
   "execution_count": 25,
   "metadata": {},
   "outputs": [],
   "source": [
    "def generations(size,n_feat,n_parents,mutation_rate,n_gen):\n",
    "    best_chromo= []\n",
    "    best_score= []\n",
    "    population_nextgen=initilization_of_population(size,n_feat)\n",
    "    for i in range(n_gen):\n",
    "        scores, pop_after_fit = fitness_score(population_nextgen)\n",
    "        pop_after_sel = selection(pop_after_fit,n_parents)\n",
    "        pop_after_cross = crossover(pop_after_sel)\n",
    "        population_nextgen = mutation(pop_after_cross,mutation_rate)\n",
    "        best_chromo.append(pop_after_fit[0])\n",
    "        best_score.append(scores[0])\n",
    "    return best_chromo,best_score"
   ]
  },
  {
   "cell_type": "code",
   "execution_count": 26,
   "metadata": {},
   "outputs": [],
   "source": [
    "from operator import itemgetter\n",
    "def plotScore(scores,bestindex):\n",
    "    plt.figure(figsize=(8, 6), dpi=80) \n",
    "    plt.plot(scores)\n",
    "    plt.scatter(bestindex, scores[bestindex],color=\"g\",s=50)\n",
    "    plt.annotate(\"best\", (bestindex,scores[bestindex]))\n",
    "    plt.ylabel('scores')\n",
    "    plt.show()\n",
    "    \n",
    "def getBest(chromosomes,scores):\n",
    "    best = max(zip(chromosomes,scores), key=itemgetter(1))\n",
    "    bestindex = scores.index(best[1])\n",
    "    return best,bestindex"
   ]
  },
  {
   "cell_type": "code",
   "execution_count": 34,
   "metadata": {},
   "outputs": [
    {
     "data": {
      "image/png": "[encoded data removed]",
      "text/plain": [
       "<Figure size 640x480 with 1 Axes>"
      ]
     },
     "metadata": {
      "needs_background": "light"
     },
     "output_type": "display_data"
    },
    {
     "name": "stdout",
     "output_type": "stream",
     "text": [
      "Final value[ True  True  True  True  True False False False False  True  True False\n",
      "  True False False  True]=4.996682643890381\n"
     ]
    }
   ],
   "source": [
    "np.random.seed(seed=1337)\n",
    "random.seed(1337)\n",
    "chromo,score=generations(size=100,n_feat=16,n_parents=20,mutation_rate=0.2,\n",
    "                     n_gen=100)\n",
    "best,bestindex = getBest(chromo,score)\n",
    "plotScore(score,bestindex)\n",
    "x = best[0]\n",
    "y = scoreFunction(best[0])\n",
    "print(f\"Final value{x}={y}\")"
   ]
  },
  {
   "cell_type": "code",
   "execution_count": null,
   "metadata": {},
   "outputs": [],
   "source": []
  }
 ],
 "metadata": {
  "kernelspec": {
   "display_name": "Python 3",
   "language": "python",
   "name": "python3"
  },
  "language_info": {
   "codemirror_mode": {
    "name": "ipython",
    "version": 3
   },
   "file_extension": ".py",
   "mimetype": "text/x-python",
   "name": "python",
   "nbconvert_exporter": "python",
   "pygments_lexer": "ipython3",
   "version": "3.7.4"
  }
 },
 "nbformat": 4,
 "nbformat_minor": 5
}
