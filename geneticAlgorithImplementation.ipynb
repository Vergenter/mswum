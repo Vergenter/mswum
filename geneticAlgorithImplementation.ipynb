{
 "cells": [
  {
   "cell_type": "code",
   "execution_count": 1,
   "id": "9cf39b9c-ce8f-4996-88ed-82e022ddb80b",
   "metadata": {},
   "outputs": [],
   "source": [
    "%matplotlib inline"
   ]
  },
  {
   "cell_type": "code",
   "execution_count": 2,
   "id": "c6d1ee4a-b2ce-497c-815d-87a95742b3fa",
   "metadata": {},
   "outputs": [],
   "source": [
    "from KnackpackData import getEncoded,getScores,scoreFunction,n_items\n",
    "import matplotlib.pyplot as plt\n",
    "import numpy as np\n",
    "import random\n",
    "np.random.seed(seed=42)\n",
    "random.seed(a=42)"
   ]
  },
  {
   "cell_type": "markdown",
   "id": "6e8b05ce-8438-4c3d-9bca-4e4d9d8e5b50",
   "metadata": {},
   "source": [
    "## Initial population takes 20% of items"
   ]
  },
  {
   "cell_type": "code",
   "execution_count": 3,
   "id": "7cc46646-ac76-4bf7-ae15-638e07d185bf",
   "metadata": {},
   "outputs": [],
   "source": [
    "def initilization_of_population(size,n_feat):\n",
    "    population = []\n",
    "    for i in range(size):\n",
    "        chromosome = np.ones(n_feat,dtype=np.bool_)\n",
    "        chromosome[:int(0.8*n_feat)]=False\n",
    "        np.random.shuffle(chromosome)\n",
    "        population.append(chromosome)\n",
    "    return np.array(population)"
   ]
  },
  {
   "cell_type": "markdown",
   "id": "d0d683db-25c2-4672-8cc6-89a5226720a2",
   "metadata": {},
   "source": [
    "## Fitness score by value of backpack"
   ]
  },
  {
   "cell_type": "code",
   "execution_count": 4,
   "id": "1e31d922-8240-4f7e-9cfa-84088334af10",
   "metadata": {},
   "outputs": [],
   "source": [
    "from numba import njit\n",
    "\n",
    "@njit(\"float64[::1](boolean[:,::1],float64[::1],float64[::1],float64)\")\n",
    "def fitness_score(population,values,weights,max_weight_loc):\n",
    "    return np.array([-1 if np.sum(weights[gene]) > max_weight_loc else np.sum(values[gene]) for gene in population])\n"
   ]
  },
  {
   "cell_type": "markdown",
   "id": "6c59eb9b-c7e8-4339-bc65-845f6b974d73",
   "metadata": {},
   "source": [
    "## Roulette wheel selection"
   ]
  },
  {
   "cell_type": "code",
   "execution_count": 5,
   "id": "8e8a145d-7c14-4bc7-9821-a0c390c5db3d",
   "metadata": {},
   "outputs": [],
   "source": [
    "def selection(scores,population_nextgen,k,population_size):\n",
    "    return random.choices(population_nextgen, weights = scores, k=population_size)"
   ]
  },
  {
   "cell_type": "markdown",
   "id": "70023d2c-6200-460a-8f14-daf867ee9d29",
   "metadata": {},
   "source": [
    "## Single point crossover"
   ]
  },
  {
   "cell_type": "code",
   "execution_count": 6,
   "id": "e6835d7c-30a2-4e2a-a426-d9efa2c05cfc",
   "metadata": {},
   "outputs": [],
   "source": [
    "def crossover(pop_after_sel,crossover_rate):\n",
    "    def crossingMethod(index):\n",
    "        point = random.randint(0, len(pop_after_sel[0]))\n",
    "        next_index = (index+1)%len(pop_after_sel)\n",
    "        return np.concatenate((pop_after_sel[index][:point],pop_after_sel[next_index][point:]))\n",
    "    childrens = np.array([crossingMethod(index) for index in range(len(pop_after_sel)) if random.random() < crossover_rate])\n",
    "    return np.concatenate((pop_after_sel,childrens))"
   ]
  },
  {
   "cell_type": "markdown",
   "id": "6faf5054-c410-498b-b0a9-60a6873ec4f5",
   "metadata": {},
   "source": [
    "## Bit flip mutation"
   ]
  },
  {
   "cell_type": "code",
   "execution_count": 7,
   "id": "addf6d20-97ac-41e4-86b5-2e6388c5ac89",
   "metadata": {},
   "outputs": [],
   "source": [
    "@njit(\"boolean[:,::1](boolean[:,::1],float64)\")\n",
    "def mutation(pop_after_cross,mutation_rate):\n",
    "    size = pop_after_cross.shape[0]\n",
    "    randoms = np.random.rand(size)\n",
    "    unit_size = pop_after_cross.shape[1]\n",
    "    for i in range(size):\n",
    "        if(randoms[i]<mutation_rate):\n",
    "            j = np.random.randint(0, unit_size)\n",
    "            pop_after_cross[i][j]^=pop_after_cross[i][j]\n",
    "    return pop_after_cross"
   ]
  },
  {
   "cell_type": "markdown",
   "id": "94aede8b-67c2-4469-ad30-d2f159c7d668",
   "metadata": {},
   "source": [
    "## Generation loop with stop conditions:\n",
    "\n",
    "* no change of best score through *max_stale_iterations*\n",
    "\n",
    "*  90% of the population fall within convergence of the fittest individual"
   ]
  },
  {
   "cell_type": "code",
   "execution_count": 8,
   "id": "fd1b9763-92f7-4676-8ba9-88b72ac09df4",
   "metadata": {},
   "outputs": [],
   "source": [
    "from math import isclose\n",
    "def generations(values,weights,max_weight,population_size,n_feat,crossover_rate,mutation_rate,k_tournament,max_iteration,max_stale_iterations):\n",
    "    def pupulation_in_convergence(scores,iteration_best_score):\n",
    "        return sum(isclose(iteration_best_score,score) for score in scores)/scores.size>0.9\n",
    "    alltime_best_score = 0\n",
    "    stale_iteration = 0\n",
    "    stop_reason = \"Reached max_iteration!\"\n",
    "    # fittest does not change\n",
    "    best_chromo= []\n",
    "    best_score= []\n",
    "    population_nextgen=initilization_of_population(population_size,n_feat)\n",
    "    for i in range(max_iteration):\n",
    "        scores = fitness_score(population_nextgen,values,weights,max_weight)\n",
    "\n",
    "        bestIndex = np.argmax(scores)\n",
    "        best_chromo.append(population_nextgen[bestIndex])\n",
    "        best_score.append(scores[bestIndex])\n",
    "        \n",
    "        pop_after_sel = selection(scores,population_nextgen,k_tournament,population_size)\n",
    "        pop_after_cross = crossover(pop_after_sel,crossover_rate)\n",
    "        population_nextgen = mutation(pop_after_cross,mutation_rate)\n",
    "        \n",
    "        if alltime_best_score >= scores[bestIndex]:\n",
    "            stale_iteration+=1\n",
    "        else :\n",
    "            stale_iteration=0\n",
    "            alltime_best_score = scores[bestIndex]\n",
    "        \n",
    "        if stale_iteration>=max_stale_iterations:\n",
    "            stop_reason = \"Reached max_stale_iterations!\"\n",
    "            break\n",
    "        if pupulation_in_convergence(scores,scores[bestIndex]):\n",
    "            stop_reason = \"Pupulation converge in 90%!\"\n",
    "            break\n",
    "      \n",
    "    return best_chromo,best_score,stop_reason"
   ]
  },
  {
   "cell_type": "markdown",
   "id": "0eb8ed33-673d-4da7-9585-aeec2cd29a4a",
   "metadata": {},
   "source": [
    "## Visualization methods"
   ]
  },
  {
   "cell_type": "code",
   "execution_count": 9,
   "id": "44fe9a2c-4275-4bb0-8335-a4c3317efaa2",
   "metadata": {},
   "outputs": [],
   "source": [
    "from operator import itemgetter\n",
    "def plotScore(scores,bestindex):\n",
    "    plt.figure(figsize=(8, 6), dpi=80) \n",
    "    plt.plot(scores)\n",
    "    plt.scatter(bestindex, scores[bestindex],color=\"g\",s=50)\n",
    "    plt.annotate(\"best\", (bestindex,scores[bestindex]))\n",
    "    plt.ylabel('scores')\n",
    "    plt.show()\n",
    "    \n",
    "def getBest(chromosomes,scores):\n",
    "    best = max(zip(chromosomes,scores), key=itemgetter(1))\n",
    "    bestindex = scores.index(best[1])\n",
    "    return best,bestindex"
   ]
  },
  {
   "cell_type": "code",
   "execution_count": 10,
   "id": "aa67c020-cc4a-4183-a986-ee3c09a98913",
   "metadata": {},
   "outputs": [
    {
     "name": "stdout",
     "output_type": "stream",
     "text": [
      "Tests finished: 27/27\r"
     ]
    }
   ],
   "source": [
    "from pandas import DataFrame, read_csv\n",
    "\n",
    "max_weight = 3.0\n",
    "\n",
    "correlation_levels = [\"no\", \"low\", \"high\"]\n",
    "item_counts = list(range(16,25))\n",
    "                  \n",
    "results = np.zeros((len(item_counts), len(correlation_levels)))\n",
    "\n",
    "for i, level in enumerate(correlation_levels):\n",
    "    for j, item_count in enumerate(item_counts):\n",
    "        csv = read_csv(f\"Data//{level}_correlation_{item_count}\")\n",
    "        n_items = csv.shape[0]\n",
    "        values = csv.value.values\n",
    "        weights = csv.weight.values\n",
    "\n",
    "        chromo,score,stop_reason=generations(values,weights,max_weight,population_size=100,n_feat=n_items,crossover_rate=0.1,mutation_rate=0.3,k_tournament=0,max_iteration=100,max_stale_iterations=30)\n",
    "        best,bestindex = getBest(chromo,score)\n",
    "\n",
    "        results[j,i] = score[bestindex]\n",
    "        print(f\"Tests finished: {i*len(item_counts)+j+1}/{len(item_counts)*len(correlation_levels)}\", end=\"\\r\")\n",
    "        "
   ]
  },
  {
   "cell_type": "code",
   "execution_count": 11,
   "id": "c12a8fec-0fcd-4576-b145-98042b025c1e",
   "metadata": {},
   "outputs": [
    {
     "data": {
      "text/html": [
       "<div>\n",
       "<style scoped>\n",
       "    .dataframe tbody tr th:only-of-type {\n",
       "        vertical-align: middle;\n",
       "    }\n",
       "\n",
       "    .dataframe tbody tr th {\n",
       "        vertical-align: top;\n",
       "    }\n",
       "\n",
       "    .dataframe thead th {\n",
       "        text-align: right;\n",
       "    }\n",
       "</style>\n",
       "<table border=\"1\" class=\"dataframe\">\n",
       "  <thead>\n",
       "    <tr style=\"text-align: right;\">\n",
       "      <th></th>\n",
       "      <th>no</th>\n",
       "      <th>low</th>\n",
       "      <th>high</th>\n",
       "    </tr>\n",
       "  </thead>\n",
       "  <tbody>\n",
       "    <tr>\n",
       "      <th>16</th>\n",
       "      <td>3.526899</td>\n",
       "      <td>3.763824</td>\n",
       "      <td>3.852314</td>\n",
       "    </tr>\n",
       "    <tr>\n",
       "      <th>17</th>\n",
       "      <td>3.863341</td>\n",
       "      <td>3.806985</td>\n",
       "      <td>4.265702</td>\n",
       "    </tr>\n",
       "    <tr>\n",
       "      <th>18</th>\n",
       "      <td>5.741662</td>\n",
       "      <td>5.822592</td>\n",
       "      <td>6.009394</td>\n",
       "    </tr>\n",
       "    <tr>\n",
       "      <th>19</th>\n",
       "      <td>4.535790</td>\n",
       "      <td>4.550172</td>\n",
       "      <td>4.891061</td>\n",
       "    </tr>\n",
       "    <tr>\n",
       "      <th>20</th>\n",
       "      <td>3.627446</td>\n",
       "      <td>3.923873</td>\n",
       "      <td>4.152619</td>\n",
       "    </tr>\n",
       "    <tr>\n",
       "      <th>21</th>\n",
       "      <td>5.020398</td>\n",
       "      <td>5.542425</td>\n",
       "      <td>5.162194</td>\n",
       "    </tr>\n",
       "    <tr>\n",
       "      <th>22</th>\n",
       "      <td>4.405996</td>\n",
       "      <td>5.082985</td>\n",
       "      <td>4.876050</td>\n",
       "    </tr>\n",
       "    <tr>\n",
       "      <th>23</th>\n",
       "      <td>6.417301</td>\n",
       "      <td>6.474418</td>\n",
       "      <td>5.558660</td>\n",
       "    </tr>\n",
       "    <tr>\n",
       "      <th>24</th>\n",
       "      <td>5.215149</td>\n",
       "      <td>5.298353</td>\n",
       "      <td>4.907477</td>\n",
       "    </tr>\n",
       "  </tbody>\n",
       "</table>\n",
       "</div>"
      ],
      "text/plain": [
       "          no       low      high\n",
       "16  3.526899  3.763824  3.852314\n",
       "17  3.863341  3.806985  4.265702\n",
       "18  5.741662  5.822592  6.009394\n",
       "19  4.535790  4.550172  4.891061\n",
       "20  3.627446  3.923873  4.152619\n",
       "21  5.020398  5.542425  5.162194\n",
       "22  4.405996  5.082985  4.876050\n",
       "23  6.417301  6.474418  5.558660\n",
       "24  5.215149  5.298353  4.907477"
      ]
     },
     "execution_count": 11,
     "metadata": {},
     "output_type": "execute_result"
    }
   ],
   "source": [
    "df_res = DataFrame(data=results, columns=correlation_levels, index=item_counts)\n",
    "df_res"
   ]
  },
  {
   "cell_type": "code",
   "execution_count": 12,
   "id": "9fc5d1f8-690d-4310-99d9-9194851ab7b6",
   "metadata": {},
   "outputs": [
    {
     "data": {
      "text/plain": [
       "<AxesSubplot:title={'center':'Result for correlated data'}, xlabel='Items', ylabel='Value'>"
      ]
     },
     "execution_count": 12,
     "metadata": {},
     "output_type": "execute_result"
    },
    {
     "data": {
      "image/png": "[encoded data removed]",
      "text/plain": [
       "<Figure size 432x288 with 1 Axes>"
      ]
     },
     "metadata": {
      "needs_background": "light"
     },
     "output_type": "display_data"
    }
   ],
   "source": [
    "df_res.plot(title=\"Result for correlated data\", xlabel=\"Items\", ylabel=\"Value\")"
   ]
  },
  {
   "cell_type": "code",
   "execution_count": 13,
   "id": "1b79ac4f-578d-48fa-a993-a7964b15d63a",
   "metadata": {},
   "outputs": [],
   "source": [
    "df_res.to_csv(\"Results//GA.csv\")"
   ]
  },
  {
   "cell_type": "markdown",
   "id": "8bba95f1-5a34-4528-8823-8bfcabc0e150",
   "metadata": {},
   "source": [
    "## K-Tournament Selection(20)"
   ]
  },
  {
   "cell_type": "code",
   "execution_count": 14,
   "id": "d7be16fa-96e8-496b-bf3b-cd51e387d4e3",
   "metadata": {},
   "outputs": [],
   "source": [
    "def selection(scores,population_nextgen,k,population_size):\n",
    "    def tournament_selection(indices):\n",
    "        return population_nextgen[max(indices,key=lambda index:scores[index])]\n",
    "    return np.array([tournament_selection(random.choices(range(scores.size),k = k)) for _ in range(population_size)])"
   ]
  },
  {
   "cell_type": "markdown",
   "id": "93e63ded-44c3-40d8-8651-eb5a1823c8a9",
   "metadata": {},
   "source": [
    "## Two point mutation"
   ]
  },
  {
   "cell_type": "code",
   "execution_count": 15,
   "id": "73c28795-ddc9-4727-96a1-cc32ac7baa10",
   "metadata": {},
   "outputs": [],
   "source": [
    "@njit(\"boolean[:,::1](boolean[:,::1],float64)\")\n",
    "def mutation(pop_after_cross,mutation_rate):\n",
    "    size = pop_after_cross.shape[0]\n",
    "    randoms = np.random.rand(size)\n",
    "    unit_size = pop_after_cross.shape[1]\n",
    "    for i in range(size):\n",
    "        if(randoms[i]<mutation_rate):\n",
    "            j = np.random.randint(0, unit_size)\n",
    "            k = np.random.randint(0, unit_size)\n",
    "            pop_after_cross[i][j]^=pop_after_cross[i][j]\n",
    "            pop_after_cross[i][k]^=pop_after_cross[i][k]\n",
    "    return pop_after_cross"
   ]
  },
  {
   "cell_type": "markdown",
   "id": "5170b32f-81fa-4851-9e8b-c7a0ffb27a07",
   "metadata": {},
   "source": [
    "## To use with SIMULATED ANNEALING ALGORITHM"
   ]
  },
  {
   "cell_type": "code",
   "execution_count": 16,
   "id": "d6ffc880-466f-4696-9801-c4a39faee1f0",
   "metadata": {},
   "outputs": [],
   "source": [
    "class SimulatedAnnealing:\n",
    "    def __init__(self, initial_temp = 1000, alpha = 0.999, frozen_level = 0.1, n_items = 16, values = [], weights = [], max_weight = 3):\n",
    "        self.initial_temp = initial_temp\n",
    "        self.alpha = alpha\n",
    "        self.frozen_level = frozen_level\n",
    "        self.n_items = n_items\n",
    "        self.values = values\n",
    "        self.weights = weights\n",
    "        self.max_weight = max_weight\n",
    "        self.min_weight = max_weight - 1\n",
    "        \n",
    "    def setInitialValues(self, initial_state = None):\n",
    "        '''Wyzeruj tablice wyników oraz ustaw wartości początkowe.'''\n",
    "        if initial_state is None:\n",
    "            # Stan początkowy jest po prostu pustym plecakiem.\n",
    "            self.initial_state = np.zeros(self.n_items).astype(bool)\n",
    "        else:\n",
    "            self.initial_state = initial_state\n",
    "        self.best_state = self.initial_state\n",
    "        self.current_state = self.initial_state\n",
    "        \n",
    "        self.temperature = self.initial_temp\n",
    "\n",
    "        # Tablice wyników zawierają tylko zerowy stan.\n",
    "        self.scores_table = [np.sum(self.values[self.initial_state])]\n",
    "        self.best_scores_table = [np.sum(self.values[self.initial_state])]\n",
    "        self.best_value_index = 0\n",
    "    \n",
    "    def run(self):\n",
    "        if self.temperature is None:\n",
    "            self.setInitialValues()\n",
    "            \n",
    "        it = 0\n",
    "        while self.temperature > self.frozen_level:\n",
    "            it += 1\n",
    "            # Generate next state\n",
    "            next_state = np.copy(self.current_state)\n",
    "            next_state ^= np.array([np.random.uniform() < self.temperature/self.initial_temp for _ in range(self.n_items)])\n",
    "            next_state = self.drop_or_add_items(next_state)\n",
    "    \n",
    "            self.scores_table.append(np.sum(self.values[next_state]))\n",
    "\n",
    "            if np.sum(self.values[next_state]) > np.sum(self.values[self.current_state]):\n",
    "                # If next state is better than current - set this state as current\n",
    "                self.current_state = np.copy(next_state)\n",
    "\n",
    "                # If new state is better than the best - set this state as best\n",
    "                if self.fitness():\n",
    "                    self.best_state = np.copy(self.current_state)\n",
    "                    self.best_value_index = it\n",
    "                    self.best_scores_table.append(np.sum(self.values[self.best_state]))\n",
    "            else:\n",
    "                # If the new solution is not better, accept it with a probability of e^(-delta/temp)\n",
    "                acceptance_function = np.exp(-(1.0/np.sum(self.values[next_state]) - 1.0/np.sum(self.values[self.current_state])) / self.temperature)\n",
    "                if acceptance_function > random.uniform(0, 1):\n",
    "                    self.current_state = np.copy(next_state)\n",
    "\n",
    "            self.temperature *= self.alpha\n",
    "        \n",
    "    def fitness(self):\n",
    "        return np.sum(self.values[self.current_state]) > np.sum(self.values[self.best_state])\n",
    "        \n",
    "    def drop_or_add_items(self, next_state):\n",
    "        while np.sum(self.weights[next_state]) < self.min_weight:\n",
    "            idx = random.choice(np.where(next_state==False)[0])\n",
    "            next_state[idx] = True\n",
    "        \n",
    "        while np.sum(self.weights[next_state]) > self.max_weight:\n",
    "            idx = random.choice(np.where(next_state==True)[0])\n",
    "            next_state[idx] = False\n",
    "            \n",
    "        return next_state\n",
    "        \n",
    "        \n",
    "    def results(self):\n",
    "        best_value = np.sum(self.values[self.best_state])\n",
    "        best_weight = np.sum(self.weights[self.best_state])\n",
    "#         print(\"Best value: \",best_value)\n",
    "#         print(\"Best weight: \",best_weight)\n",
    "#         print(\"Difference (value, weight):\", getDiff(n_items,best_value, best_weight))\n",
    "        return best_value\n",
    "\n",
    "    def getBest(self):\n",
    "        return self.best_state\n",
    "        \n",
    "    def plot_results(self, plot = 'best_of_all'):\n",
    "        if plot == 'best_of_all':\n",
    "            plt.figure(figsize=(16, 12), dpi=80)\n",
    "            plt.scatter(self.best_value_index, np.array(self.scores_table)[self.best_value_index], color=\"r\", s=200, zorder=2)\n",
    "            plt.plot(np.arange(np.array(self.scores_table).size), np.array(self.scores_table), color=\"b\", zorder=1)\n",
    "            plt.title('Value changes')\n",
    "        elif plot == 'best_changes':\n",
    "            plt.figure(figsize=(16, 12), dpi=80)\n",
    "            plt.plot(np.arange(np.array(self.best_scores_table).size), np.array(self.best_scores_table), color=\"b\")\n",
    "            plt.title('Best results changes')\n",
    "            \n",
    "        plt.ylabel('Value')\n",
    "        plt.xlabel('Iteration')\n",
    "        plt.show()"
   ]
  },
  {
   "cell_type": "code",
   "execution_count": 17,
   "id": "f639d7cf-ab00-477e-8ecd-fdfe5056a439",
   "metadata": {},
   "outputs": [],
   "source": [
    "from math import isclose\n",
    "def generations(values,weights,max_weight,population_size,n_feat,crossover_rate,mutation_rate,k_tournament,max_iteration,max_stale_iterations):\n",
    "    def pupulation_in_convergence(scores,iteration_best_score):\n",
    "        return sum(isclose(iteration_best_score,score) for score in scores)/scores.size>0.9\n",
    "    alltime_best_score = 0\n",
    "    stale_iteration = 0\n",
    "    stop_reason = \"Reached max_iteration!\"\n",
    "    # fittest does not change\n",
    "    best_chromo= []\n",
    "    best_score= []\n",
    "    population_nextgen=initilization_of_population(population_size,n_feat)\n",
    "    for i in range(max_iteration):\n",
    "        scores = fitness_score(population_nextgen,values,weights,max_weight)\n",
    "        bestIndex = np.argmax(scores)\n",
    "        \n",
    "        SA = SimulatedAnnealing(2100, 0.96, 0.0001, n_feat, values, weights, max_weight)\n",
    "        SA.setInitialValues(population_nextgen[bestIndex])\n",
    "        SA.run()\n",
    "        population_nextgen[bestIndex] = SA.getBest()\n",
    "\n",
    "        scores = fitness_score(population_nextgen,values,weights,max_weight)\n",
    "        bestIndex = np.argmax(scores)\n",
    "\n",
    "        best_chromo.append(population_nextgen[bestIndex])\n",
    "        best_score.append(scores[bestIndex])\n",
    "        \n",
    "        pop_after_sel = selection(scores,population_nextgen,k_tournament,population_size)\n",
    "        pop_after_cross = crossover(pop_after_sel,crossover_rate)\n",
    "        population_nextgen = mutation(pop_after_cross,mutation_rate)\n",
    "        \n",
    "        if alltime_best_score >= scores[bestIndex]:\n",
    "            stale_iteration+=1\n",
    "        else :\n",
    "            stale_iteration=0\n",
    "            alltime_best_score = scores[bestIndex]\n",
    "        \n",
    "        if stale_iteration>=max_stale_iterations:\n",
    "            stop_reason = \"Reached max_stale_iterations!\"\n",
    "            break\n",
    "        if pupulation_in_convergence(scores,scores[bestIndex]):\n",
    "            stop_reason = \"Pupulation converge in 90%!\"\n",
    "            break\n",
    "  \n",
    "    return best_chromo,best_score,stop_reason"
   ]
  },
  {
   "cell_type": "code",
   "execution_count": 18,
   "id": "f0c1234a-1768-4730-996e-5f82ae44bf2d",
   "metadata": {},
   "outputs": [
    {
     "name": "stdout",
     "output_type": "stream",
     "text": [
      "Pupulation converge in 90%!\n"
     ]
    },
    {
     "data": {
      "image/png": "[encoded data removed]",
      "text/plain": [
       "<Figure size 640x480 with 1 Axes>"
      ]
     },
     "metadata": {
      "needs_background": "light"
     },
     "output_type": "display_data"
    },
    {
     "name": "stdout",
     "output_type": "stream",
     "text": [
      "Final value[False  True  True False  True  True False False False False False False\n",
      "  True False False  True False False  True False False  True False False]=2.506648302078247\n"
     ]
    }
   ],
   "source": [
    "chromo,score,stop_reason=generations(values,weights,max_weight,population_size=100,n_feat=n_items,crossover_rate=0.8,mutation_rate=0.2,k_tournament=20,max_iteration=100,max_stale_iterations=7)\n",
    "print(stop_reason)\n",
    "best,bestindex = getBest(chromo,score)\n",
    "plotScore(score,bestindex)\n",
    "x = best[0]\n",
    "y = scoreFunction(best[0])\n",
    "print(f\"Final value{x}={y}\")"
   ]
  },
  {
   "cell_type": "code",
   "execution_count": 19,
   "id": "8cf07d0c-feeb-43fd-bad4-5bd52a0b47d8",
   "metadata": {},
   "outputs": [
    {
     "name": "stdout",
     "output_type": "stream",
     "text": [
      "Tests finished: 27/27\r"
     ]
    }
   ],
   "source": [
    "# from pandas import DataFrame, read_csv\n",
    "\n",
    "max_weight = 3.0\n",
    "\n",
    "correlation_levels = [\"no\", \"low\", \"high\"]\n",
    "item_counts = list(range(16,25))\n",
    "                  \n",
    "results = np.zeros((len(item_counts), len(correlation_levels)))\n",
    "\n",
    "for i, level in enumerate(correlation_levels):\n",
    "    for j, item_count in enumerate(item_counts):\n",
    "        csv = read_csv(f\"Data//{level}_correlation_{item_count}\")\n",
    "        n_items = csv.shape[0]\n",
    "        values = csv.value.values\n",
    "        weights = csv.weight.values\n",
    "\n",
    "        chromo,score,stop_reason=generations(values,weights,max_weight,population_size=100,n_feat=n_items,crossover_rate=0.8,mutation_rate=0.2,k_tournament=20,max_iteration=100,max_stale_iterations=7)\n",
    "        best,bestindex = getBest(chromo,score)\n",
    "\n",
    "        results[j,i] = score[bestindex]\n",
    "        print(f\"Tests finished: {i*len(item_counts)+j+1}/{len(item_counts)*len(correlation_levels)}\", end=\"\\r\")\n",
    "        "
   ]
  },
  {
   "cell_type": "code",
   "execution_count": 20,
   "id": "20df64f8-d6c4-4617-a110-78d7896a7836",
   "metadata": {},
   "outputs": [
    {
     "data": {
      "text/html": [
       "<div>\n",
       "<style scoped>\n",
       "    .dataframe tbody tr th:only-of-type {\n",
       "        vertical-align: middle;\n",
       "    }\n",
       "\n",
       "    .dataframe tbody tr th {\n",
       "        vertical-align: top;\n",
       "    }\n",
       "\n",
       "    .dataframe thead th {\n",
       "        text-align: right;\n",
       "    }\n",
       "</style>\n",
       "<table border=\"1\" class=\"dataframe\">\n",
       "  <thead>\n",
       "    <tr style=\"text-align: right;\">\n",
       "      <th></th>\n",
       "      <th>no</th>\n",
       "      <th>low</th>\n",
       "      <th>high</th>\n",
       "    </tr>\n",
       "  </thead>\n",
       "  <tbody>\n",
       "    <tr>\n",
       "      <th>16</th>\n",
       "      <td>4.126425</td>\n",
       "      <td>4.397206</td>\n",
       "      <td>4.732835</td>\n",
       "    </tr>\n",
       "    <tr>\n",
       "      <th>17</th>\n",
       "      <td>4.672113</td>\n",
       "      <td>4.690164</td>\n",
       "      <td>5.049306</td>\n",
       "    </tr>\n",
       "    <tr>\n",
       "      <th>18</th>\n",
       "      <td>6.961860</td>\n",
       "      <td>8.001151</td>\n",
       "      <td>7.001266</td>\n",
       "    </tr>\n",
       "    <tr>\n",
       "      <th>19</th>\n",
       "      <td>5.429757</td>\n",
       "      <td>5.682193</td>\n",
       "      <td>4.966760</td>\n",
       "    </tr>\n",
       "    <tr>\n",
       "      <th>20</th>\n",
       "      <td>4.545263</td>\n",
       "      <td>4.990171</td>\n",
       "      <td>4.996331</td>\n",
       "    </tr>\n",
       "    <tr>\n",
       "      <th>21</th>\n",
       "      <td>5.413993</td>\n",
       "      <td>6.289755</td>\n",
       "      <td>5.739596</td>\n",
       "    </tr>\n",
       "    <tr>\n",
       "      <th>22</th>\n",
       "      <td>5.275421</td>\n",
       "      <td>5.458711</td>\n",
       "      <td>5.077030</td>\n",
       "    </tr>\n",
       "    <tr>\n",
       "      <th>23</th>\n",
       "      <td>6.718099</td>\n",
       "      <td>7.068979</td>\n",
       "      <td>6.216282</td>\n",
       "    </tr>\n",
       "    <tr>\n",
       "      <th>24</th>\n",
       "      <td>5.080335</td>\n",
       "      <td>6.157006</td>\n",
       "      <td>5.444806</td>\n",
       "    </tr>\n",
       "  </tbody>\n",
       "</table>\n",
       "</div>"
      ],
      "text/plain": [
       "          no       low      high\n",
       "16  4.126425  4.397206  4.732835\n",
       "17  4.672113  4.690164  5.049306\n",
       "18  6.961860  8.001151  7.001266\n",
       "19  5.429757  5.682193  4.966760\n",
       "20  4.545263  4.990171  4.996331\n",
       "21  5.413993  6.289755  5.739596\n",
       "22  5.275421  5.458711  5.077030\n",
       "23  6.718099  7.068979  6.216282\n",
       "24  5.080335  6.157006  5.444806"
      ]
     },
     "execution_count": 20,
     "metadata": {},
     "output_type": "execute_result"
    }
   ],
   "source": [
    "df_res = DataFrame(data=results, columns=correlation_levels, index=item_counts)\n",
    "df_res"
   ]
  },
  {
   "cell_type": "code",
   "execution_count": 21,
   "id": "201fc856-31d4-46cc-965f-ba4f7c77c8bf",
   "metadata": {},
   "outputs": [
    {
     "data": {
      "text/plain": [
       "<AxesSubplot:title={'center':'Result for correlated data'}, xlabel='Items', ylabel='Value'>"
      ]
     },
     "execution_count": 21,
     "metadata": {},
     "output_type": "execute_result"
    },
    {
     "data": {
      "image/png": "[encoded data removed]",
      "text/plain": [
       "<Figure size 432x288 with 1 Axes>"
      ]
     },
     "metadata": {
      "needs_background": "light"
     },
     "output_type": "display_data"
    }
   ],
   "source": [
    "df_res.plot(title=\"Result for correlated data\", xlabel=\"Items\", ylabel=\"Value\")"
   ]
  },
  {
   "cell_type": "code",
   "execution_count": 22,
   "id": "244def86-bdab-40f9-87ea-8e604d8e3d94",
   "metadata": {},
   "outputs": [],
   "source": [
    "df_res.to_csv(\"Results//SAGA.csv\")"
   ]
  },
  {
   "cell_type": "markdown",
   "id": "c481030a-f9ab-4f4f-ae57-1a0b0bc0d026",
   "metadata": {},
   "source": [
    "## Wynik \n",
    "Wynik to maksimum globalne"
   ]
  },
  {
   "cell_type": "code",
   "execution_count": null,
   "id": "be8b3a77-3895-4fdf-ae90-790dd5c91a01",
   "metadata": {},
   "outputs": [],
   "source": []
  }
 ],
 "metadata": {
  "kernelspec": {
   "display_name": "Python 3",
   "language": "python",
   "name": "python3"
  },
  "language_info": {
   "codemirror_mode": {
    "name": "ipython",
    "version": 3
   },
   "file_extension": ".py",
   "mimetype": "text/x-python",
   "name": "python",
   "nbconvert_exporter": "python",
   "pygments_lexer": "ipython3",
   "version": "3.8.5"
  }
 },
 "nbformat": 4,
 "nbformat_minor": 5
}
