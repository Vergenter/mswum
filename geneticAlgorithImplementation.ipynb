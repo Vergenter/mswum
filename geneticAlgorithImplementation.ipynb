{
 "cells": [
  {
   "cell_type": "code",
   "execution_count": 1,
   "metadata": {},
   "outputs": [],
   "source": [
    "%matplotlib inline"
   ]
  },
  {
   "cell_type": "code",
   "execution_count": 2,
   "metadata": {},
   "outputs": [],
   "source": [
    "from KnackpackData import getEncoded,getScores,scoreFunction,n_items\n",
    "import matplotlib.pyplot as plt\n",
    "import numpy as np\n",
    "import random\n",
    "np.random.seed(seed=42)\n",
    "random.seed(a=42)"
   ]
  },
  {
   "cell_type": "markdown",
   "metadata": {},
   "source": [
    "## Initial population takes 20% of items"
   ]
  },
  {
   "cell_type": "code",
   "execution_count": 3,
   "metadata": {},
   "outputs": [],
   "source": [
    "def initilization_of_population(size,n_feat):\n",
    "    population = []\n",
    "    for i in range(size):\n",
    "        chromosome = np.ones(n_feat,dtype=np.bool_)\n",
    "        chromosome[:int(0.8*n_feat)]=False\n",
    "        np.random.shuffle(chromosome)\n",
    "        population.append(chromosome)\n",
    "    return np.array(population)"
   ]
  },
  {
   "cell_type": "markdown",
   "metadata": {},
   "source": [
    "## Fitness score by value of backpack"
   ]
  },
  {
   "cell_type": "code",
   "execution_count": 4,
   "metadata": {},
   "outputs": [],
   "source": [
    "from numba import njit\n",
    "\n",
    "@njit(\"float64[::1](boolean[:,::1],float64[::1],float64[::1],float64)\")\n",
    "def fitness_score(population,values,weights,max_weight_loc):\n",
    "    return np.array([-1 if np.sum(weights[gene]) > max_weight_loc else np.sum(values[gene]) for gene in population])\n"
   ]
  },
  {
   "cell_type": "markdown",
   "metadata": {},
   "source": [
    "## Roulette wheel selection"
   ]
  },
  {
   "cell_type": "code",
   "execution_count": 5,
   "metadata": {},
   "outputs": [],
   "source": [
    "def selection(scores,population_nextgen,k,population_size):\n",
    "    return random.choices(population_nextgen, weights = scores, k=population_size)"
   ]
  },
  {
   "cell_type": "markdown",
   "metadata": {},
   "source": [
    "## Single point crossover"
   ]
  },
  {
   "cell_type": "code",
   "execution_count": 6,
   "metadata": {},
   "outputs": [],
   "source": [
    "def crossover(pop_after_sel,crossover_rate):\n",
    "    def crossingMethod(index):\n",
    "        point = random.randint(0, len(pop_after_sel[0]))\n",
    "        next_index = (index+1)%len(pop_after_sel)\n",
    "        return np.concatenate((pop_after_sel[index][:point],pop_after_sel[next_index][point:]))\n",
    "    childrens = np.array([crossingMethod(index) for index in range(len(pop_after_sel)) if random.random() < crossover_rate])\n",
    "    return np.concatenate((pop_after_sel,childrens))"
   ]
  },
  {
   "cell_type": "markdown",
   "metadata": {},
   "source": [
    "## Bit flip mutation"
   ]
  },
  {
   "cell_type": "code",
   "execution_count": 7,
   "metadata": {},
   "outputs": [],
   "source": [
    "@njit(\"boolean[:,::1](boolean[:,::1],float64)\")\n",
    "def mutation(pop_after_cross,mutation_rate):\n",
    "    size = pop_after_cross.shape[0]\n",
    "    randoms = np.random.rand(size)\n",
    "    unit_size = pop_after_cross.shape[1]\n",
    "    for i in range(size):\n",
    "        if(randoms[i]<mutation_rate):\n",
    "            j = np.random.randint(0, unit_size)\n",
    "            pop_after_cross[i][j]^=pop_after_cross[i][j]\n",
    "    return pop_after_cross"
   ]
  },
  {
   "cell_type": "markdown",
   "metadata": {},
   "source": [
    "## Generation loop with stop conditions:\n",
    "\n",
    "* no change of best score through *max_stale_iterations*\n",
    "\n",
    "*  90% of the population fall within convergence of the fittest individual"
   ]
  },
  {
   "cell_type": "code",
   "execution_count": 8,
   "metadata": {},
   "outputs": [],
   "source": [
    "from math import isclose\n",
    "def generations(values,weights,max_weight,population_size,n_feat,crossover_rate,mutation_rate,k_tournament,max_iteration,max_stale_iterations):\n",
    "    def pupulation_in_convergence(scores,iteration_best_score):\n",
    "        return sum(isclose(iteration_best_score,score) for score in scores)/scores.size>0.9\n",
    "    alltime_best_score = 0\n",
    "    stale_iteration = 0\n",
    "    stop_reason = \"Reached max_iteration!\"\n",
    "    # fittest does not change\n",
    "    best_chromo= []\n",
    "    best_score= []\n",
    "    population_nextgen=initilization_of_population(population_size,n_feat)\n",
    "    for i in range(max_iteration):\n",
    "        scores = fitness_score(population_nextgen,values,weights,max_weight)\n",
    "\n",
    "        bestIndex = np.argmax(scores)\n",
    "        best_chromo.append(population_nextgen[bestIndex])\n",
    "        best_score.append(scores[bestIndex])\n",
    "        \n",
    "        pop_after_sel = selection(scores,population_nextgen,k_tournament,population_size)\n",
    "        pop_after_cross = crossover(pop_after_sel,crossover_rate)\n",
    "        population_nextgen = mutation(pop_after_cross,mutation_rate)\n",
    "        \n",
    "        if alltime_best_score >= scores[bestIndex]:\n",
    "            stale_iteration+=1\n",
    "        else :\n",
    "            stale_iteration=0\n",
    "            alltime_best_score = scores[bestIndex]\n",
    "        \n",
    "        if stale_iteration>=max_stale_iterations:\n",
    "            stop_reason = \"Reached max_stale_iterations!\"\n",
    "            break\n",
    "        if pupulation_in_convergence(scores,scores[bestIndex]):\n",
    "            stop_reason = \"Pupulation converge in 90%!\"\n",
    "            break\n",
    "      \n",
    "    return best_chromo,best_score,stop_reason"
   ]
  },
  {
   "cell_type": "markdown",
   "metadata": {},
   "source": [
    "## Visualization methods"
   ]
  },
  {
   "cell_type": "code",
   "execution_count": 9,
   "metadata": {},
   "outputs": [],
   "source": [
    "from operator import itemgetter\n",
    "def plotScore(scores,bestindex):\n",
    "    plt.figure(figsize=(8, 6), dpi=80) \n",
    "    plt.plot(scores)\n",
    "    plt.scatter(bestindex, scores[bestindex],color=\"g\",s=50)\n",
    "    plt.annotate(\"best\", (bestindex,scores[bestindex]))\n",
    "    plt.ylabel('scores')\n",
    "    plt.show()\n",
    "    \n",
    "def getBest(chromosomes,scores):\n",
    "    best = max(zip(chromosomes,scores), key=itemgetter(1))\n",
    "    bestindex = scores.index(best[1])\n",
    "    return best,bestindex"
   ]
  },
  {
   "cell_type": "code",
   "execution_count": 10,
   "metadata": {},
   "outputs": [
    {
     "name": "stdout",
     "output_type": "stream",
     "text": [
      "Tests finished: 27/27\r"
     ]
    }
   ],
   "source": [
    "from pandas import DataFrame, read_csv\n",
    "\n",
    "max_weight = 3.0\n",
    "\n",
    "correlation_levels = [\"no\", \"low\", \"high\"]\n",
    "item_counts = list(range(16,25))\n",
    "                  \n",
    "results = np.zeros((len(item_counts), len(correlation_levels)))\n",
    "\n",
    "for i, level in enumerate(correlation_levels):\n",
    "    for j, item_count in enumerate(item_counts):\n",
    "        csv = read_csv(f\"data//{level}_correlation_{item_count}\")\n",
    "        n_items = csv.shape[0]\n",
    "        values = csv.value.values\n",
    "        weights = csv.weight.values\n",
    "\n",
    "        chromo,score,stop_reason=generations(values,weights,max_weight,population_size=100,n_feat=n_items,crossover_rate=0.1,mutation_rate=0.3,k_tournament=0,max_iteration=100,max_stale_iterations=30)\n",
    "        best,bestindex = getBest(chromo,score)\n",
    "\n",
    "        results[j,i] = score[bestindex]\n",
    "        print(f\"Tests finished: {i*len(item_counts)+j+1}/{len(item_counts)*len(correlation_levels)}\", end=\"\\r\")\n",
    "        "
   ]
  },
  {
   "cell_type": "code",
   "execution_count": 11,
   "metadata": {},
   "outputs": [
    {
     "data": {
      "text/html": [
       "<div>\n",
       "<style scoped>\n",
       "    .dataframe tbody tr th:only-of-type {\n",
       "        vertical-align: middle;\n",
       "    }\n",
       "\n",
       "    .dataframe tbody tr th {\n",
       "        vertical-align: top;\n",
       "    }\n",
       "\n",
       "    .dataframe thead th {\n",
       "        text-align: right;\n",
       "    }\n",
       "</style>\n",
       "<table border=\"1\" class=\"dataframe\">\n",
       "  <thead>\n",
       "    <tr style=\"text-align: right;\">\n",
       "      <th></th>\n",
       "      <th>no</th>\n",
       "      <th>low</th>\n",
       "      <th>high</th>\n",
       "    </tr>\n",
       "  </thead>\n",
       "  <tbody>\n",
       "    <tr>\n",
       "      <th>16</th>\n",
       "      <td>3.377188</td>\n",
       "      <td>3.692157</td>\n",
       "      <td>3.880483</td>\n",
       "    </tr>\n",
       "    <tr>\n",
       "      <th>17</th>\n",
       "      <td>3.782639</td>\n",
       "      <td>3.887430</td>\n",
       "      <td>4.551726</td>\n",
       "    </tr>\n",
       "    <tr>\n",
       "      <th>18</th>\n",
       "      <td>6.200920</td>\n",
       "      <td>5.990915</td>\n",
       "      <td>4.756207</td>\n",
       "    </tr>\n",
       "    <tr>\n",
       "      <th>19</th>\n",
       "      <td>4.696418</td>\n",
       "      <td>5.085308</td>\n",
       "      <td>4.943767</td>\n",
       "    </tr>\n",
       "    <tr>\n",
       "      <th>20</th>\n",
       "      <td>4.069551</td>\n",
       "      <td>4.221106</td>\n",
       "      <td>4.438831</td>\n",
       "    </tr>\n",
       "    <tr>\n",
       "      <th>21</th>\n",
       "      <td>5.961402</td>\n",
       "      <td>5.532199</td>\n",
       "      <td>4.787652</td>\n",
       "    </tr>\n",
       "    <tr>\n",
       "      <th>22</th>\n",
       "      <td>4.522730</td>\n",
       "      <td>5.057083</td>\n",
       "      <td>5.390234</td>\n",
       "    </tr>\n",
       "    <tr>\n",
       "      <th>23</th>\n",
       "      <td>5.637815</td>\n",
       "      <td>5.496954</td>\n",
       "      <td>4.955752</td>\n",
       "    </tr>\n",
       "    <tr>\n",
       "      <th>24</th>\n",
       "      <td>5.604005</td>\n",
       "      <td>5.407615</td>\n",
       "      <td>5.138602</td>\n",
       "    </tr>\n",
       "  </tbody>\n",
       "</table>\n",
       "</div>"
      ],
      "text/plain": [
       "          no       low      high\n",
       "16  3.377188  3.692157  3.880483\n",
       "17  3.782639  3.887430  4.551726\n",
       "18  6.200920  5.990915  4.756207\n",
       "19  4.696418  5.085308  4.943767\n",
       "20  4.069551  4.221106  4.438831\n",
       "21  5.961402  5.532199  4.787652\n",
       "22  4.522730  5.057083  5.390234\n",
       "23  5.637815  5.496954  4.955752\n",
       "24  5.604005  5.407615  5.138602"
      ]
     },
     "execution_count": 11,
     "metadata": {},
     "output_type": "execute_result"
    }
   ],
   "source": [
    "df_res = DataFrame(data=results, columns=correlation_levels, index=item_counts)\n",
    "df_res"
   ]
  },
  {
   "cell_type": "code",
   "execution_count": 12,
   "metadata": {},
   "outputs": [
    {
     "data": {
      "text/plain": [
       "<AxesSubplot:title={'center':'Result for correlated data'}, xlabel='Items', ylabel='Value'>"
      ]
     },
     "execution_count": 12,
     "metadata": {},
     "output_type": "execute_result"
    },
    {
     "data": {
      "image/png": "[encoded data removed]",
      "text/plain": [
       "<Figure size 432x288 with 1 Axes>"
      ]
     },
     "metadata": {
      "needs_background": "light"
     },
     "output_type": "display_data"
    }
   ],
   "source": [
    "df_res.plot(title=\"Result for correlated data\", xlabel=\"Items\", ylabel=\"Value\")"
   ]
  },
  {
   "cell_type": "code",
   "execution_count": 13,
   "metadata": {},
   "outputs": [],
   "source": [
    "df_res.to_csv(\"Results\\\\GA.csv\")"
   ]
  },
  {
   "cell_type": "markdown",
   "metadata": {},
   "source": [
    "## K-Tournament Selection(20)"
   ]
  },
  {
   "cell_type": "code",
   "execution_count": 14,
   "metadata": {},
   "outputs": [],
   "source": [
    "def selection(scores,population_nextgen,k,population_size):\n",
    "    def tournament_selection(indices):\n",
    "        return population_nextgen[max(indices,key=lambda index:scores[index])]\n",
    "    return np.array([tournament_selection(random.choices(range(scores.size),k = k)) for _ in range(population_size)])"
   ]
  },
  {
   "cell_type": "markdown",
   "metadata": {},
   "source": [
    "## Two point mutation"
   ]
  },
  {
   "cell_type": "code",
   "execution_count": 15,
   "metadata": {},
   "outputs": [],
   "source": [
    "@njit(\"boolean[:,::1](boolean[:,::1],float64)\")\n",
    "def mutation(pop_after_cross,mutation_rate):\n",
    "    size = pop_after_cross.shape[0]\n",
    "    randoms = np.random.rand(size)\n",
    "    unit_size = pop_after_cross.shape[1]\n",
    "    for i in range(size):\n",
    "        if(randoms[i]<mutation_rate):\n",
    "            j = np.random.randint(0, unit_size)\n",
    "            k = np.random.randint(0, unit_size)\n",
    "            pop_after_cross[i][j]^=pop_after_cross[i][j]\n",
    "            pop_after_cross[i][k]^=pop_after_cross[i][k]\n",
    "    return pop_after_cross"
   ]
  },
  {
   "cell_type": "markdown",
   "metadata": {},
   "source": [
    "## To use with SIMULATED ANNEALING ALGORITHM"
   ]
  },
  {
   "cell_type": "code",
   "execution_count": 16,
   "metadata": {},
   "outputs": [],
   "source": [
    "class SimulatedAnnealing:\n",
    "    def __init__(self, initial_temp = 1000, alpha = 0.999, frozen_level = 0.1, n_items = 16, values = [], weights = [], max_weight = 3):\n",
    "        self.initial_temp = initial_temp\n",
    "        self.alpha = alpha\n",
    "        self.frozen_level = frozen_level\n",
    "        self.n_items = n_items\n",
    "        self.values = values\n",
    "        self.weights = weights\n",
    "        self.max_weight = max_weight\n",
    "        self.min_weight = max_weight - 1\n",
    "        \n",
    "    def setInitialValues(self, initial_state = None):\n",
    "        '''Wyzeruj tablice wyników oraz ustaw wartości początkowe.'''\n",
    "        if initial_state is None:\n",
    "            # Stan początkowy jest po prostu pustym plecakiem.\n",
    "            self.initial_state = np.zeros(self.n_items).astype(bool)\n",
    "        else:\n",
    "            self.initial_state = initial_state\n",
    "        self.best_state = self.initial_state\n",
    "        self.current_state = self.initial_state\n",
    "        \n",
    "        self.temperature = self.initial_temp\n",
    "\n",
    "        # Tablice wyników zawierają tylko zerowy stan.\n",
    "        self.scores_table = [np.sum(self.values[self.initial_state])]\n",
    "        self.best_scores_table = [np.sum(self.values[self.initial_state])]\n",
    "        self.best_value_index = 0\n",
    "    \n",
    "    def run(self):\n",
    "        if self.temperature is None:\n",
    "            self.setInitialValues()\n",
    "            \n",
    "        it = 0\n",
    "        while self.temperature > self.frozen_level:\n",
    "            it += 1\n",
    "            # Generate next state\n",
    "            next_state = np.copy(self.current_state)\n",
    "            next_state ^= np.array([np.random.uniform() < self.temperature/self.initial_temp for _ in range(self.n_items)])\n",
    "            next_state = self.drop_or_add_items(next_state)\n",
    "    \n",
    "            self.scores_table.append(np.sum(self.values[next_state]))\n",
    "            # Calculate delta (if next state is better than current)\n",
    "            delta = np.sum(self.values[next_state]) - np.sum(self.values[self.current_state])\n",
    "\n",
    "            if delta > 0:\n",
    "                # If next state is better than current - set this state as current\n",
    "                self.current_state = np.copy(next_state)\n",
    "\n",
    "                # If new state is better than the best - set this state as best\n",
    "                if self.fitness():\n",
    "                    self.best_state = np.copy(self.current_state)\n",
    "                    self.best_value_index = it\n",
    "                    self.best_scores_table.append(np.sum(self.values[self.best_state]))\n",
    "            else:\n",
    "                # If the new solution is not better, accept it with a probability of e^(-delta/temp)\n",
    "                acceptance_function = np.exp(-np.abs(delta)*10 / self.temperature)\n",
    "                if acceptance_function > random.uniform(0, 1):\n",
    "                    self.current_state = np.copy(next_state)\n",
    "\n",
    "            self.temperature *= self.alpha\n",
    "        \n",
    "    def fitness(self):\n",
    "        return np.sum(self.values[self.current_state]) > np.sum(self.values[self.best_state])\n",
    "        \n",
    "    def drop_or_add_items(self, next_state):\n",
    "        while np.sum(self.weights[next_state]) < self.min_weight:\n",
    "            idx = random.choice(np.where(next_state==False)[0])\n",
    "            next_state[idx] = True\n",
    "        \n",
    "        while np.sum(self.weights[next_state]) > self.max_weight:\n",
    "            idx = random.choice(np.where(next_state==True)[0])\n",
    "            next_state[idx] = False\n",
    "            \n",
    "        return next_state\n",
    "        \n",
    "        \n",
    "    def results(self):\n",
    "        best_value = np.sum(self.values[self.best_state])\n",
    "        best_weight = np.sum(self.weights[self.best_state])\n",
    "#         print(\"Best value: \",best_value)\n",
    "#         print(\"Best weight: \",best_weight)\n",
    "#         print(\"Difference (value, weight):\", getDiff(n_items,best_value, best_weight))\n",
    "        return best_value\n",
    "\n",
    "    def getBest(self):\n",
    "        return self.best_state\n",
    "        \n",
    "    def plot_results(self, plot = 'best_of_all'):\n",
    "        if plot == 'best_of_all':\n",
    "            plt.figure(figsize=(16, 12), dpi=80)\n",
    "            plt.scatter(self.best_value_index, np.array(self.scores_table)[self.best_value_index], color=\"r\", s=200, zorder=2)\n",
    "            plt.plot(np.arange(np.array(self.scores_table).size), np.array(self.scores_table), color=\"b\", zorder=1)\n",
    "            plt.title('Value changes')\n",
    "        elif plot == 'best_changes':\n",
    "            plt.figure(figsize=(16, 12), dpi=80)\n",
    "            plt.plot(np.arange(np.array(self.best_scores_table).size), np.array(self.best_scores_table), color=\"b\")\n",
    "            plt.title('Best results changes')\n",
    "            \n",
    "        plt.ylabel('Value')\n",
    "        plt.xlabel('Iteration')\n",
    "        plt.show()"
   ]
  },
  {
   "cell_type": "code",
   "execution_count": 17,
   "metadata": {},
   "outputs": [],
   "source": [
    "from math import isclose\n",
    "def generations(values,weights,max_weight,population_size,n_feat,crossover_rate,mutation_rate,k_tournament,max_iteration,max_stale_iterations):\n",
    "    def pupulation_in_convergence(scores,iteration_best_score):\n",
    "        return sum(isclose(iteration_best_score,score) for score in scores)/scores.size>0.9\n",
    "    alltime_best_score = 0\n",
    "    stale_iteration = 0\n",
    "    stop_reason = \"Reached max_iteration!\"\n",
    "    # fittest does not change\n",
    "    best_chromo= []\n",
    "    best_score= []\n",
    "    population_nextgen=initilization_of_population(population_size,n_feat)\n",
    "    for i in range(max_iteration):\n",
    "        scores = fitness_score(population_nextgen,values,weights,max_weight)\n",
    "        bestIndex = np.argmax(scores)\n",
    "        \n",
    "        SA = SimulatedAnnealing(2100, 0.96, 0.0001, n_feat, values, weights, max_weight)\n",
    "        SA.setInitialValues(population_nextgen[bestIndex])\n",
    "        SA.run()\n",
    "        population_nextgen[bestIndex] = SA.getBest()\n",
    "\n",
    "        scores = fitness_score(population_nextgen,values,weights,max_weight)\n",
    "        bestIndex = np.argmax(scores)\n",
    "\n",
    "        best_chromo.append(population_nextgen[bestIndex])\n",
    "        best_score.append(scores[bestIndex])\n",
    "        \n",
    "        pop_after_sel = selection(scores,population_nextgen,k_tournament,population_size)\n",
    "        pop_after_cross = crossover(pop_after_sel,crossover_rate)\n",
    "        population_nextgen = mutation(pop_after_cross,mutation_rate)\n",
    "        \n",
    "        if alltime_best_score >= scores[bestIndex]:\n",
    "            stale_iteration+=1\n",
    "        else :\n",
    "            stale_iteration=0\n",
    "            alltime_best_score = scores[bestIndex]\n",
    "        \n",
    "        if stale_iteration>=max_stale_iterations:\n",
    "            stop_reason = \"Reached max_stale_iterations!\"\n",
    "            break\n",
    "        if pupulation_in_convergence(scores,scores[bestIndex]):\n",
    "            stop_reason = \"Pupulation converge in 90%!\"\n",
    "            break\n",
    "  \n",
    "    return best_chromo,best_score,stop_reason"
   ]
  },
  {
   "cell_type": "code",
   "execution_count": 18,
   "metadata": {},
   "outputs": [
    {
     "name": "stdout",
     "output_type": "stream",
     "text": [
      "Reached max_stale_iterations!\n"
     ]
    },
    {
     "data": {
      "image/png": "[encoded data removed]",
      "text/plain": [
       "<Figure size 640x480 with 1 Axes>"
      ]
     },
     "metadata": {
      "needs_background": "light"
     },
     "output_type": "display_data"
    },
    {
     "name": "stdout",
     "output_type": "stream",
     "text": [
      "Final value[ True False  True False False  True False  True False  True False False\n",
      "  True False  True  True False False  True False False  True False False]=-1.0\n"
     ]
    }
   ],
   "source": [
    "chromo,score,stop_reason=generations(values,weights,max_weight,population_size=100,n_feat=n_items,crossover_rate=0.8,mutation_rate=0.2,k_tournament=20,max_iteration=100,max_stale_iterations=7)\n",
    "print(stop_reason)\n",
    "best,bestindex = getBest(chromo,score)\n",
    "plotScore(score,bestindex)\n",
    "x = best[0]\n",
    "y = scoreFunction(best[0])\n",
    "print(f\"Final value{x}={y}\")"
   ]
  },
  {
   "cell_type": "code",
   "execution_count": 19,
   "metadata": {},
   "outputs": [
    {
     "name": "stdout",
     "output_type": "stream",
     "text": [
      "Tests finished: 27/27\r"
     ]
    }
   ],
   "source": [
    "# from pandas import DataFrame, read_csv\n",
    "\n",
    "max_weight = 3.0\n",
    "\n",
    "correlation_levels = [\"no\", \"low\", \"high\"]\n",
    "item_counts = list(range(16,25))\n",
    "                  \n",
    "results = np.zeros((len(item_counts), len(correlation_levels)))\n",
    "\n",
    "for i, level in enumerate(correlation_levels):\n",
    "    for j, item_count in enumerate(item_counts):\n",
    "        csv = read_csv(f\"data//{level}_correlation_{item_count}\")\n",
    "        n_items = csv.shape[0]\n",
    "        values = csv.value.values\n",
    "        weights = csv.weight.values\n",
    "\n",
    "        chromo,score,stop_reason=generations(values,weights,max_weight,population_size=100,n_feat=n_items,crossover_rate=0.8,mutation_rate=0.2,k_tournament=20,max_iteration=100,max_stale_iterations=7)\n",
    "        best,bestindex = getBest(chromo,score)\n",
    "\n",
    "        results[j,i] = score[bestindex]\n",
    "        print(f\"Tests finished: {i*len(item_counts)+j+1}/{len(item_counts)*len(correlation_levels)}\", end=\"\\r\")\n",
    "        "
   ]
  },
  {
   "cell_type": "code",
   "execution_count": 20,
   "metadata": {},
   "outputs": [
    {
     "data": {
      "text/html": [
       "<div>\n",
       "<style scoped>\n",
       "    .dataframe tbody tr th:only-of-type {\n",
       "        vertical-align: middle;\n",
       "    }\n",
       "\n",
       "    .dataframe tbody tr th {\n",
       "        vertical-align: top;\n",
       "    }\n",
       "\n",
       "    .dataframe thead th {\n",
       "        text-align: right;\n",
       "    }\n",
       "</style>\n",
       "<table border=\"1\" class=\"dataframe\">\n",
       "  <thead>\n",
       "    <tr style=\"text-align: right;\">\n",
       "      <th></th>\n",
       "      <th>no</th>\n",
       "      <th>low</th>\n",
       "      <th>high</th>\n",
       "    </tr>\n",
       "  </thead>\n",
       "  <tbody>\n",
       "    <tr>\n",
       "      <th>16</th>\n",
       "      <td>4.032696</td>\n",
       "      <td>4.404743</td>\n",
       "      <td>4.669439</td>\n",
       "    </tr>\n",
       "    <tr>\n",
       "      <th>17</th>\n",
       "      <td>4.684368</td>\n",
       "      <td>4.952518</td>\n",
       "      <td>5.128661</td>\n",
       "    </tr>\n",
       "    <tr>\n",
       "      <th>18</th>\n",
       "      <td>6.998610</td>\n",
       "      <td>7.673430</td>\n",
       "      <td>6.264490</td>\n",
       "    </tr>\n",
       "    <tr>\n",
       "      <th>19</th>\n",
       "      <td>5.429757</td>\n",
       "      <td>4.973490</td>\n",
       "      <td>5.452740</td>\n",
       "    </tr>\n",
       "    <tr>\n",
       "      <th>20</th>\n",
       "      <td>4.478135</td>\n",
       "      <td>5.106913</td>\n",
       "      <td>5.270496</td>\n",
       "    </tr>\n",
       "    <tr>\n",
       "      <th>21</th>\n",
       "      <td>5.633653</td>\n",
       "      <td>6.484294</td>\n",
       "      <td>5.668523</td>\n",
       "    </tr>\n",
       "    <tr>\n",
       "      <th>22</th>\n",
       "      <td>5.486530</td>\n",
       "      <td>5.818982</td>\n",
       "      <td>4.827094</td>\n",
       "    </tr>\n",
       "    <tr>\n",
       "      <th>23</th>\n",
       "      <td>6.108304</td>\n",
       "      <td>6.882207</td>\n",
       "      <td>6.118477</td>\n",
       "    </tr>\n",
       "    <tr>\n",
       "      <th>24</th>\n",
       "      <td>5.127226</td>\n",
       "      <td>5.425476</td>\n",
       "      <td>5.319302</td>\n",
       "    </tr>\n",
       "  </tbody>\n",
       "</table>\n",
       "</div>"
      ],
      "text/plain": [
       "          no       low      high\n",
       "16  4.032696  4.404743  4.669439\n",
       "17  4.684368  4.952518  5.128661\n",
       "18  6.998610  7.673430  6.264490\n",
       "19  5.429757  4.973490  5.452740\n",
       "20  4.478135  5.106913  5.270496\n",
       "21  5.633653  6.484294  5.668523\n",
       "22  5.486530  5.818982  4.827094\n",
       "23  6.108304  6.882207  6.118477\n",
       "24  5.127226  5.425476  5.319302"
      ]
     },
     "execution_count": 20,
     "metadata": {},
     "output_type": "execute_result"
    }
   ],
   "source": [
    "df_res = DataFrame(data=results, columns=correlation_levels, index=item_counts)\n",
    "df_res"
   ]
  },
  {
   "cell_type": "code",
   "execution_count": 21,
   "metadata": {},
   "outputs": [
    {
     "data": {
      "text/plain": [
       "<AxesSubplot:title={'center':'Result for correlated data'}, xlabel='Items', ylabel='Value'>"
      ]
     },
     "execution_count": 21,
     "metadata": {},
     "output_type": "execute_result"
    },
    {
     "data": {
      "image/png": "[encoded data removed]",
      "text/plain": [
       "<Figure size 432x288 with 1 Axes>"
      ]
     },
     "metadata": {
      "needs_background": "light"
     },
     "output_type": "display_data"
    }
   ],
   "source": [
    "df_res.plot(title=\"Result for correlated data\", xlabel=\"Items\", ylabel=\"Value\")"
   ]
  },
  {
   "cell_type": "code",
   "execution_count": 22,
   "metadata": {},
   "outputs": [],
   "source": [
    "df_res.to_csv(\"Results\\\\SAGA.csv\")"
   ]
  },
  {
   "cell_type": "markdown",
   "metadata": {},
   "source": [
    "## Wynik \n",
    "Wynik to maksimum globalne"
   ]
  },
  {
   "cell_type": "code",
   "execution_count": null,
   "metadata": {},
   "outputs": [],
   "source": []
  }
 ],
 "metadata": {
  "kernelspec": {
   "display_name": "Python 3",
   "language": "python",
   "name": "python3"
  },
  "language_info": {
   "codemirror_mode": {
    "name": "ipython",
    "version": 3
   },
   "file_extension": ".py",
   "mimetype": "text/x-python",
   "name": "python",
   "nbconvert_exporter": "python",
   "pygments_lexer": "ipython3",
   "version": "3.8.5"
  }
 },
 "nbformat": 4,
 "nbformat_minor": 5
}
