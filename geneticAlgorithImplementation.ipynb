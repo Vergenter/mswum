{
 "cells": [
  {
   "cell_type": "code",
   "execution_count": 1,
   "id": "9cf39b9c-ce8f-4996-88ed-82e022ddb80b",
   "metadata": {},
   "outputs": [],
   "source": [
    "%matplotlib inline"
   ]
  },
  {
   "cell_type": "code",
   "execution_count": 2,
   "id": "c6d1ee4a-b2ce-497c-815d-87a95742b3fa",
   "metadata": {},
   "outputs": [],
   "source": [
    "from KnackpackData import getEncoded,getScores,scoreFunction,n_items\n",
    "import matplotlib.pyplot as plt\n",
    "import numpy as np\n",
    "import random\n",
    "np.random.seed(seed=42)\n",
    "random.seed(a=42)"
   ]
  },
  {
   "cell_type": "markdown",
   "id": "6e8b05ce-8438-4c3d-9bca-4e4d9d8e5b50",
   "metadata": {},
   "source": [
    "## Initial population takes 20% of items"
   ]
  },
  {
   "cell_type": "code",
   "execution_count": 3,
   "id": "7cc46646-ac76-4bf7-ae15-638e07d185bf",
   "metadata": {},
   "outputs": [],
   "source": [
    "def initilization_of_population(size,n_feat):\n",
    "    population = []\n",
    "    for i in range(size):\n",
    "        chromosome = np.ones(n_feat,dtype=np.bool_)\n",
    "        chromosome[:int(0.8*n_feat)]=False\n",
    "        np.random.shuffle(chromosome)\n",
    "        population.append(chromosome)\n",
    "    return np.array(population)"
   ]
  },
  {
   "cell_type": "markdown",
   "id": "d0d683db-25c2-4672-8cc6-89a5226720a2",
   "metadata": {},
   "source": [
    "## Fitness score by value of backpack"
   ]
  },
  {
   "cell_type": "code",
   "execution_count": 4,
   "id": "1e31d922-8240-4f7e-9cfa-84088334af10",
   "metadata": {},
   "outputs": [],
   "source": [
    "from numba import njit\n",
    "\n",
    "@njit(\"float64[::1](boolean[:,::1],float64[::1],float64[::1],float64)\")\n",
    "def fitness_score(population,values,weights,max_weight_loc):\n",
    "    return np.array([-1 if np.sum(weights[gene]) > max_weight_loc else np.sum(values[gene]) for gene in population])\n"
   ]
  },
  {
   "cell_type": "markdown",
   "id": "6c59eb9b-c7e8-4339-bc65-845f6b974d73",
   "metadata": {},
   "source": [
    "## Roulette wheel selection"
   ]
  },
  {
   "cell_type": "code",
   "execution_count": 5,
   "id": "8e8a145d-7c14-4bc7-9821-a0c390c5db3d",
   "metadata": {},
   "outputs": [],
   "source": [
    "def selection(scores,population_nextgen,k,population_size):\n",
    "    return random.choices(population_nextgen, weights = scores, k=population_size)"
   ]
  },
  {
   "cell_type": "markdown",
   "id": "70023d2c-6200-460a-8f14-daf867ee9d29",
   "metadata": {},
   "source": [
    "## Single point crossover"
   ]
  },
  {
   "cell_type": "code",
   "execution_count": 6,
   "id": "e6835d7c-30a2-4e2a-a426-d9efa2c05cfc",
   "metadata": {},
   "outputs": [],
   "source": [
    "def crossover(pop_after_sel,crossover_rate):\n",
    "    def crossingMethod(index):\n",
    "        point = random.randint(0, len(pop_after_sel[0]))\n",
    "        next_index = (index+1)%len(pop_after_sel)\n",
    "        return np.concatenate((pop_after_sel[index][:point],pop_after_sel[next_index][point:]))\n",
    "    childrens = np.array([crossingMethod(index) for index in range(len(pop_after_sel)) if random.random() < crossover_rate])\n",
    "    return np.concatenate((pop_after_sel,childrens))"
   ]
  },
  {
   "cell_type": "markdown",
   "id": "6faf5054-c410-498b-b0a9-60a6873ec4f5",
   "metadata": {},
   "source": [
    "## Bit flip mutation"
   ]
  },
  {
   "cell_type": "code",
   "execution_count": 7,
   "id": "addf6d20-97ac-41e4-86b5-2e6388c5ac89",
   "metadata": {},
   "outputs": [],
   "source": [
    "@njit(\"boolean[:,::1](boolean[:,::1],float64)\")\n",
    "def mutation(pop_after_cross,mutation_rate):\n",
    "    size = pop_after_cross.shape[0]\n",
    "    randoms = np.random.rand(size)\n",
    "    unit_size = pop_after_cross.shape[1]\n",
    "    for i in range(size):\n",
    "        if(randoms[i]<mutation_rate):\n",
    "            j = np.random.randint(0, unit_size)\n",
    "            pop_after_cross[i][j]^=pop_after_cross[i][j]\n",
    "    return pop_after_cross"
   ]
  },
  {
   "cell_type": "markdown",
   "id": "94aede8b-67c2-4469-ad30-d2f159c7d668",
   "metadata": {},
   "source": [
    "## Generation loop with stop conditions:\n",
    "\n",
    "* no change of best score through *max_stale_iterations*\n",
    "\n",
    "*  90% of the population fall within convergence of the fittest individual"
   ]
  },
  {
   "cell_type": "code",
   "execution_count": 8,
   "id": "fd1b9763-92f7-4676-8ba9-88b72ac09df4",
   "metadata": {},
   "outputs": [],
   "source": [
    "from math import isclose\n",
    "def generations(values,weights,max_weight,population_size,n_feat,crossover_rate,mutation_rate,k_tournament,max_iteration,max_stale_iterations):\n",
    "    def pupulation_in_convergence(scores,iteration_best_score):\n",
    "        return sum(isclose(iteration_best_score,score) for score in scores)/scores.size>0.9\n",
    "    alltime_best_score = 0\n",
    "    stale_iteration = 0\n",
    "    stop_reason = \"Reached max_iteration!\"\n",
    "    # fittest does not change\n",
    "    best_chromo= []\n",
    "    best_score= []\n",
    "    population_nextgen=initilization_of_population(population_size,n_feat)\n",
    "    for i in range(max_iteration):\n",
    "        scores = fitness_score(population_nextgen,values,weights,max_weight)\n",
    "\n",
    "        bestIndex = np.argmax(scores)\n",
    "        best_chromo.append(population_nextgen[bestIndex])\n",
    "        best_score.append(scores[bestIndex])\n",
    "        \n",
    "        pop_after_sel = selection(scores,population_nextgen,k_tournament,population_size)\n",
    "        pop_after_cross = crossover(pop_after_sel,crossover_rate)\n",
    "        population_nextgen = mutation(pop_after_cross,mutation_rate)\n",
    "        \n",
    "        if alltime_best_score >= scores[bestIndex]:\n",
    "            stale_iteration+=1\n",
    "        else :\n",
    "            stale_iteration=0\n",
    "            alltime_best_score = scores[bestIndex]\n",
    "        \n",
    "        if stale_iteration>=max_stale_iterations:\n",
    "            stop_reason = \"Reached max_stale_iterations!\"\n",
    "            break\n",
    "        if pupulation_in_convergence(scores,scores[bestIndex]):\n",
    "            stop_reason = \"Pupulation converge in 90%!\"\n",
    "            break\n",
    "      \n",
    "    return best_chromo,best_score,stop_reason"
   ]
  },
  {
   "cell_type": "markdown",
   "id": "0eb8ed33-673d-4da7-9585-aeec2cd29a4a",
   "metadata": {},
   "source": [
    "## Visualization methods"
   ]
  },
  {
   "cell_type": "code",
   "execution_count": 9,
   "id": "44fe9a2c-4275-4bb0-8335-a4c3317efaa2",
   "metadata": {},
   "outputs": [],
   "source": [
    "from operator import itemgetter\n",
    "def plotScore(scores,bestindex):\n",
    "    plt.figure(figsize=(8, 6), dpi=80) \n",
    "    plt.plot(scores)\n",
    "    plt.scatter(bestindex, scores[bestindex],color=\"g\",s=50)\n",
    "    plt.annotate(\"best\", (bestindex,scores[bestindex]))\n",
    "    plt.ylabel('scores')\n",
    "    plt.show()\n",
    "    \n",
    "def getBest(chromosomes,scores):\n",
    "    best = max(zip(chromosomes,scores), key=itemgetter(1))\n",
    "    bestindex = scores.index(best[1])\n",
    "    return best,bestindex"
   ]
  },
  {
   "cell_type": "code",
   "execution_count": 10,
   "id": "aa67c020-cc4a-4183-a986-ee3c09a98913",
   "metadata": {},
   "outputs": [
    {
     "name": "stdout",
     "output_type": "stream",
     "text": [
      "Tests finished: 27/27\r"
     ]
    }
   ],
   "source": [
    "from pandas import DataFrame, read_csv\n",
    "\n",
    "max_weight = 3.0\n",
    "\n",
    "correlation_levels = [\"no\", \"low\", \"high\"]\n",
    "item_counts = list(range(16,25))\n",
    "                  \n",
    "results = np.zeros((len(item_counts), len(correlation_levels)))\n",
    "\n",
    "for i, level in enumerate(correlation_levels):\n",
    "    for j, item_count in enumerate(item_counts):\n",
    "        csv = read_csv(f\"Data//{level}_correlation_{item_count}\")\n",
    "        n_items = csv.shape[0]\n",
    "        values = csv.value.values\n",
    "        weights = csv.weight.values\n",
    "\n",
    "        chromo,score,stop_reason=generations(values,weights,max_weight,population_size=100,n_feat=n_items,crossover_rate=0.1,mutation_rate=0.3,k_tournament=0,max_iteration=100,max_stale_iterations=30)\n",
    "        best,bestindex = getBest(chromo,score)\n",
    "\n",
    "        results[j,i] = score[bestindex]\n",
    "        print(f\"Tests finished: {i*len(item_counts)+j+1}/{len(item_counts)*len(correlation_levels)}\", end=\"\\r\")\n",
    "        "
   ]
  },
  {
   "cell_type": "code",
   "execution_count": 11,
   "id": "c12a8fec-0fcd-4576-b145-98042b025c1e",
   "metadata": {},
   "outputs": [
    {
     "data": {
      "text/html": [
       "<div>\n",
       "<style scoped>\n",
       "    .dataframe tbody tr th:only-of-type {\n",
       "        vertical-align: middle;\n",
       "    }\n",
       "\n",
       "    .dataframe tbody tr th {\n",
       "        vertical-align: top;\n",
       "    }\n",
       "\n",
       "    .dataframe thead th {\n",
       "        text-align: right;\n",
       "    }\n",
       "</style>\n",
       "<table border=\"1\" class=\"dataframe\">\n",
       "  <thead>\n",
       "    <tr style=\"text-align: right;\">\n",
       "      <th></th>\n",
       "      <th>no</th>\n",
       "      <th>low</th>\n",
       "      <th>high</th>\n",
       "    </tr>\n",
       "  </thead>\n",
       "  <tbody>\n",
       "    <tr>\n",
       "      <th>16</th>\n",
       "      <td>2.901931</td>\n",
       "      <td>3.840650</td>\n",
       "      <td>3.861181</td>\n",
       "    </tr>\n",
       "    <tr>\n",
       "      <th>17</th>\n",
       "      <td>3.698705</td>\n",
       "      <td>3.877263</td>\n",
       "      <td>4.447591</td>\n",
       "    </tr>\n",
       "    <tr>\n",
       "      <th>18</th>\n",
       "      <td>5.348981</td>\n",
       "      <td>5.995194</td>\n",
       "      <td>5.467431</td>\n",
       "    </tr>\n",
       "    <tr>\n",
       "      <th>19</th>\n",
       "      <td>4.361052</td>\n",
       "      <td>4.815755</td>\n",
       "      <td>4.282067</td>\n",
       "    </tr>\n",
       "    <tr>\n",
       "      <th>20</th>\n",
       "      <td>4.026004</td>\n",
       "      <td>3.543675</td>\n",
       "      <td>4.592085</td>\n",
       "    </tr>\n",
       "    <tr>\n",
       "      <th>21</th>\n",
       "      <td>6.033231</td>\n",
       "      <td>5.825849</td>\n",
       "      <td>5.390671</td>\n",
       "    </tr>\n",
       "    <tr>\n",
       "      <th>22</th>\n",
       "      <td>5.194917</td>\n",
       "      <td>5.222975</td>\n",
       "      <td>4.911434</td>\n",
       "    </tr>\n",
       "    <tr>\n",
       "      <th>23</th>\n",
       "      <td>6.821555</td>\n",
       "      <td>5.351203</td>\n",
       "      <td>5.128609</td>\n",
       "    </tr>\n",
       "    <tr>\n",
       "      <th>24</th>\n",
       "      <td>5.237358</td>\n",
       "      <td>5.106838</td>\n",
       "      <td>4.511915</td>\n",
       "    </tr>\n",
       "  </tbody>\n",
       "</table>\n",
       "</div>"
      ],
      "text/plain": [
       "          no       low      high\n",
       "16  2.901931  3.840650  3.861181\n",
       "17  3.698705  3.877263  4.447591\n",
       "18  5.348981  5.995194  5.467431\n",
       "19  4.361052  4.815755  4.282067\n",
       "20  4.026004  3.543675  4.592085\n",
       "21  6.033231  5.825849  5.390671\n",
       "22  5.194917  5.222975  4.911434\n",
       "23  6.821555  5.351203  5.128609\n",
       "24  5.237358  5.106838  4.511915"
      ]
     },
     "execution_count": 11,
     "metadata": {},
     "output_type": "execute_result"
    }
   ],
   "source": [
    "df_res = DataFrame(data=results, columns=correlation_levels, index=item_counts)\n",
    "df_res"
   ]
  },
  {
   "cell_type": "code",
   "execution_count": 12,
   "id": "9fc5d1f8-690d-4310-99d9-9194851ab7b6",
   "metadata": {},
   "outputs": [
    {
     "data": {
      "text/plain": [
       "<AxesSubplot:title={'center':'Result for correlated data'}, xlabel='Items', ylabel='Value'>"
      ]
     },
     "execution_count": 12,
     "metadata": {},
     "output_type": "execute_result"
    },
    {
     "data": {
      "image/png": "[encoded data removed]",
      "text/plain": [
       "<Figure size 432x288 with 1 Axes>"
      ]
     },
     "metadata": {
      "needs_background": "light"
     },
     "output_type": "display_data"
    }
   ],
   "source": [
    "df_res.plot(title=\"Result for correlated data\", xlabel=\"Items\", ylabel=\"Value\")"
   ]
  },
  {
   "cell_type": "code",
   "execution_count": 13,
   "id": "1b79ac4f-578d-48fa-a993-a7964b15d63a",
   "metadata": {},
   "outputs": [],
   "source": [
    "df_res.to_csv(\"Results//GA.csv\")"
   ]
  },
  {
   "cell_type": "markdown",
   "id": "8bba95f1-5a34-4528-8823-8bfcabc0e150",
   "metadata": {},
   "source": [
    "## K-Tournament Selection(20)"
   ]
  },
  {
   "cell_type": "code",
   "execution_count": 14,
   "id": "d7be16fa-96e8-496b-bf3b-cd51e387d4e3",
   "metadata": {},
   "outputs": [],
   "source": [
    "def selection(scores,population_nextgen,k,population_size):\n",
    "    def tournament_selection(indices):\n",
    "        return population_nextgen[max(indices,key=lambda index:scores[index])]\n",
    "    return np.array([tournament_selection(random.choices(range(scores.size),k = k)) for _ in range(population_size)])"
   ]
  },
  {
   "cell_type": "markdown",
   "id": "93e63ded-44c3-40d8-8651-eb5a1823c8a9",
   "metadata": {},
   "source": [
    "## Two point mutation"
   ]
  },
  {
   "cell_type": "code",
   "execution_count": 15,
   "id": "73c28795-ddc9-4727-96a1-cc32ac7baa10",
   "metadata": {},
   "outputs": [],
   "source": [
    "@njit(\"boolean[:,::1](boolean[:,::1],float64)\")\n",
    "def mutation(pop_after_cross,mutation_rate):\n",
    "    size = pop_after_cross.shape[0]\n",
    "    randoms = np.random.rand(size)\n",
    "    unit_size = pop_after_cross.shape[1]\n",
    "    for i in range(size):\n",
    "        if(randoms[i]<mutation_rate):\n",
    "            j = np.random.randint(0, unit_size)\n",
    "            k = np.random.randint(0, unit_size)\n",
    "            pop_after_cross[i][j]^=pop_after_cross[i][j]\n",
    "            pop_after_cross[i][k]^=pop_after_cross[i][k]\n",
    "    return pop_after_cross"
   ]
  },
  {
   "cell_type": "markdown",
   "id": "5170b32f-81fa-4851-9e8b-c7a0ffb27a07",
   "metadata": {},
   "source": [
    "## To use with SIMULATED ANNEALING ALGORITHM"
   ]
  },
  {
   "cell_type": "code",
   "execution_count": 16,
   "id": "f639d7cf-ab00-477e-8ecd-fdfe5056a439",
   "metadata": {},
   "outputs": [],
   "source": [
    "from math import isclose\n",
    "from simulatedAnnealing import simulatedAnnealing\n",
    "def generations(values,weights,max_weight,population_size,n_feat,crossover_rate,mutation_rate,k_tournament,max_iteration,max_stale_iterations):\n",
    "    def pupulation_in_convergence(scores,iteration_best_score):\n",
    "        return sum(isclose(iteration_best_score,score) for score in scores)/scores.size>0.9\n",
    "    alltime_best_score = 0\n",
    "    stale_iteration = 0\n",
    "    stop_reason = \"Reached max_iteration!\"\n",
    "    # fittest does not change\n",
    "    best_chromo= []\n",
    "    best_score= []\n",
    "    population_nextgen=initilization_of_population(population_size,n_feat)\n",
    "    for i in range(max_iteration):\n",
    "        scores = fitness_score(population_nextgen,values,weights,max_weight)\n",
    "        bestIndex = np.argmax(scores)\n",
    "        \n",
    "        _,best = simulatedAnnealing(2100, 0.96, 0.0001, n_feat, values, weights, max_weight, starting_state = population_nextgen[bestIndex])\n",
    "        population_nextgen[bestIndex] = best\n",
    "\n",
    "        scores = fitness_score(population_nextgen,values,weights,max_weight)\n",
    "        bestIndex = np.argmax(scores)\n",
    "\n",
    "        best_chromo.append(population_nextgen[bestIndex])\n",
    "        best_score.append(scores[bestIndex])\n",
    "        \n",
    "        pop_after_sel = selection(scores,population_nextgen,k_tournament,population_size)\n",
    "        pop_after_cross = crossover(pop_after_sel,crossover_rate)\n",
    "        population_nextgen = mutation(pop_after_cross,mutation_rate)\n",
    "        \n",
    "        if alltime_best_score >= scores[bestIndex]:\n",
    "            stale_iteration+=1\n",
    "        else :\n",
    "            stale_iteration=0\n",
    "            alltime_best_score = scores[bestIndex]\n",
    "        \n",
    "        if stale_iteration>=max_stale_iterations:\n",
    "            stop_reason = \"Reached max_stale_iterations!\"\n",
    "            break\n",
    "        if pupulation_in_convergence(scores,scores[bestIndex]):\n",
    "            stop_reason = \"Pupulation converge in 90%!\"\n",
    "            break\n",
    "  \n",
    "    return best_chromo,best_score,stop_reason"
   ]
  },
  {
   "cell_type": "code",
   "execution_count": 17,
   "id": "f0c1234a-1768-4730-996e-5f82ae44bf2d",
   "metadata": {},
   "outputs": [
    {
     "name": "stdout",
     "output_type": "stream",
     "text": [
      "Pupulation converge in 90%!\n"
     ]
    },
    {
     "data": {
      "image/png": "[encoded data removed]",
      "text/plain": [
       "<Figure size 640x480 with 1 Axes>"
      ]
     },
     "metadata": {
      "needs_background": "light"
     },
     "output_type": "display_data"
    },
    {
     "name": "stdout",
     "output_type": "stream",
     "text": [
      "Final value[ True False  True False  True  True False  True False False  True False\n",
      " False False False  True False False  True False False False False False]=2.5034396648406982\n"
     ]
    }
   ],
   "source": [
    "chromo,score,stop_reason=generations(values,weights,max_weight,population_size=100,n_feat=n_items,crossover_rate=0.8,mutation_rate=0.2,k_tournament=20,max_iteration=100,max_stale_iterations=7)\n",
    "print(stop_reason)\n",
    "best,bestindex = getBest(chromo,score)\n",
    "plotScore(score,bestindex)\n",
    "x = best[0]\n",
    "y = scoreFunction(best[0])\n",
    "print(f\"Final value{x}={y}\")"
   ]
  },
  {
   "cell_type": "code",
   "execution_count": 18,
   "id": "8cf07d0c-feeb-43fd-bad4-5bd52a0b47d8",
   "metadata": {},
   "outputs": [
    {
     "name": "stdout",
     "output_type": "stream",
     "text": [
      "Tests finished: 27/27\r"
     ]
    }
   ],
   "source": [
    "# from pandas import DataFrame, read_csv\n",
    "\n",
    "max_weight = 3.0\n",
    "\n",
    "correlation_levels = [\"no\", \"low\", \"high\"]\n",
    "item_counts = list(range(16,25))\n",
    "                  \n",
    "results = np.zeros((len(item_counts), len(correlation_levels)))\n",
    "\n",
    "for i, level in enumerate(correlation_levels):\n",
    "    for j, item_count in enumerate(item_counts):\n",
    "        csv = read_csv(f\"Data//{level}_correlation_{item_count}\")\n",
    "        n_items = csv.shape[0]\n",
    "        values = csv.value.values\n",
    "        weights = csv.weight.values\n",
    "\n",
    "        chromo,score,stop_reason=generations(values,weights,max_weight,population_size=100,n_feat=n_items,crossover_rate=0.8,mutation_rate=0.2,k_tournament=20,max_iteration=100,max_stale_iterations=7)\n",
    "        best,bestindex = getBest(chromo,score)\n",
    "\n",
    "        results[j,i] = score[bestindex]\n",
    "        print(f\"Tests finished: {i*len(item_counts)+j+1}/{len(item_counts)*len(correlation_levels)}\", end=\"\\r\")\n",
    "        "
   ]
  },
  {
   "cell_type": "code",
   "execution_count": 19,
   "id": "20df64f8-d6c4-4617-a110-78d7896a7836",
   "metadata": {},
   "outputs": [
    {
     "data": {
      "text/html": [
       "<div>\n",
       "<style scoped>\n",
       "    .dataframe tbody tr th:only-of-type {\n",
       "        vertical-align: middle;\n",
       "    }\n",
       "\n",
       "    .dataframe tbody tr th {\n",
       "        vertical-align: top;\n",
       "    }\n",
       "\n",
       "    .dataframe thead th {\n",
       "        text-align: right;\n",
       "    }\n",
       "</style>\n",
       "<table border=\"1\" class=\"dataframe\">\n",
       "  <thead>\n",
       "    <tr style=\"text-align: right;\">\n",
       "      <th></th>\n",
       "      <th>no</th>\n",
       "      <th>low</th>\n",
       "      <th>high</th>\n",
       "    </tr>\n",
       "  </thead>\n",
       "  <tbody>\n",
       "    <tr>\n",
       "      <th>16</th>\n",
       "      <td>4.125811</td>\n",
       "      <td>3.837242</td>\n",
       "      <td>4.934728</td>\n",
       "    </tr>\n",
       "    <tr>\n",
       "      <th>17</th>\n",
       "      <td>4.525494</td>\n",
       "      <td>4.879110</td>\n",
       "      <td>4.960102</td>\n",
       "    </tr>\n",
       "    <tr>\n",
       "      <th>18</th>\n",
       "      <td>6.789740</td>\n",
       "      <td>7.061440</td>\n",
       "      <td>7.004848</td>\n",
       "    </tr>\n",
       "    <tr>\n",
       "      <th>19</th>\n",
       "      <td>4.715817</td>\n",
       "      <td>5.347431</td>\n",
       "      <td>5.426557</td>\n",
       "    </tr>\n",
       "    <tr>\n",
       "      <th>20</th>\n",
       "      <td>4.395976</td>\n",
       "      <td>5.126956</td>\n",
       "      <td>4.964960</td>\n",
       "    </tr>\n",
       "    <tr>\n",
       "      <th>21</th>\n",
       "      <td>6.219081</td>\n",
       "      <td>6.072498</td>\n",
       "      <td>5.922402</td>\n",
       "    </tr>\n",
       "    <tr>\n",
       "      <th>22</th>\n",
       "      <td>5.675517</td>\n",
       "      <td>5.694195</td>\n",
       "      <td>5.155062</td>\n",
       "    </tr>\n",
       "    <tr>\n",
       "      <th>23</th>\n",
       "      <td>7.465483</td>\n",
       "      <td>6.641442</td>\n",
       "      <td>6.216600</td>\n",
       "    </tr>\n",
       "    <tr>\n",
       "      <th>24</th>\n",
       "      <td>5.637281</td>\n",
       "      <td>5.847261</td>\n",
       "      <td>5.470162</td>\n",
       "    </tr>\n",
       "  </tbody>\n",
       "</table>\n",
       "</div>"
      ],
      "text/plain": [
       "          no       low      high\n",
       "16  4.125811  3.837242  4.934728\n",
       "17  4.525494  4.879110  4.960102\n",
       "18  6.789740  7.061440  7.004848\n",
       "19  4.715817  5.347431  5.426557\n",
       "20  4.395976  5.126956  4.964960\n",
       "21  6.219081  6.072498  5.922402\n",
       "22  5.675517  5.694195  5.155062\n",
       "23  7.465483  6.641442  6.216600\n",
       "24  5.637281  5.847261  5.470162"
      ]
     },
     "execution_count": 19,
     "metadata": {},
     "output_type": "execute_result"
    }
   ],
   "source": [
    "df_res = DataFrame(data=results, columns=correlation_levels, index=item_counts)\n",
    "df_res"
   ]
  },
  {
   "cell_type": "code",
   "execution_count": 20,
   "id": "201fc856-31d4-46cc-965f-ba4f7c77c8bf",
   "metadata": {},
   "outputs": [
    {
     "data": {
      "text/plain": [
       "<AxesSubplot:title={'center':'Result for correlated data'}, xlabel='Items', ylabel='Value'>"
      ]
     },
     "execution_count": 20,
     "metadata": {},
     "output_type": "execute_result"
    },
    {
     "data": {
      "image/png": "[encoded data removed]",
      "text/plain": [
       "<Figure size 432x288 with 1 Axes>"
      ]
     },
     "metadata": {
      "needs_background": "light"
     },
     "output_type": "display_data"
    }
   ],
   "source": [
    "df_res.plot(title=\"Result for correlated data\", xlabel=\"Items\", ylabel=\"Value\")"
   ]
  },
  {
   "cell_type": "code",
   "execution_count": 21,
   "id": "244def86-bdab-40f9-87ea-8e604d8e3d94",
   "metadata": {},
   "outputs": [],
   "source": [
    "df_res.to_csv(\"Results//SAGA.csv\")"
   ]
  },
  {
   "cell_type": "markdown",
   "id": "c481030a-f9ab-4f4f-ae57-1a0b0bc0d026",
   "metadata": {},
   "source": [
    "## Wynik \n",
    "Wynik to maksimum globalne"
   ]
  },
  {
   "cell_type": "code",
   "execution_count": null,
   "id": "be8b3a77-3895-4fdf-ae90-790dd5c91a01",
   "metadata": {},
   "outputs": [],
   "source": []
  }
 ],
 "metadata": {
  "kernelspec": {
   "display_name": "Python 3",
   "language": "python",
   "name": "python3"
  },
  "language_info": {
   "codemirror_mode": {
    "name": "ipython",
    "version": 3
   },
   "file_extension": ".py",
   "mimetype": "text/x-python",
   "name": "python",
   "nbconvert_exporter": "python",
   "pygments_lexer": "ipython3",
   "version": "3.8.5"
  }
 },
 "nbformat": 4,
 "nbformat_minor": 5
}
