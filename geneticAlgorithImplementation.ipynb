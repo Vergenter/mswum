{
 "cells": [
  {
   "cell_type": "code",
   "execution_count": 1,
   "id": "90fccf41",
   "metadata": {},
   "outputs": [],
   "source": [
    "%matplotlib inline"
   ]
  },
  {
   "cell_type": "code",
   "execution_count": 2,
   "id": "9b0a8b00",
   "metadata": {},
   "outputs": [],
   "source": [
    "from KnackpackData import getEncoded,getScores,scoreFunction,n_items\n",
    "import matplotlib.pyplot as plt\n",
    "import numpy as np\n",
    "import random"
   ]
  },
  {
   "cell_type": "markdown",
   "id": "26b5381f",
   "metadata": {},
   "source": [
    "## Initial population takes 20% of items"
   ]
  },
  {
   "cell_type": "code",
   "execution_count": 3,
   "id": "b525e068",
   "metadata": {},
   "outputs": [],
   "source": [
    "def initilization_of_population(size,n_feat):\n",
    "    population = []\n",
    "    for i in range(size):\n",
    "        chromosome = np.ones(n_feat,dtype=np.bool_)\n",
    "        chromosome[:int(0.8*n_feat)]=False\n",
    "        np.random.shuffle(chromosome)\n",
    "        population.append(chromosome)\n",
    "    return population"
   ]
  },
  {
   "cell_type": "markdown",
   "id": "a99f84b9",
   "metadata": {},
   "source": [
    "## Fitness score by value of backpack"
   ]
  },
  {
   "cell_type": "code",
   "execution_count": 4,
   "id": "f2ba6eda",
   "metadata": {},
   "outputs": [],
   "source": [
    "def fitness_score(population):\n",
    "    return np.array(list(map(scoreFunction, population)))"
   ]
  },
  {
   "cell_type": "markdown",
   "id": "a024d990",
   "metadata": {},
   "source": [
    "## Roulette wheel selection"
   ]
  },
  {
   "cell_type": "code",
   "execution_count": 5,
   "id": "b9f04131",
   "metadata": {},
   "outputs": [],
   "source": [
    "def selection(scores,population_nextgen,k,population_size):\n",
    "    return random.choices(population_nextgen, weights = scores, k=population_size)"
   ]
  },
  {
   "cell_type": "markdown",
   "id": "38ad0ba7",
   "metadata": {},
   "source": [
    "## Single point crossover"
   ]
  },
  {
   "cell_type": "code",
   "execution_count": 6,
   "id": "0a168cf8",
   "metadata": {},
   "outputs": [],
   "source": [
    "def crossover(pop_after_sel,crossover_rate):\n",
    "    def crossingMethod(index):\n",
    "        point = random.randint(0, len(pop_after_sel[0]))\n",
    "        next_index = (index+1)%len(pop_after_sel)\n",
    "        return np.concatenate((pop_after_sel[index][:point],pop_after_sel[next_index][point:]))\n",
    "    childrens = np.array([crossingMethod(index) for index in range(len(pop_after_sel)) if random.random() < crossover_rate])\n",
    "    return np.concatenate((pop_after_sel,childrens))"
   ]
  },
  {
   "cell_type": "markdown",
   "id": "82f90b0c",
   "metadata": {},
   "source": [
    "## Bit flip mutation"
   ]
  },
  {
   "cell_type": "code",
   "execution_count": 7,
   "id": "14dd561e",
   "metadata": {},
   "outputs": [],
   "source": [
    "def mutation(pop_after_cross,mutation_rate):\n",
    "    def mutate(unit):\n",
    "        i = random.randint(0, len(unit)-1)\n",
    "        unit[i]=!unit[i]\n",
    "        return unit\n",
    "    return np.array([mutate(cross) if random.random() < mutation_rate else cross for cross in pop_after_cross ])"
   ]
  },
  {
   "cell_type": "markdown",
   "id": "45a3aad2",
   "metadata": {},
   "source": [
    "## Generation loop with stop conditions:\n",
    "\n",
    "* no change of best score through *max_stale_iterations*\n",
    "\n",
    "*  90% of the population fall within convergence of the fittest individual"
   ]
  },
  {
   "cell_type": "code",
   "execution_count": 8,
   "id": "945daedd",
   "metadata": {},
   "outputs": [],
   "source": [
    "from math import isclose\n",
    "def generations(population_size,n_feat,crossover_rate,mutation_rate,k_tournament,max_iteration,max_stale_iterations):\n",
    "    def pupulation_in_convergence(scores,iteration_best_score):\n",
    "        return sum(isclose(iteration_best_score,score) for score in scores)/scores.size>0.9\n",
    "    alltime_best_score = 0\n",
    "    stale_iteration = 0\n",
    "    stop_reason = \"Reached max_iteration!\"\n",
    "    # fittest does not change\n",
    "    best_chromo= []\n",
    "    best_score= []\n",
    "    population_nextgen=initilization_of_population(population_size,n_feat)\n",
    "    for i in range(max_iteration):\n",
    "        scores = fitness_score(population_nextgen)\n",
    "        bestIndex = np.argmax(scores)\n",
    "        best_chromo.append(population_nextgen[bestIndex])\n",
    "        best_score.append(scores[bestIndex])\n",
    "        \n",
    "        pop_after_sel = selection(scores,population_nextgen,k_tournament,population_size)\n",
    "        pop_after_cross = crossover(pop_after_sel,crossover_rate)\n",
    "        population_nextgen = mutation(pop_after_cross,mutation_rate)\n",
    "        \n",
    "        if alltime_best_score >= scores[bestIndex]:\n",
    "            stale_iteration+=1\n",
    "        else :\n",
    "            stale_iteration=0\n",
    "            alltime_best_score = scores[bestIndex]\n",
    "        \n",
    "        if stale_iteration>=max_stale_iterations:\n",
    "            stop_reason = \"Reached max_stale_iterations!\"\n",
    "            break\n",
    "        if pupulation_in_convergence(scores,scores[bestIndex]):\n",
    "            stop_reason = \"Pupulation converge in 90%!\"\n",
    "            break\n",
    "  \n",
    "    return best_chromo,best_score,stop_reason"
   ]
  },
  {
   "cell_type": "markdown",
   "id": "bffa5704",
   "metadata": {},
   "source": [
    "## Visualization methods"
   ]
  },
  {
   "cell_type": "code",
   "execution_count": 9,
   "id": "ae9e5d59",
   "metadata": {},
   "outputs": [],
   "source": [
    "from operator import itemgetter\n",
    "def plotScore(scores,bestindex):\n",
    "    plt.figure(figsize=(8, 6), dpi=80) \n",
    "    plt.plot(scores)\n",
    "    plt.scatter(bestindex, scores[bestindex],color=\"g\",s=50)\n",
    "    plt.annotate(\"best\", (bestindex,scores[bestindex]))\n",
    "    plt.ylabel('scores')\n",
    "    plt.show()\n",
    "    \n",
    "def getBest(chromosomes,scores):\n",
    "    best = max(zip(chromosomes,scores), key=itemgetter(1))\n",
    "    bestindex = scores.index(best[1])\n",
    "    return best,bestindex"
   ]
  },
  {
   "cell_type": "code",
   "execution_count": 10,
   "id": "ce41fccf",
   "metadata": {},
   "outputs": [
    {
     "name": "stdout",
     "output_type": "stream",
     "text": [
      "Reached max_stale_iterations!\n"
     ]
    },
    {
     "data": {
      "image/png": "[encoded data removed]",
      "text/plain": [
       "<Figure size 640x480 with 1 Axes>"
      ]
     },
     "metadata": {
      "needs_background": "light"
     },
     "output_type": "display_data"
    },
    {
     "name": "stdout",
     "output_type": "stream",
     "text": [
      "Final value[ True  True  True  True  True False  True  True False  True False False\n",
      "  True False False False]=4.584568023681641\n"
     ]
    }
   ],
   "source": [
    "np.random.seed(seed=1337)\n",
    "random.seed(1337)\n",
    "chromo,score,stop_reason=generations(population_size=100,n_feat=n_items,crossover_rate=0.1,mutation_rate=0.3,k_tournament=0,max_iteration=100,max_stale_iterations=30)\n",
    "print(stop_reason)\n",
    "best,bestindex = getBest(chromo,score)\n",
    "plotScore(score,bestindex)\n",
    "x = best[0]\n",
    "y = scoreFunction(best[0])\n",
    "print(f\"Final value{x}={y}\")"
   ]
  },
  {
   "cell_type": "markdown",
   "id": "847f5a59",
   "metadata": {},
   "source": [
    "## Wynik \n",
    "Nie jest maksimum globalnym"
   ]
  },
  {
   "cell_type": "markdown",
   "id": "cb2fdd4a",
   "metadata": {},
   "source": [
    "## K-Tournament Selection(20)"
   ]
  },
  {
   "cell_type": "code",
   "execution_count": 11,
   "id": "6eaca413",
   "metadata": {},
   "outputs": [],
   "source": [
    "def selection(scores,population_nextgen,k,population_size):\n",
    "    def tournament_selection(indices):\n",
    "        return population_nextgen[max(indices,key=lambda index:scores[index])]\n",
    "    return np.array([tournament_selection(random.choices(range(scores.size),k = k)) for _ in range(population_size)])"
   ]
  },
  {
   "cell_type": "markdown",
   "id": "a65daaed",
   "metadata": {},
   "source": [
    "## Two point mutation?"
   ]
  },
  {
   "cell_type": "code",
   "execution_count": 12,
   "id": "7f2898c3",
   "metadata": {},
   "outputs": [],
   "source": [
    "def mutation(pop_after_cross,mutation_rate):\n",
    "    def mutate(unit):\n",
    "        i = random.randint(0, len(unit)-1)\n",
    "        j = random.randint(0, len(unit)-1)\n",
    "        unit[i]=!unit[i]\n",
    "        unit[j]=!unit[j]\n",
    "        return unit\n",
    "    return np.array([mutate(cross) if random.random() < mutation_rate else cross for cross in pop_after_cross ])"
   ]
  },
  {
   "cell_type": "markdown",
   "id": "1fa9df95",
   "metadata": {},
   "source": [
    "## To use with SIMULATED ANNEALING ALGORITHM"
   ]
  },
  {
   "cell_type": "code",
   "execution_count": 13,
   "id": "2eddf775",
   "metadata": {},
   "outputs": [
    {
     "name": "stdout",
     "output_type": "stream",
     "text": [
      "Reached max_stale_iterations!\n"
     ]
    },
    {
     "data": {
      "image/png": "[encoded data removed]",
      "text/plain": [
       "<Figure size 640x480 with 1 Axes>"
      ]
     },
     "metadata": {
      "needs_background": "light"
     },
     "output_type": "display_data"
    },
    {
     "name": "stdout",
     "output_type": "stream",
     "text": [
      "Final value[ True  True  True  True  True False False False False  True  True False\n",
      "  True False False  True]=4.996682643890381\n"
     ]
    }
   ],
   "source": [
    "chromo,score,stop_reason=generations(population_size=100,n_feat=n_items,crossover_rate=0.8,mutation_rate=0.2,k_tournament=20,max_iteration=100,max_stale_iterations=7)\n",
    "print(stop_reason)\n",
    "best,bestindex = getBest(chromo,score)\n",
    "plotScore(score,bestindex)\n",
    "x = best[0]\n",
    "y = scoreFunction(best[0])\n",
    "print(f\"Final value{x}={y}\")"
   ]
  },
  {
   "cell_type": "markdown",
   "id": "4f35e3ca",
   "metadata": {},
   "source": [
    "## Wynik \n",
    "Wynik to maksimum globalne"
   ]
  },
  {
   "cell_type": "code",
   "execution_count": null,
   "id": "a9869b0f",
   "metadata": {},
   "outputs": [],
   "source": []
  }
 ],
 "metadata": {
  "kernelspec": {
   "display_name": "Python 3",
   "language": "python",
   "name": "python3"
  },
  "language_info": {
   "codemirror_mode": {
    "name": "ipython",
    "version": 3
   },
   "file_extension": ".py",
   "mimetype": "text/x-python",
   "name": "python",
   "nbconvert_exporter": "python",
   "pygments_lexer": "ipython3",
   "version": "3.8.8"
  }
 },
 "nbformat": 4,
 "nbformat_minor": 5
}
