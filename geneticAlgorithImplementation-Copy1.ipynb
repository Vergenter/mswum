{
 "cells": [
  {
   "cell_type": "code",
   "execution_count": 1,
   "metadata": {},
   "outputs": [],
   "source": [
    "%matplotlib inline"
   ]
  },
  {
   "cell_type": "code",
   "execution_count": 2,
   "metadata": {},
   "outputs": [],
   "source": [
    "# from KnackpackData import getEncoded,getScores,scoreFunction,n_items\n",
    "# import matplotlib.pyplot as plt\n",
    "# import numpy as np\n",
    "# import random\n",
    "\n",
    "from KnackpackData import getEncoded,getScores,scoreFunction,n_items,weights,values,max_weight,getDiff\n",
    "from Timer import *\n",
    "import matplotlib.pyplot as plt\n",
    "import numpy as np\n",
    "import random\n",
    "t = Timer()"
   ]
  },
  {
   "cell_type": "code",
   "execution_count": 30,
   "metadata": {},
   "outputs": [],
   "source": [
    "class SimulatedAnnealing:\n",
    "    def __init__(self, initial_temp = 1000, alpha = 0.999, frozen_level = 0.1, n_items = 16, values = [], weights = [], max_weight = 3, iteration = 0):\n",
    "        self.initial_temp = initial_temp\n",
    "        self.alpha = alpha\n",
    "        self.frozen_level = frozen_level\n",
    "        self.n_items = n_items\n",
    "        self.values = values\n",
    "        self.weights = weights\n",
    "        self.max_weight = max_weight\n",
    "        self.iter = iteration\n",
    "        \n",
    "    def setInitialValues(self, initial_state = None):\n",
    "        '''Wyzeruj tablice wyników oraz ustaw wartości początkowe.'''\n",
    "        \n",
    "        if initial_state is None:\n",
    "            # Stan początkowy jest po prostu pustym plecakiem.\n",
    "            self.initial_state = np.zeros(self.n_items).astype(bool)\n",
    "        else:\n",
    "            self.initial_state = initial_state\n",
    "        self.best_state = self.initial_state\n",
    "        self.current_state = self.initial_state\n",
    "        \n",
    "        self.temperature = self.initial_temp\n",
    "\n",
    "        # Tablice wyników zawierają tylko zerowy stan.\n",
    "        self.scores_table = [np.sum(self.values[self.initial_state])]\n",
    "        self.best_scores_table = [np.sum(self.values[self.initial_state])]\n",
    "        self.best_value_index = 0\n",
    "    \n",
    "    def run(self):\n",
    "        if self.temperature is None:\n",
    "            self.setInitialValues()\n",
    "            \n",
    "        it = 0\n",
    "        while self.temperature > self.frozen_level:\n",
    "            it += 1\n",
    "            # Generate next state\n",
    "            next_state = np.copy(self.current_state)\n",
    "            idx = np.random.randint(0,self.n_items) # get random index to flip\n",
    "            next_state[idx] = 1 - next_state[idx] # flip generated index\n",
    "\n",
    "            self.scores_table.append(np.sum(self.values[next_state]))\n",
    "\n",
    "            # Calculate delta (if next state is better than current)\n",
    "            delta = np.sum(self.values[next_state]) - np.sum(self.values[self.current_state])\n",
    "\n",
    "            if delta > 0 and np.sum(self.weights[next_state]) <= self.max_weight:\n",
    "                # If next state is better than current - set this state as current\n",
    "                self.current_state = np.copy(next_state)\n",
    "\n",
    "                # If new state is better than the best - set this state as best\n",
    "                if np.sum(self.values[self.current_state]) > np.sum(self.values[self.best_state]):\n",
    "                    self.best_state = np.copy(self.current_state)\n",
    "                    self.best_value_index = it\n",
    "                    self.best_scores_table.append(np.sum(self.values[self.best_state]))\n",
    "            else:\n",
    "                # If the new solution is not better, accept it with a probability of e^(-delta/temp)\n",
    "                acceptance_function = np.exp(-delta / self.temperature)\n",
    "                if acceptance_function > random.uniform(0, 1):\n",
    "                    self.current_state = np.copy(next_state)\n",
    "\n",
    "            self.temperature *= self.alpha\n",
    "        \n",
    "    def results(self):\n",
    "        best_value = np.sum(self.values[self.best_state])\n",
    "        best_weight = np.sum(self.weights[self.best_state])\n",
    "        print(\"Best value: \",best_value)\n",
    "        print(\"Best weight: \",best_weight)\n",
    "        print(\"Difference (value, weight):\", getDiff(n_items,best_value, best_weight))\n",
    "        \n",
    "    def plot_results(self, plot = 'best_of_all'):\n",
    "        if plot == 'best_of_all':\n",
    "            plt.figure(figsize=(16, 12), dpi=80)\n",
    "            plt.scatter(self.best_value_index, np.array(self.scores_table)[self.best_value_index], color=\"r\", s=200, zorder=2)\n",
    "            plt.plot(np.arange(np.array(self.scores_table).size), np.array(self.scores_table), color=\"b\", zorder=1)\n",
    "            plt.title('Value changes')\n",
    "        elif plot == 'best_changes':\n",
    "            plt.figure(figsize=(16, 12), dpi=80)\n",
    "            plt.plot(np.arange(np.array(self.best_scores_table).size), np.array(self.best_scores_table), color=\"b\")\n",
    "            plt.title('Best results changes')\n",
    "            \n",
    "        plt.ylabel('Value')\n",
    "        plt.xlabel('Iteration')\n",
    "        plt.show()\n",
    "    def getResults(self):\n",
    "        return [np.sum(self.values[self.best_state]), np.sum(self.weights[self.best_state]), self.iter]\n",
    "    "
   ]
  },
  {
   "cell_type": "markdown",
   "metadata": {},
   "source": [
    "## Initial population takes 20% of items"
   ]
  },
  {
   "cell_type": "code",
   "execution_count": 4,
   "metadata": {},
   "outputs": [],
   "source": [
    "def initilization_of_population(size,n_feat):\n",
    "    population = []\n",
    "    for i in range(size):\n",
    "        chromosome = np.ones(n_feat,dtype=np.bool_)\n",
    "        chromosome[:int(0.8*n_feat)]=False\n",
    "        np.random.shuffle(chromosome)\n",
    "        population.append(chromosome)\n",
    "    return population"
   ]
  },
  {
   "cell_type": "markdown",
   "metadata": {},
   "source": [
    "## Fitness score by value of backpack"
   ]
  },
  {
   "cell_type": "code",
   "execution_count": 5,
   "metadata": {},
   "outputs": [],
   "source": [
    "def fitness_score(population):\n",
    "    return np.array(list(map(scoreFunction, population)))"
   ]
  },
  {
   "cell_type": "markdown",
   "metadata": {},
   "source": [
    "## Roulette wheel selection"
   ]
  },
  {
   "cell_type": "code",
   "execution_count": 6,
   "metadata": {},
   "outputs": [],
   "source": [
    "def selection(scores,population_nextgen,k,population_size):\n",
    "    return random.choices(population_nextgen, weights = scores, k=population_size)"
   ]
  },
  {
   "cell_type": "markdown",
   "metadata": {},
   "source": [
    "## Single point crossover"
   ]
  },
  {
   "cell_type": "code",
   "execution_count": 7,
   "metadata": {},
   "outputs": [],
   "source": [
    "def crossover(pop_after_sel,crossover_rate):\n",
    "    def crossingMethod(index):\n",
    "        point = random.randint(0, len(pop_after_sel[0]))\n",
    "        next_index = (index+1)%len(pop_after_sel)\n",
    "        return np.concatenate((pop_after_sel[index][:point],pop_after_sel[next_index][point:]))\n",
    "    childrens = np.array([crossingMethod(index) for index in range(len(pop_after_sel)) if random.random() < crossover_rate])\n",
    "    return np.concatenate((pop_after_sel,childrens))"
   ]
  },
  {
   "cell_type": "markdown",
   "metadata": {},
   "source": [
    "## Bit flip mutation"
   ]
  },
  {
   "cell_type": "code",
   "execution_count": 8,
   "metadata": {},
   "outputs": [],
   "source": [
    "def mutation(pop_after_cross,mutation_rate):\n",
    "    def mutate(unit):\n",
    "        i = random.randint(0, len(unit)-1)\n",
    "        unit[i]=!unit[i]\n",
    "        return unit\n",
    "    return np.array([mutate(cross) if random.random() < mutation_rate else cross for cross in pop_after_cross ])"
   ]
  },
  {
   "cell_type": "markdown",
   "metadata": {},
   "source": [
    "## Generation loop with stop conditions:\n",
    "\n",
    "* no change of best score through *max_stale_iterations*\n",
    "\n",
    "*  90% of the population fall within convergence of the fittest individual"
   ]
  },
  {
   "cell_type": "code",
   "execution_count": 39,
   "metadata": {},
   "outputs": [],
   "source": [
    "from math import isclose\n",
    "def generations(population_size,n_feat,crossover_rate,mutation_rate,k_tournament,max_iteration,max_stale_iterations):\n",
    "    def pupulation_in_convergence(scores,iteration_best_score):\n",
    "        return sum(isclose(iteration_best_score,score) for score in scores)/scores.size>0.9\n",
    "    alltime_best_score = 0\n",
    "    stale_iteration = 0\n",
    "    stop_reason = \"Reached max_iteration!\"\n",
    "    # fittest does not change\n",
    "    best_chromo= []\n",
    "    best_score= []\n",
    "    results_annealing = []\n",
    "    population_nextgen=initilization_of_population(population_size,n_feat)\n",
    "    for i in range(max_iteration):\n",
    "        print(i,end=\"\\r\")\n",
    "        scores = fitness_score(population_nextgen)\n",
    "        bestIndex = np.argmax(scores)\n",
    "        best_chromo.append(population_nextgen[bestIndex])\n",
    "        best_score.append(scores[bestIndex])\n",
    "        SA = SimulatedAnnealing(1000, 0.999, 0.1, 16, values, weights, max_weight, i)\n",
    "        SA.setInitialValues(population_nextgen[bestIndex])\n",
    "        SA.run()\n",
    "        results_annealing.append(SA.getResults())\n",
    "        population_nextgen\n",
    "        pop_after_sel = selection(scores,population_nextgen,k_tournament,population_size)\n",
    "        pop_after_cross = crossover(pop_after_sel,crossover_rate)\n",
    "        population_nextgen = mutation(pop_after_cross,mutation_rate)\n",
    "        \n",
    "        \n",
    "\n",
    "        if alltime_best_score >= scores[bestIndex]:\n",
    "            stale_iteration+=1\n",
    "        else :\n",
    "            stale_iteration=0\n",
    "            alltime_best_score = scores[bestIndex]\n",
    "        \n",
    "        if stale_iteration>=max_stale_iterations:\n",
    "            stop_reason = \"Reached max_stale_iterations!\"\n",
    "            break\n",
    "        if pupulation_in_convergence(scores,scores[bestIndex]):\n",
    "            stop_reason = \"Pupulation converge in 90%!\"\n",
    "            break\n",
    "  \n",
    "    return best_chromo,best_score,stop_reason,results_annealing"
   ]
  },
  {
   "cell_type": "markdown",
   "metadata": {},
   "source": [
    "## Visualization methods"
   ]
  },
  {
   "cell_type": "code",
   "execution_count": 10,
   "metadata": {},
   "outputs": [],
   "source": [
    "from operator import itemgetter\n",
    "def plotScore(scores,bestindex):\n",
    "    plt.figure(figsize=(8, 6), dpi=80) \n",
    "    plt.plot(scores)\n",
    "    plt.scatter(bestindex, scores[bestindex],color=\"g\",s=50)\n",
    "    plt.annotate(\"best\", (bestindex,scores[bestindex]))\n",
    "    plt.ylabel('scores')\n",
    "    plt.show()\n",
    "    \n",
    "def getBest(chromosomes,scores):\n",
    "    best = max(zip(chromosomes,scores), key=itemgetter(1))\n",
    "    bestindex = scores.index(best[1])\n",
    "    return best,bestindex"
   ]
  },
  {
   "cell_type": "code",
   "execution_count": null,
   "metadata": {},
   "outputs": [],
   "source": [
    "np.random.seed(seed=1337)\n",
    "random.seed(1337)\n",
    "chromo,score,stop_reason,=generations(population_size=100,n_feat=n_items,crossover_rate=0.1,mutation_rate=0.3,k_tournament=0,max_iteration=100,max_stale_iterations=30)\n",
    "print(stop_reason)\n",
    "best,bestindex = getBest(chromo,score)\n",
    "plotScore(score,bestindex)\n",
    "x = best[0]\n",
    "y = scoreFunction(best[0])\n",
    "print(f\"Final value{x}={y}\")"
   ]
  },
  {
   "cell_type": "markdown",
   "metadata": {},
   "source": [
    "## Wynik \n",
    "Nie jest maksimum globalnym"
   ]
  },
  {
   "cell_type": "markdown",
   "metadata": {},
   "source": [
    "## K-Tournament Selection(20)"
   ]
  },
  {
   "cell_type": "code",
   "execution_count": 36,
   "metadata": {},
   "outputs": [],
   "source": [
    "def selection(scores,population_nextgen,k,population_size):\n",
    "    def tournament_selection(indices):\n",
    "        return population_nextgen[max(indices,key=lambda index:scores[index])]\n",
    "    return np.array([tournament_selection(random.choices(range(scores.size),k = k)) for _ in range(population_size)])"
   ]
  },
  {
   "cell_type": "markdown",
   "metadata": {},
   "source": [
    "## Two point mutation?"
   ]
  },
  {
   "cell_type": "code",
   "execution_count": 37,
   "metadata": {},
   "outputs": [],
   "source": [
    "def mutation(pop_after_cross,mutation_rate):\n",
    "    def mutate(unit):\n",
    "        i = random.randint(0, len(unit)-1)\n",
    "        j = random.randint(0, len(unit)-1)\n",
    "        unit[i]=!unit[i]\n",
    "        unit[j]=!unit[j]\n",
    "        return unit\n",
    "    return np.array([mutate(cross) if random.random() < mutation_rate else cross for cross in pop_after_cross ])"
   ]
  },
  {
   "cell_type": "markdown",
   "metadata": {},
   "source": [
    "## To use with SIMULATED ANNEALING ALGORITHM"
   ]
  },
  {
   "cell_type": "code",
   "execution_count": 38,
   "metadata": {},
   "outputs": [
    {
     "name": "stdout",
     "output_type": "stream",
     "text": [
      "0\n",
      "1\n",
      "2\n",
      "3\n",
      "4\n",
      "5\n",
      "6\n",
      "7\n",
      "8\n",
      "9\n",
      "10\n",
      "Reached max_stale_iterations!\n"
     ]
    },
    {
     "data": {
      "image/png": "[encoded data removed]",
      "text/plain": [
       "<Figure size 640x480 with 1 Axes>"
      ]
     },
     "metadata": {
      "needs_background": "light"
     },
     "output_type": "display_data"
    },
    {
     "name": "stdout",
     "output_type": "stream",
     "text": [
      "Final value[ True  True  True  True  True False False False False  True  True False\n",
      "  True False False  True]=4.996682643890381\n"
     ]
    }
   ],
   "source": [
    "chromo,score,stop_reason,results_annealing=generations(population_size=100,n_feat=n_items,crossover_rate=0.8,mutation_rate=0.2,k_tournament=20,max_iteration=100,max_stale_iterations=7)\n",
    "print(stop_reason)\n",
    "best,bestindex = getBest(chromo,score)\n",
    "plotScore(score,bestindex)\n",
    "x = best[0]\n",
    "y = scoreFunction(best[0])\n",
    "print(f\"Final value{x}={y}\")"
   ]
  },
  {
   "cell_type": "code",
   "execution_count": 33,
   "metadata": {},
   "outputs": [
    {
     "data": {
      "text/plain": [
       "23"
      ]
     },
     "execution_count": 33,
     "metadata": {},
     "output_type": "execute_result"
    }
   ],
   "source": [
    "len(results_annealing)"
   ]
  },
  {
   "cell_type": "code",
   "execution_count": 40,
   "metadata": {},
   "outputs": [
    {
     "data": {
      "text/plain": [
       "array([[ 4.76879224,  2.95226796,  0.        ],\n",
       "       [ 4.92358817,  2.99857711,  1.        ],\n",
       "       [ 4.92358817,  2.99857711,  2.        ],\n",
       "       [ 4.9966826 ,  2.89531816,  3.        ],\n",
       "       [ 4.9966826 ,  2.89531816,  4.        ],\n",
       "       [ 4.9966826 ,  2.89531816,  5.        ],\n",
       "       [ 4.9966826 ,  2.89531816,  6.        ],\n",
       "       [ 4.9966826 ,  2.89531816,  7.        ],\n",
       "       [ 4.9966826 ,  2.89531816,  8.        ],\n",
       "       [ 4.9966826 ,  2.89531816,  9.        ],\n",
       "       [ 4.9966826 ,  2.89531816, 10.        ]])"
      ]
     },
     "execution_count": 40,
     "metadata": {},
     "output_type": "execute_result"
    }
   ],
   "source": [
    "np.array(results_annealing)"
   ]
  },
  {
   "cell_type": "code",
   "execution_count": 35,
   "metadata": {},
   "outputs": [
    {
     "ename": "TypeError",
     "evalue": "list indices must be integers or slices, not tuple",
     "output_type": "error",
     "traceback": [
      "\u001b[1;31m---------------------------------------------------------------------------\u001b[0m",
      "\u001b[1;31mTypeError\u001b[0m                                 Traceback (most recent call last)",
      "\u001b[1;32m<ipython-input-35-0ecb09d55391>\u001b[0m in \u001b[0;36m<module>\u001b[1;34m\u001b[0m\n\u001b[1;32m----> 1\u001b[1;33m \u001b[0mresults_annealing\u001b[0m\u001b[1;33m[\u001b[0m\u001b[0mresults_annealing\u001b[0m\u001b[1;33m[\u001b[0m\u001b[1;33m:\u001b[0m\u001b[1;33m,\u001b[0m \u001b[1;36m0\u001b[0m\u001b[1;33m]\u001b[0m\u001b[1;33m.\u001b[0m\u001b[0margsort\u001b[0m\u001b[1;33m(\u001b[0m\u001b[1;33m)\u001b[0m\u001b[1;33m]\u001b[0m\u001b[1;33m\u001b[0m\u001b[1;33m\u001b[0m\u001b[0m\n\u001b[0m",
      "\u001b[1;31mTypeError\u001b[0m: list indices must be integers or slices, not tuple"
     ]
    }
   ],
   "source": [
    "results_annealing[results_annealing[:, 0].argsort()]\n"
   ]
  },
  {
   "cell_type": "markdown",
   "metadata": {},
   "source": [
    "## Wynik \n",
    "Wynik to maksimum globalne"
   ]
  },
  {
   "cell_type": "code",
   "execution_count": null,
   "metadata": {},
   "outputs": [],
   "source": []
  }
 ],
 "metadata": {
  "kernelspec": {
   "display_name": "Python 3",
   "language": "python",
   "name": "python3"
  },
  "language_info": {
   "codemirror_mode": {
    "name": "ipython",
    "version": 3
   },
   "file_extension": ".py",
   "mimetype": "text/x-python",
   "name": "python",
   "nbconvert_exporter": "python",
   "pygments_lexer": "ipython3",
   "version": "3.8.5"
  }
 },
 "nbformat": 4,
 "nbformat_minor": 5
}
