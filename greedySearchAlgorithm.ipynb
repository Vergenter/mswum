{
 "cells": [
  {
   "cell_type": "code",
   "execution_count": 1,
   "id": "backed-appendix",
   "metadata": {
    "jupyter": {
     "outputs_hidden": true
    }
   },
   "outputs": [],
   "source": [
    "%matplotlib inline\n",
    "%load_ext memory_profiler "
   ]
  },
  {
   "cell_type": "code",
   "execution_count": 2,
   "id": "german-grounds",
   "metadata": {},
   "outputs": [],
   "source": [
    "from KnackpackData import n_items,weights,values,max_weight,max_value,encodeNumber,items_size_threshold,getDiff\n",
    "from Timer import *\n",
    "import matplotlib.pyplot as plt\n",
    "import numpy as np\n",
    "import random\n",
    "from numba import njit,prange\n",
    "t = Timer()"
   ]
  },
  {
   "cell_type": "markdown",
   "id": "iraqi-people",
   "metadata": {},
   "source": [
    "## Algorytm zachłanny GSA\n",
    "\n",
    "Algorytm sortuje elementy w kolejności malejącej porównując wartości ${v}$ przedmiotu do jego wagi ${w}$.\n",
    "\n",
    "$h = \\frac{v}{w}$.\n"
   ]
  },
  {
   "cell_type": "markdown",
   "id": "certain-mambo",
   "metadata": {},
   "source": [
    "### Obliczenia"
   ]
  },
  {
   "cell_type": "code",
   "execution_count": 3,
   "id": "hawaiian-macro",
   "metadata": {},
   "outputs": [],
   "source": [
    "def scoreFunctionWithItemsSizes(mask, weights=weights,values=values,max_weight=max_weight,max_value=max_value):\n",
    "    final_weight = 0\n",
    "    score = 0 \n",
    "    items = weights[mask]\n",
    "    s_items = items[items <= items_size_threshold].size\n",
    "    b_items = items[items > items_size_threshold].size\n",
    "    for i in prange(weights.size):\n",
    "        if mask[i]:\n",
    "            final_weight+=weights[i]\n",
    "            score+=values[i]\n",
    "    return final_weight, score, s_items, b_items\n",
    "\n",
    "def getDataWithItemsSize():\n",
    "    return np.array([scoreFunctionWithItemsSizes(encodeNumber(x)) for x in prange(2**n_items)])\n",
    "\n",
    "data_with_sizes_t = getDataWithItemsSize()\n",
    "data_with_sizes = data_with_sizes_t[np.argsort(data_with_sizes_t[:, 0])] # Sort by weights\n",
    "data_with_sizes = data_with_sizes[(data_with_sizes[:,0] <= max_weight)] # Delete results larger than max_weight\n",
    "data_with_sizes = data_with_sizes[np.argsort(data_with_sizes[:, 1])] # Sort by score"
   ]
  },
  {
   "cell_type": "code",
   "execution_count": 4,
   "id": "alpine-third",
   "metadata": {
    "jupyter": {
     "outputs_hidden": true
    }
   },
   "outputs": [],
   "source": [
    "# Values to weight ratios with indexes for sort\n",
    "VW_ratios = values / weights\n",
    "indexes = np.flip(np.argsort(VW_ratios))"
   ]
  },
  {
   "cell_type": "code",
   "execution_count": 5,
   "id": "simplified-shoulder",
   "metadata": {
    "jupyter": {
     "outputs_hidden": true
    }
   },
   "outputs": [],
   "source": [
    "# Sort by indexes\n",
    "VW_ratios = np.take_along_axis(VW_ratios, indexes, axis=0) # Value/weight ratios\n",
    "VW_weights = np.take_along_axis(weights, indexes, axis=0) # Sorted weights\n",
    "VW_values = np.take_along_axis(values, indexes, axis=0) # Sorted values"
   ]
  },
  {
   "cell_type": "code",
   "execution_count": 6,
   "id": "olympic-brooklyn",
   "metadata": {
    "jupyter": {
     "outputs_hidden": true
    }
   },
   "outputs": [],
   "source": [
    "# Calculate greedy results\n",
    "greedy_score = 0\n",
    "greedy_weight = 0\n",
    "for i in range(len(VW_ratios)):\n",
    "    if(greedy_weight + VW_weights[i]) <= max_weight:\n",
    "        greedy_score += VW_values[i]\n",
    "        greedy_weight += VW_weights[i]"
   ]
  },
  {
   "cell_type": "markdown",
   "id": "cutting-hamburg",
   "metadata": {},
   "source": [
    "### Porównanie wyników\n",
    "\n",
    "W porównaniu uwzględnione zostały wyniki algorytmu zachłannego oraz 10 najlepszych wyników ze wszystkich możliwych rozwiązań."
   ]
  },
  {
   "cell_type": "code",
   "execution_count": 7,
   "id": "spare-attack",
   "metadata": {},
   "outputs": [
    {
     "name": "stdout",
     "output_type": "stream",
     "text": [
      "Greedy weight:  2.7709860150069376\n",
      "Greedy score:  4.871708441930054\n",
      "Difference (value, weight): [0.1249741580699455, 0.12433214499306233]\n",
      "Best results (weight, value): \n",
      " [[2.65571179 4.69313976]\n",
      " [2.6979442  4.70059162]\n",
      " [2.88330288 4.74501949]\n",
      " [2.96497628 4.74671992]\n",
      " [2.95226796 4.76879224]\n",
      " [2.78004393 4.81811392]\n",
      " [2.87913456 4.8687458 ]\n",
      " [2.77098602 4.87170844]\n",
      " [2.99857711 4.92358817]\n",
      " [2.89531816 4.9966826 ]]\n"
     ]
    }
   ],
   "source": [
    "print(\"Greedy weight: \",greedy_weight)\n",
    "print(\"Greedy score: \",greedy_score)\n",
    "print(\"Difference (value, weight):\", getDiff(n_items,greedy_score, greedy_weight))\n",
    "print(\"Best results (weight, value): \\n\",data_with_sizes[-10:,0:2])"
   ]
  },
  {
   "cell_type": "markdown",
   "id": "changed-earth",
   "metadata": {},
   "source": [
    "### Wnioski\n",
    "\n",
    "Z powyższych danych wynika, że rozwiązanie zachłanne daje bardzo dobre wyniki, bliskie najlepszemu znanemu rozwiazaniu. Pondato metoda ta jest bardzo szybka, ponieważ wybiera jedynie lokalnie optymalne rozwiązania.\n",
    "\n",
    "Otrzymany wynik z metody zachłannej jest 3 najlepszym wynikiem z całego zbioru danych, co pokazuje że nie jest to najlepsza metoda poszukiwania ekstremów globalnych. \n"
   ]
  },
  {
   "cell_type": "markdown",
   "id": "rolled-theta",
   "metadata": {},
   "source": [
    "## Algorytm zachłanny GSA - alternatywa wartościowa\n",
    "\n",
    "Algorytm sortuje elementy w kolejności malejącej po wartościach przedmiotów ${v}$ bez zwracania uwagi na jego wagi."
   ]
  },
  {
   "cell_type": "markdown",
   "id": "indirect-inspector",
   "metadata": {},
   "source": [
    "### Obliczenia"
   ]
  },
  {
   "cell_type": "code",
   "execution_count": 8,
   "id": "injured-pointer",
   "metadata": {
    "jupyter": {
     "outputs_hidden": true
    }
   },
   "outputs": [],
   "source": [
    "# Values indexes for sort\n",
    "indexes = np.flip(np.argsort(values))"
   ]
  },
  {
   "cell_type": "code",
   "execution_count": 9,
   "id": "offensive-complaint",
   "metadata": {
    "jupyter": {
     "outputs_hidden": true
    }
   },
   "outputs": [],
   "source": [
    "# Sort by indexes\n",
    "S_weights = np.take_along_axis(weights, indexes, axis=0) # Sorted weights\n",
    "S_values = np.take_along_axis(values, indexes, axis=0) # Sorted values"
   ]
  },
  {
   "cell_type": "code",
   "execution_count": 10,
   "id": "second-migration",
   "metadata": {
    "jupyter": {
     "outputs_hidden": true
    }
   },
   "outputs": [],
   "source": [
    "# Calculate greedy results\n",
    "greedy_val_score = 0\n",
    "greedy_val_weight = 0\n",
    "for i in range(len(S_values)):\n",
    "    if(greedy_val_weight + S_weights[i]) <= max_weight:\n",
    "        greedy_val_score += S_values[i]\n",
    "        greedy_val_weight += S_weights[i]"
   ]
  },
  {
   "cell_type": "markdown",
   "id": "linear-philadelphia",
   "metadata": {},
   "source": [
    "### Porównanie wyników\n",
    "\n",
    "W porównaniu uwzględnione zostały wyniki algorytmu zachłannego oraz 10 najlepszych wyników ze wszystkich możliwych rozwiązań."
   ]
  },
  {
   "cell_type": "code",
   "execution_count": 11,
   "id": "fuzzy-heritage",
   "metadata": {},
   "outputs": [
    {
     "name": "stdout",
     "output_type": "stream",
     "text": [
      "Greedy weight:  2.940506976253459\n",
      "Greedy score:  4.459977808034045\n",
      "Difference (value, weight): [0.5367047919659544, -0.04518881625345905]\n",
      "Best results (weight, value): \n",
      " [[2.65571179 4.69313976]\n",
      " [2.6979442  4.70059162]\n",
      " [2.88330288 4.74501949]\n",
      " [2.96497628 4.74671992]\n",
      " [2.95226796 4.76879224]\n",
      " [2.78004393 4.81811392]\n",
      " [2.87913456 4.8687458 ]\n",
      " [2.77098602 4.87170844]\n",
      " [2.99857711 4.92358817]\n",
      " [2.89531816 4.9966826 ]]\n"
     ]
    }
   ],
   "source": [
    "print(\"Greedy weight: \",greedy_val_weight)\n",
    "print(\"Greedy score: \",greedy_val_score)\n",
    "print(\"Difference (value, weight):\", getDiff(n_items,greedy_val_score, greedy_val_weight))\n",
    "print(\"Best results (weight, value): \\n\",data_with_sizes[-10:,0:2])"
   ]
  },
  {
   "cell_type": "markdown",
   "id": "exact-seating",
   "metadata": {},
   "source": [
    "### Wnioski\n",
    "\n",
    "Inne podejście do algorytmu GSA również daje wynik zadowalający, ale zdecydowanie gorszy niż klasyczny GSA.\n"
   ]
  }
 ],
 "metadata": {
  "kernelspec": {
   "display_name": "Python 3",
   "language": "python",
   "name": "python3"
  },
  "language_info": {
   "codemirror_mode": {
    "name": "ipython",
    "version": 3
   },
   "file_extension": ".py",
   "mimetype": "text/x-python",
   "name": "python",
   "nbconvert_exporter": "python",
   "pygments_lexer": "ipython3",
   "version": "3.8.8"
  }
 },
 "nbformat": 4,
 "nbformat_minor": 5
}
