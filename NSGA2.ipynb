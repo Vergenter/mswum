{
 "cells": [
  {
   "cell_type": "markdown",
   "id": "based-robertson",
   "metadata": {},
   "source": [
    "# Zastosowanie algorytmu NSGA2 dla Problemu Plecakowego"
   ]
  },
  {
   "cell_type": "markdown",
   "id": "transparent-peoples",
   "metadata": {},
   "source": [
    "**Dane**\n",
    "1. Zbiór przedmiotów - każdy posiada wagę oraz wartość z przedziału \\[0, 1).\n",
    "2. Plecak posiadają znaną, skończoną pojemność k.\n",
    "3. Wybierany jest podzbiór danego zbioru przedmiotów, mieszczący się w plecaku - suma wag mniejsza, bądź równa k.\n",
    "\n",
    "**Cel**\n",
    "\n",
    "Maksymalizacja sumarycznej wartości wybranych przedmiotów."
   ]
  },
  {
   "cell_type": "code",
   "execution_count": 324,
   "id": "reflected-customs",
   "metadata": {},
   "outputs": [],
   "source": [
    "from random import random, randrange"
   ]
  },
  {
   "cell_type": "markdown",
   "id": "serial-wallet",
   "metadata": {},
   "source": [
    "**Algorytm NSGA2**\n",
    "\n",
    "Dane: zbiór przedmiotów, ilość generacji, rozmiar populacji, k oraz prawdopodobieństwo mutacji.\n",
    "\n",
    "1. Generowana jest populacja początkowa o danym rozmiarze (_Chromosome.random_) w postaci chromosomów reprezentowanych przez listy bitów, których długość jest równa ilości przedmiotów.\n",
    "2. Dla każdej kolejnej generacji wykonywane są w pętli kolejne punkty.\n",
    "3. Wykonywana jest operacja selekcji turniejowej - powstaje lista par rodziców.\n",
    "4. Wykonywana jest operacja crossoveru - generowany jest zbiór dzieci.\n",
    "5. Wykonywana jest operacja mutacji dzieci - z zadanym prawdopodobieństwem. Dzieci dodawane są do bieżącej populacji.\n",
    "6. Wykonywany jest algorytm \"Non-dominated sorting\".\n",
    "7. Wykonywany jest algorytm \"Crowding distance sorting\".\n",
    "8. Usuwane są duplikaty z populacji (celem optymalizacji).\n",
    "\n",
    "Otrzymany wynik to posortowana lista chromosomów, zatem pierwszy z nich jest \"najlepszym\" osobnikiem."
   ]
  },
  {
   "cell_type": "markdown",
   "id": "manual-thought",
   "metadata": {},
   "source": [
    "### Klasy modelowe"
   ]
  },
  {
   "cell_type": "code",
   "execution_count": 325,
   "id": "demonstrated-clinton",
   "metadata": {},
   "outputs": [],
   "source": [
    "class Item:\n",
    "    def __init__(self, weight, value):\n",
    "        self.weight = weight\n",
    "        self.value = value\n",
    "    \n",
    "    def __str__(self):\n",
    "        return f\"Weight: {self.weight} | Value: {self.value}\""
   ]
  },
  {
   "cell_type": "code",
   "execution_count": 326,
   "id": "configured-willow",
   "metadata": {},
   "outputs": [],
   "source": [
    "class Chromosome:\n",
    "    def __init__(self, size, selected=[]):\n",
    "        self.size = size\n",
    "        self.selected = selected\n",
    "\n",
    "    @staticmethod\n",
    "    def random(size):\n",
    "        selected = []\n",
    "        for i in range(size):\n",
    "            selected.append(random() >= 0.5)\n",
    "        return Chromosome(size, selected)\n",
    "\n",
    "    def weightFitness(self, items):\n",
    "        sum = 0\n",
    "        for item in self.getSelectedItems(items):\n",
    "            sum += item.weight\n",
    "        return sum\n",
    "\n",
    "    def valueFitness(self, items, maxWeight):\n",
    "        sum = 0\n",
    "        for item in self.getSelectedItems(items):\n",
    "            sum += item.value\n",
    "        return -1 if self.weightFitness(items) > maxWeight else sum\n",
    "\n",
    "    def getSelectedItems(self, items):\n",
    "        selectedItems = []\n",
    "        for el in zip(self.selected, items):\n",
    "            if el[0]:\n",
    "                selectedItems.append(el[1])\n",
    "        return selectedItems\n",
    "\n",
    "    def dominates(self, other, items, maxWeight):\n",
    "        thisValue = self.valueFitness(items, maxWeight)\n",
    "        otherValue = other.valueFitness(items, maxWeight)\n",
    "        if thisValue > otherValue:\n",
    "            return 1\n",
    "        elif thisValue < otherValue:\n",
    "            return -1\n",
    "        else:\n",
    "            return 0\n",
    "\n",
    "    def clone(self):\n",
    "        return Chromosome(self.size, self.selected.copy())\n",
    "\n",
    "    def __str__(self):\n",
    "        return f\"{self.size} {self.selected}\"\n",
    "\n",
    "    def isEqual(self, obj):\n",
    "        return self.size == obj.size and self.selected == obj.selected\n",
    "\n",
    "    @staticmethod\n",
    "    def removeDuplicated(chromosomes):\n",
    "        newList = []\n",
    "\n",
    "        def exists(x):\n",
    "            for el in newList:\n",
    "                if el.isEqual(x):\n",
    "                    return True\n",
    "            return False\n",
    "\n",
    "        for c in chromosomes:\n",
    "            if not exists(c):\n",
    "                newList.append(c)\n",
    "        return newList"
   ]
  },
  {
   "cell_type": "code",
   "execution_count": 327,
   "id": "military-ending",
   "metadata": {},
   "outputs": [],
   "source": [
    "class ChromosomeWrapper:\n",
    "    def __init__(self, chromosome):\n",
    "        self.chromosome = chromosome\n",
    "\n",
    "    @staticmethod\n",
    "    def fromChromosomes(chromosomes):\n",
    "        pass\n",
    "\n",
    "    @staticmethod\n",
    "    def toChromosomes(wrapperList):\n",
    "        chromosomes = []\n",
    "        for wrapper in wrapperList:\n",
    "            chromosomes.append(wrapper.chromosome)\n",
    "        return chromosomes"
   ]
  },
  {
   "cell_type": "markdown",
   "id": "revolutionary-newfoundland",
   "metadata": {},
   "source": [
    "### Operacje genetyczne\n",
    "\n",
    "1. **Crossover** - wybierany jest punkt podziału, geny przed tym podziałem są dziedziczone po rodzicu 1, a za podziałem po rodzicu 2.\n",
    "2. **Mutation** - z danym prawdopodobieństwem odwracane są poszczególne geny.\n",
    "3. **TournamentSelection** - wybieramy dwa losowe chromosomy i wybieramy dominujący. Remis jest rozpatrywany jako rzut monetą."
   ]
  },
  {
   "cell_type": "code",
   "execution_count": 328,
   "id": "legislative-telescope",
   "metadata": {},
   "outputs": [],
   "source": [
    "class GeneticOperations:\n",
    "\n",
    "    def __init__(self, mutationProbability, items):\n",
    "        self.mutationProbability = mutationProbability\n",
    "        self.items = items\n",
    "\n",
    "    def crossover(self, parent1, parent2):\n",
    "        selected = []\n",
    "        sliceIndex = randrange(parent1.size)\n",
    "        for i in range(sliceIndex):\n",
    "            selected.append(parent1.selected[i])\n",
    "        for i in range(sliceIndex, parent1.size):\n",
    "            selected.append(parent1.selected[i])\n",
    "        return Chromosome(parent1.size, selected)\n",
    "\n",
    "    def mutation(self, chromosome):\n",
    "        selected = []\n",
    "        for i in range(chromosome.size):\n",
    "            if random() >= self.mutationProbability:\n",
    "                selected.append(not chromosome.selected[i])\n",
    "            else:\n",
    "                selected.append(chromosome.selected[i])\n",
    "        return Chromosome(chromosome.size, selected)\n",
    "\n",
    "    def tournamentSelection(self, chromosomes, maxWeight):\n",
    "        idx1 = randrange(len(chromosomes))\n",
    "        idx2 = randrange(len(chromosomes))\n",
    "        dominate = chromosomes[idx1].dominates(chromosomes[idx2], self.items, maxWeight)\n",
    "        if dominate == 1:\n",
    "            return chromosomes[idx1]\n",
    "        elif dominate == -1:\n",
    "            return chromosomes[idx2]\n",
    "        elif random() < 0.5:\n",
    "            return chromosomes[idx1]\n",
    "        else:\n",
    "            return chromosomes[idx2]\n",
    "\n",
    "    def selection(self, chromosomes, maxWeight):\n",
    "        result = []\n",
    "        for i in range(len(chromosomes)):\n",
    "            result.append([self.tournamentSelection(chromosomes, maxWeight), self.tournamentSelection(chromosomes, maxWeight)])\n",
    "        return result"
   ]
  },
  {
   "cell_type": "markdown",
   "id": "competent-cardiff",
   "metadata": {},
   "source": [
    "### Crowding distance sorting\n",
    "\n",
    "1. Wszystkie elementy są inicjalizowane z crowdingDistance = 0.\n",
    "2. Elementy są sortowane po fitnessie. Następnie ustawiane jest dla max crowdingDistance = inf.\n",
    "3. Elementy ze środka przedziału \\[min, max\\] mają ustawiane crowdingDistance zgodnie z metryką taksówkową względem wartości fitnessu sąsiadów.\n",
    "4. Elementy są sortowane malejąco względem crowdingDistance - NSGA odrzuci pewną prawą część listy."
   ]
  },
  {
   "cell_type": "code",
   "execution_count": 329,
   "id": "assured-brother",
   "metadata": {},
   "outputs": [],
   "source": [
    "class CrowdingDistanceChromosomeWrapper(ChromosomeWrapper):\n",
    "    def __init__(self, chromosome):\n",
    "        super().__init__(chromosome)\n",
    "        self.crowdingDistance = 0\n",
    "\n",
    "    @staticmethod\n",
    "    def fromChromosomes(chromosomes):\n",
    "        cdList = []\n",
    "        for c in chromosomes:\n",
    "            cdList.append(CrowdingDistanceChromosomeWrapper(c))\n",
    "        return cdList"
   ]
  },
  {
   "cell_type": "code",
   "execution_count": 330,
   "id": "swiss-madagascar",
   "metadata": {},
   "outputs": [],
   "source": [
    "class CrowdingDistanceSort:\n",
    "    def __init__(self, items):\n",
    "        self.items = items\n",
    "\n",
    "    def sort(self, cdList, maxWeight):\n",
    "        cdList.sort(key=lambda cd: cd.chromosome.valueFitness(self.items, maxWeight))\n",
    "        cdList[-1].crowdingDistance = float('inf') \n",
    "        for i in range(1, len(cdList) - 1):\n",
    "                cdList[i].crowdingDistance = cdList[i + 1].chromosome.valueFitness(self.items, maxWeight)\n",
    "                cdList[i].crowdingDistance -= cdList[i - 1].chromosome.valueFitness(self.items, maxWeight)\n",
    "\n",
    "        cdList.sort(reverse=True, key=lambda cd: cd.crowdingDistance)\n",
    "        return cdList"
   ]
  },
  {
   "cell_type": "markdown",
   "id": "durable-energy",
   "metadata": {},
   "source": [
    "### Non-dominatinated sorting\n",
    "\n",
    "1. Rozpatrujemy dla każdej pary elementów z populacji, który chromosom nad którym dominuje (uaktualniamy listę chromosomów _dominatedBy_, przez które bieżący jest zdominowany oraz liczbę _dominationCount_ wskazującą nad iloma bieżący dominuje).\n",
    "2. Wybieramy z populacji wszystkie niedominujące elementy. Odpowiednio zmniejszamy _dominationCount_ dla elementów, które nad nimi dominowały.\n",
    "3. Do wynikowej listy dodajemy taki podzbiór populacji, a następnie powtarzamy kroki 2-3 do momentu, gdy w populacji nie będzie istniał żaden element niedominujący (_dominationCount=0_) lub wszystkie elementy populacji zostaną rozpatrzone."
   ]
  },
  {
   "cell_type": "code",
   "execution_count": 331,
   "id": "presidential-virgin",
   "metadata": {},
   "outputs": [],
   "source": [
    "class NonDominatedSortChromosomeWrapper(ChromosomeWrapper):\n",
    "    def __init__(self, chromosome):\n",
    "        super(NonDominatedSortChromosomeWrapper, self).__init__(chromosome)\n",
    "        self.dominationCount = 0\n",
    "        self.dominatedBy = []\n",
    "\n",
    "    @staticmethod\n",
    "    def fromChromosomes(chromosomes):\n",
    "        ndsList = []\n",
    "        for c in chromosomes:\n",
    "            ndsList.append(NonDominatedSortChromosomeWrapper(c))\n",
    "        return ndsList"
   ]
  },
  {
   "cell_type": "code",
   "execution_count": 332,
   "id": "practical-unknown",
   "metadata": {},
   "outputs": [],
   "source": [
    "class NonDominatedSort:\n",
    "    def __init__(self, items):\n",
    "        self.items = items\n",
    "\n",
    "    def sort(self, ndsList, maxWeight):\n",
    "        frontList = []\n",
    "        for i in range(len(ndsList) - 1):\n",
    "            for j in range(i + 1, len(ndsList)):\n",
    "                dominateResult = ndsList[i].chromosome.dominates(ndsList[j].chromosome, self.items, maxWeight)\n",
    "                if dominateResult == 1:\n",
    "                    ndsList[j].dominationCount += 1\n",
    "                    ndsList[i].dominatedBy.append(ndsList[j])\n",
    "                elif dominateResult == -1:\n",
    "                    ndsList[i].dominationCount += 1\n",
    "                    ndsList[j].dominatedBy.append(ndsList[i])\n",
    "        nonDominantExists = True\n",
    "        while nonDominantExists:\n",
    "            nonDominantExists = False\n",
    "            currentFront = []           \n",
    "            dominatedList = []\n",
    "            for i in range(len(ndsList)):\n",
    "                if ndsList[i].dominationCount == 0:\n",
    "                    nonDominantExists = True\n",
    "                    ndsList[i].dominationCount = -1\n",
    "                    currentFront.append(ndsList[i])\n",
    "                    for dominated in ndsList[i].dominatedBy:\n",
    "                        dominatedList.append(dominated)\n",
    "            for dominated in dominatedList:\n",
    "                dominated.dominationCount -= 1\n",
    "            if len(currentFront) > 0:\n",
    "                frontList.append(currentFront)\n",
    "        return frontList"
   ]
  },
  {
   "cell_type": "markdown",
   "id": "fifty-statement",
   "metadata": {},
   "source": [
    "### NSGA2"
   ]
  },
  {
   "cell_type": "code",
   "execution_count": 333,
   "id": "promising-forestry",
   "metadata": {},
   "outputs": [],
   "source": [
    "class Nsga:\n",
    "    def __init__(self, mutationProbability, items):\n",
    "        self.items = items\n",
    "        self.geneticOperations = GeneticOperations(mutationProbability, items)\n",
    "        self.CrowdingDistanceSort = CrowdingDistanceSort(items)\n",
    "        self.nonDominatedSort = NonDominatedSort(items)\n",
    "\n",
    "    def run(self, nrGeneration, populationSize, maxWeight):\n",
    "        chromosomes = []\n",
    "        for i in range(populationSize):\n",
    "            chromosomes.append(Chromosome.random(len(self.items)))\n",
    "        for currentGeneration in range(nrGeneration):\n",
    "            for i in range(len(chromosomes), populationSize):\n",
    "                chromosomes.append(Chromosome.random(len(self.items)))\n",
    "            selectedPairParents = self.geneticOperations.selection(chromosomes, maxWeight)\n",
    "            children = []\n",
    "            for selectedParents in selectedPairParents:\n",
    "                children.append(self.geneticOperations.crossover(selectedParents[0], selectedParents[1]))\n",
    "\n",
    "            mutated = list(map(lambda child: self.geneticOperations.mutation(child), children))\n",
    "            children = Chromosome.removeDuplicated(mutated)\n",
    "\n",
    "            chromosomes = [*chromosomes, *children]\n",
    "            fronts = self.nonDominatedSort.sort(NonDominatedSortChromosomeWrapper.fromChromosomes(chromosomes), maxWeight)\n",
    "            newPopulation = []\n",
    "            currentFront = 0\n",
    "            while currentFront < len(fronts) and len(newPopulation) + len(fronts[currentFront]) <= populationSize:\n",
    "                newPopulation = [*newPopulation, *NonDominatedSortChromosomeWrapper.toChromosomes(fronts[currentFront])]\n",
    "                currentFront += 1\n",
    "            selected = self.CrowdingDistanceSort.sort(\n",
    "                CrowdingDistanceChromosomeWrapper.fromChromosomes(NonDominatedSortChromosomeWrapper.toChromosomes(fronts[currentFront])), maxWeight)\n",
    "            newPopulation = [*newPopulation, *CrowdingDistanceChromosomeWrapper.toChromosomes(\n",
    "                selected[:(populationSize - len(newPopulation))])]\n",
    "            chromosomes = Chromosome.removeDuplicated(newPopulation)[:min(populationSize, len(newPopulation))]\n",
    "        return chromosomes"
   ]
  },
  {
   "cell_type": "markdown",
   "id": "elementary-benefit",
   "metadata": {},
   "source": [
    "### Test"
   ]
  },
  {
   "cell_type": "code",
   "execution_count": 334,
   "id": "sapphire-traveler",
   "metadata": {},
   "outputs": [],
   "source": [
    "def test(itemsNumber, mutationProbability, generationsNumber, populationSize, maxWeight):\n",
    "    items = []\n",
    "    for i in range(itemsNumber):\n",
    "        item = Item(random(), random())\n",
    "        items.append(item)\n",
    "        print(f\"{i+1}. {item}\")\n",
    "\n",
    "    nsga = Nsga(mutationProbability, items)\n",
    "    result = nsga.run(generationsNumber, populationSize, maxWeight)\n",
    "    print(result[0].valueFitness(items, maxWeight))\n",
    "    print(result[0].weightFitness(items))\n",
    "    print(result[0])"
   ]
  },
  {
   "cell_type": "code",
   "execution_count": 335,
   "id": "careful-library",
   "metadata": {
    "scrolled": false
   },
   "outputs": [
    {
     "name": "stdout",
     "output_type": "stream",
     "text": [
      "1. Weight: 0.6692230952971253 | Value: 0.9267820814004168\n",
      "2. Weight: 0.9574122035806898 | Value: 0.7482827408063539\n",
      "3. Weight: 0.7062741979200038 | Value: 0.800371873869472\n",
      "4. Weight: 0.20080064070246317 | Value: 0.7535579373595784\n",
      "5. Weight: 0.5093633522226934 | Value: 0.25129507366642334\n",
      "6. Weight: 0.20704732748768873 | Value: 0.5413927646800791\n",
      "7. Weight: 0.7275826588389992 | Value: 0.890814341987083\n",
      "8. Weight: 0.6688530615337047 | Value: 0.037962615055837645\n",
      "9. Weight: 0.01329832657086949 | Value: 0.7736812040156267\n",
      "10. Weight: 0.4022217265315654 | Value: 0.3408592485209635\n",
      "11. Weight: 0.9050286945891522 | Value: 0.8996390011647974\n",
      "12. Weight: 0.37317518965232477 | Value: 0.5294661556473864\n",
      "13. Weight: 0.1060684037237285 | Value: 0.8621012430606158\n",
      "14. Weight: 0.07263915080484362 | Value: 0.6777605245020927\n",
      "15. Weight: 0.7611578483400934 | Value: 0.6794669723370649\n",
      "16. Weight: 0.01223830549109417 | Value: 0.9168943360841489\n",
      "6.6447739923422935\n",
      "2.813053096905041\n",
      "16 [False, False, False, True, False, False, True, False, True, True, True, True, True, True, False, True]\n"
     ]
    }
   ],
   "source": [
    "test(itemsNumber=16, mutationProbability=0.2, generationsNumber=30, populationSize=200, maxWeight=3)"
   ]
  }
 ],
 "metadata": {
  "kernelspec": {
   "display_name": "Python 3",
   "language": "python",
   "name": "python3"
  },
  "language_info": {
   "codemirror_mode": {
    "name": "ipython",
    "version": 3
   },
   "file_extension": ".py",
   "mimetype": "text/x-python",
   "name": "python",
   "nbconvert_exporter": "python",
   "pygments_lexer": "ipython3",
   "version": "3.8.8"
  }
 },
 "nbformat": 4,
 "nbformat_minor": 5
}
