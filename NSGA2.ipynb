{
 "cells": [
  {
   "cell_type": "markdown",
   "id": "based-robertson",
   "metadata": {},
   "source": [
    "# Zastosowanie algorytmu NSGA2 dla Problemu Plecakowego"
   ]
  },
  {
   "cell_type": "markdown",
   "id": "transparent-peoples",
   "metadata": {},
   "source": [
    "**Dane**\n",
    "1. Zbiór przedmiotów - każdy posiada wagę oraz wartość z przedziału \\[0, 1).\n",
    "2. Plecak posiadają znaną, skończoną pojemność k.\n",
    "3. Wybierany jest podzbiór danego zbioru przedmiotów, mieszczący się w plecaku - suma wag mniejsza, bądź równa k.\n",
    "\n",
    "**Cel**\n",
    "\n",
    "Maksymalizacja sumarycznej wartości wybranych przedmiotów."
   ]
  },
  {
   "cell_type": "code",
   "execution_count": 1,
   "id": "reflected-customs",
   "metadata": {},
   "outputs": [],
   "source": [
    "from random import random, randrange"
   ]
  },
  {
   "cell_type": "markdown",
   "id": "serial-wallet",
   "metadata": {},
   "source": [
    "**Algorytm NSGA2**\n",
    "\n",
    "Dane: zbiór przedmiotów, ilość generacji, rozmiar populacji, k oraz prawdopodobieństwo mutacji.\n",
    "\n",
    "1. Generowana jest populacja początkowa o danym rozmiarze (_Chromosome.random_) w postaci chromosomów reprezentowanych przez listy bitów, których długość jest równa ilości przedmiotów.\n",
    "2. Dla każdej kolejnej generacji wykonywane są w pętli kolejne punkty.\n",
    "3. Wykonywana jest operacja selekcji turniejowej - powstaje lista par rodziców.\n",
    "4. Wykonywana jest operacja crossoveru - generowany jest zbiór dzieci.\n",
    "5. Wykonywana jest operacja mutacji dzieci - z zadanym prawdopodobieństwem. Dzieci dodawane są do bieżącej populacji.\n",
    "6. Wykonywany jest algorytm \"Non-dominated sorting\".\n",
    "7. Wykonywany jest algorytm \"Crowding distance sorting\".\n",
    "8. Usuwane są duplikaty z populacji (celem optymalizacji).\n",
    "\n",
    "Otrzymany wynik to posortowana lista chromosomów, zatem pierwszy z nich jest \"najlepszym\" osobnikiem."
   ]
  },
  {
   "cell_type": "markdown",
   "id": "manual-thought",
   "metadata": {},
   "source": [
    "### Klasy modelowe"
   ]
  },
  {
   "cell_type": "code",
   "execution_count": 2,
   "id": "demonstrated-clinton",
   "metadata": {},
   "outputs": [],
   "source": [
    "class Item:\n",
    "    def __init__(self, weight, value):\n",
    "        self.weight = weight\n",
    "        self.value = value\n",
    "    \n",
    "    def __str__(self):\n",
    "        return f\"Weight: {self.weight} | Value: {self.value}\""
   ]
  },
  {
   "cell_type": "code",
   "execution_count": 3,
   "id": "configured-willow",
   "metadata": {},
   "outputs": [],
   "source": [
    "class Chromosome:\n",
    "    def __init__(self, size, selected=[]):\n",
    "        self.size = size\n",
    "        self.selected = selected\n",
    "\n",
    "    @staticmethod\n",
    "    def random(size):\n",
    "        selected = []\n",
    "        for i in range(size):\n",
    "            selected.append(random() >= 0.5)\n",
    "        return Chromosome(size, selected)\n",
    "\n",
    "    def weightFitness(self, items):\n",
    "        sum = 0\n",
    "        for item in self.getSelectedItems(items):\n",
    "            sum += item.weight\n",
    "        return sum\n",
    "\n",
    "    def valueFitness(self, items, maxWeight):\n",
    "        sum = 0\n",
    "        for item in self.getSelectedItems(items):\n",
    "            sum += item.value\n",
    "        return -1 if self.weightFitness(items) > maxWeight or self.weightFitness(items) == 0 else sum\n",
    "\n",
    "    def getSelectedItems(self, items):\n",
    "        selectedItems = []\n",
    "        for el in zip(self.selected, items):\n",
    "            if el[0]:\n",
    "                selectedItems.append(el[1])\n",
    "        return selectedItems\n",
    "\n",
    "    def dominates(self, other, items, maxWeight):\n",
    "        thisValue = self.valueFitness(items, maxWeight)\n",
    "        thisWeight = self.weightFitness(items)\n",
    "        otherValue = other.valueFitness(items, maxWeight)\n",
    "        otherWeight = other.weightFitness(items)\n",
    "        if (thisValue >= otherValue and thisWeight < otherWeight) or (thisValue > otherValue and thisWeight <= otherWeight):\n",
    "            return 1\n",
    "        elif (thisValue <= otherValue and thisWeight > otherWeight) or (thisValue < otherValue and thisWeight >= otherWeight):\n",
    "            return -1\n",
    "        else:\n",
    "            return 0\n",
    "\n",
    "    def clone(self):\n",
    "        return Chromosome(self.size, self.selected.copy())\n",
    "\n",
    "    def __str__(self):\n",
    "        return f\"{self.size} {self.selected}\"\n",
    "\n",
    "    def isEqual(self, obj):\n",
    "        return self.size == obj.size and self.selected == obj.selected\n",
    "\n",
    "    @staticmethod\n",
    "    def removeDuplicated(chromosomes):\n",
    "        newList = []\n",
    "\n",
    "        def exists(x):\n",
    "            for el in newList:\n",
    "                if el.isEqual(x):\n",
    "                    return True\n",
    "            return False\n",
    "\n",
    "        for c in chromosomes:\n",
    "            if not exists(c):\n",
    "                newList.append(c)\n",
    "        return newList"
   ]
  },
  {
   "cell_type": "code",
   "execution_count": 4,
   "id": "military-ending",
   "metadata": {},
   "outputs": [],
   "source": [
    "class ChromosomeWrapper:\n",
    "    def __init__(self, chromosome):\n",
    "        self.chromosome = chromosome\n",
    "\n",
    "    @staticmethod\n",
    "    def fromChromosomes(chromosomes):\n",
    "        pass\n",
    "\n",
    "    @staticmethod\n",
    "    def toChromosomes(wrapperList):\n",
    "        chromosomes = []\n",
    "        for wrapper in wrapperList:\n",
    "            chromosomes.append(wrapper.chromosome)\n",
    "        return chromosomes"
   ]
  },
  {
   "cell_type": "markdown",
   "id": "revolutionary-newfoundland",
   "metadata": {},
   "source": [
    "### Operacje genetyczne\n",
    "\n",
    "1. **Crossover** - wybierany jest punkt podziału, geny przed tym podziałem są dziedziczone po rodzicu 1, a za podziałem po rodzicu 2.\n",
    "2. **Mutation** - z danym prawdopodobieństwem odwracane są poszczególne geny.\n",
    "3. **TournamentSelection** - wybieramy dwa losowe chromosomy i wybieramy dominujący. Remis jest rozpatrywany jako rzut monetą."
   ]
  },
  {
   "cell_type": "code",
   "execution_count": 5,
   "id": "legislative-telescope",
   "metadata": {},
   "outputs": [],
   "source": [
    "class GeneticOperations:\n",
    "\n",
    "    def __init__(self, mutationProbability, items):\n",
    "        self.mutationProbability = mutationProbability\n",
    "        self.items = items\n",
    "\n",
    "    def crossover(self, parent1, parent2):\n",
    "        selected = []\n",
    "        sliceIndex = randrange(parent1.size)\n",
    "        for i in range(sliceIndex):\n",
    "            selected.append(parent1.selected[i])\n",
    "        for i in range(sliceIndex, parent1.size):\n",
    "            selected.append(parent1.selected[i])\n",
    "        return Chromosome(parent1.size, selected)\n",
    "\n",
    "    def mutation(self, chromosome):\n",
    "        selected = []\n",
    "        for i in range(chromosome.size):\n",
    "            if random() >= self.mutationProbability:\n",
    "                selected.append(not chromosome.selected[i])\n",
    "            else:\n",
    "                selected.append(chromosome.selected[i])\n",
    "        return Chromosome(chromosome.size, selected)\n",
    "\n",
    "    def tournamentSelection(self, chromosomes, maxWeight):\n",
    "        idx1 = randrange(len(chromosomes))\n",
    "        idx2 = randrange(len(chromosomes))\n",
    "        dominate = chromosomes[idx1].dominates(chromosomes[idx2], self.items, maxWeight)\n",
    "        if dominate == 1:\n",
    "            return chromosomes[idx1]\n",
    "        elif dominate == -1:\n",
    "            return chromosomes[idx2]\n",
    "        elif random() < 0.5:\n",
    "            return chromosomes[idx1]\n",
    "        else:\n",
    "            return chromosomes[idx2]\n",
    "\n",
    "    def selection(self, chromosomes, maxWeight):\n",
    "        result = []\n",
    "        for i in range(len(chromosomes)):\n",
    "            result.append([self.tournamentSelection(chromosomes, maxWeight), self.tournamentSelection(chromosomes, maxWeight)])\n",
    "        return result"
   ]
  },
  {
   "cell_type": "markdown",
   "id": "competent-cardiff",
   "metadata": {},
   "source": [
    "### Crowding distance sorting\n",
    "\n",
    "1. Wszystkie elementy są inicjalizowane z crowdingDistance = 0.\n",
    "2. Elementy są sortowane po fitnessie. Następnie ustawiane jest dla max crowdingDistance = inf.\n",
    "3. Elementy ze środka przedziału \\[min, max\\] mają ustawiane crowdingDistance zgodnie z metryką taksówkową względem wartości fitnessu sąsiadów.\n",
    "4. Elementy są sortowane malejąco względem crowdingDistance - NSGA odrzuci pewną prawą część listy."
   ]
  },
  {
   "cell_type": "code",
   "execution_count": 6,
   "id": "assured-brother",
   "metadata": {},
   "outputs": [],
   "source": [
    "class CrowdingDistanceChromosomeWrapper(ChromosomeWrapper):\n",
    "    def __init__(self, chromosome):\n",
    "        super().__init__(chromosome)\n",
    "        self.crowdingDistance = 0\n",
    "\n",
    "    @staticmethod\n",
    "    def fromChromosomes(chromosomes):\n",
    "        cdList = []\n",
    "        for c in chromosomes:\n",
    "            cdList.append(CrowdingDistanceChromosomeWrapper(c))\n",
    "        return cdList"
   ]
  },
  {
   "cell_type": "code",
   "execution_count": 7,
   "id": "swiss-madagascar",
   "metadata": {},
   "outputs": [],
   "source": [
    "class CrowdingDistanceSort:\n",
    "    def __init__(self, items):\n",
    "        self.items = items\n",
    "\n",
    "    def sort(self, cdList, maxWeight):\n",
    "        maxByValue = []\n",
    "        minByWeight = []\n",
    "        maxValue = 0\n",
    "        minValue = float('inf')\n",
    "        maxWeight = 0\n",
    "        minWeight = float('inf')\n",
    "        for cd in cdList:\n",
    "            valueFitness = cd.chromosome.valueFitness(self.items, maxWeight)\n",
    "            if valueFitness > maxValue:\n",
    "                maxValue = valueFitness\n",
    "                maxByValue = [cd]\n",
    "            if valueFitness < minValue:\n",
    "                minValue = valueFitness\n",
    "            if valueFitness == maxValue:\n",
    "                maxValue = valueFitness\n",
    "                maxByValue.append(cd)\n",
    "            weightFitness = cd.chromosome.weightFitness(self.items)\n",
    "            if weightFitness > maxWeight:\n",
    "                maxWeight = weightFitness\n",
    "                maxByValue = [cd]\n",
    "            if weightFitness < minWeight:\n",
    "                minWeight = weightFitness\n",
    "                minByWeight = [cd]\n",
    "            if weightFitness == minWeight:\n",
    "                minWeight = weightFitness\n",
    "                minByWeight.append(cd)\n",
    "                \n",
    "        for m in maxByValue:\n",
    "            m.crowdingDistance = float('inf')\n",
    "        for m in minByWeight:\n",
    "            m.crowdingDistance = float('inf')\n",
    "        valueDiffrence = maxValue - minValue\n",
    "        weightDiffrence = maxWeight - minWeight\n",
    "        cdList.sort(key=lambda cd: cd.chromosome.valueFitness(self.items, maxWeight))\n",
    "        for i in range(1, len(cdList) - 1):\n",
    "            cdList[i].crowdingDistance = (cdList[i + 1].chromosome.valueFitness(self.items, maxWeight) - cdList[i - 1].chromosome.valueFitness(self.items, maxWeight))/valueDiffrence\n",
    "            cdList[i].crowdingDistance += (cdList[i + 1].chromosome.weightFitness(self.items) - cdList[i - 1].chromosome.weightFitness(self.items))/weightDiffrence\n",
    "\n",
    "        cdList.sort(reverse=True, key=lambda cd: cd.crowdingDistance)\n",
    "        return cdList"
   ]
  },
  {
   "cell_type": "markdown",
   "id": "durable-energy",
   "metadata": {},
   "source": [
    "### Non-dominatinated sorting\n",
    "\n",
    "1. Rozpatrujemy dla każdej pary elementów z populacji, który chromosom nad którym dominuje (uaktualniamy listę chromosomów _dominatedBy_, przez które bieżący jest zdominowany oraz liczbę _dominationCount_ wskazującą nad iloma bieżący dominuje).\n",
    "2. Wybieramy z populacji wszystkie niedominujące elementy. Odpowiednio zmniejszamy _dominationCount_ dla elementów, które nad nimi dominowały.\n",
    "3. Do wynikowej listy dodajemy taki podzbiór populacji, a następnie powtarzamy kroki 2-3 do momentu, gdy w populacji nie będzie istniał żaden element niedominujący (_dominationCount=0_) lub wszystkie elementy populacji zostaną rozpatrzone."
   ]
  },
  {
   "cell_type": "code",
   "execution_count": 8,
   "id": "presidential-virgin",
   "metadata": {},
   "outputs": [],
   "source": [
    "class NonDominatedSortChromosomeWrapper(ChromosomeWrapper):\n",
    "    def __init__(self, chromosome):\n",
    "        super(NonDominatedSortChromosomeWrapper, self).__init__(chromosome)\n",
    "        self.dominationCount = 0\n",
    "        self.dominatedBy = []\n",
    "\n",
    "    @staticmethod\n",
    "    def fromChromosomes(chromosomes):\n",
    "        ndsList = []\n",
    "        for c in chromosomes:\n",
    "            ndsList.append(NonDominatedSortChromosomeWrapper(c))\n",
    "        return ndsList"
   ]
  },
  {
   "cell_type": "code",
   "execution_count": 9,
   "id": "practical-unknown",
   "metadata": {},
   "outputs": [],
   "source": [
    "class NonDominatedSort:\n",
    "    def __init__(self, items):\n",
    "        self.items = items\n",
    "\n",
    "    def sort(self, ndsList, maxWeight):\n",
    "        frontList = []\n",
    "        for i in range(len(ndsList) - 1):\n",
    "            for j in range(i + 1, len(ndsList)):\n",
    "                dominateResult = ndsList[i].chromosome.dominates(ndsList[j].chromosome, self.items, maxWeight)\n",
    "                if dominateResult == 1:\n",
    "                    ndsList[j].dominationCount += 1\n",
    "                    ndsList[i].dominatedBy.append(ndsList[j])\n",
    "                elif dominateResult == -1:\n",
    "                    ndsList[i].dominationCount += 1\n",
    "                    ndsList[j].dominatedBy.append(ndsList[i])\n",
    "        nonDominantExists = True\n",
    "        while nonDominantExists:\n",
    "            nonDominantExists = False\n",
    "            currentFront = []           \n",
    "            dominatedList = []\n",
    "            for i in range(len(ndsList)):\n",
    "                if ndsList[i].dominationCount == 0:\n",
    "                    nonDominantExists = True\n",
    "                    ndsList[i].dominationCount = -1\n",
    "                    currentFront.append(ndsList[i])\n",
    "                    for dominated in ndsList[i].dominatedBy:\n",
    "                        dominatedList.append(dominated)\n",
    "            for dominated in dominatedList:\n",
    "                dominated.dominationCount -= 1\n",
    "            if len(currentFront) > 0:\n",
    "                frontList.append(currentFront)\n",
    "        return frontList"
   ]
  },
  {
   "cell_type": "markdown",
   "id": "fifty-statement",
   "metadata": {},
   "source": [
    "### NSGA2"
   ]
  },
  {
   "cell_type": "code",
   "execution_count": 10,
   "id": "promising-forestry",
   "metadata": {},
   "outputs": [],
   "source": [
    "class Nsga:\n",
    "    def __init__(self, mutationProbability, items):\n",
    "        self.items = items\n",
    "        self.geneticOperations = GeneticOperations(mutationProbability, items)\n",
    "        self.CrowdingDistanceSort = CrowdingDistanceSort(items)\n",
    "        self.nonDominatedSort = NonDominatedSort(items)\n",
    "\n",
    "    def run(self, nrGeneration, populationSize, maxWeight):\n",
    "        bestResults = []\n",
    "        bestWeights = []\n",
    "        chromosomes = []\n",
    "        for i in range(populationSize):\n",
    "            chromosomes.append(Chromosome.random(len(self.items)))\n",
    "        for currentGeneration in range(nrGeneration):\n",
    "            for i in range(len(chromosomes), populationSize):\n",
    "                chromosomes.append(Chromosome.random(len(self.items)))\n",
    "            selectedPairParents = self.geneticOperations.selection(chromosomes, maxWeight)\n",
    "            children = []\n",
    "            for selectedParents in selectedPairParents:\n",
    "                children.append(self.geneticOperations.crossover(selectedParents[0], selectedParents[1]))\n",
    "\n",
    "            mutated = list(map(lambda child: self.geneticOperations.mutation(child), children))\n",
    "            children = Chromosome.removeDuplicated(mutated)\n",
    "\n",
    "            chromosomes = [*chromosomes, *children]\n",
    "            fronts = self.nonDominatedSort.sort(NonDominatedSortChromosomeWrapper.fromChromosomes(chromosomes), maxWeight)\n",
    "            newPopulation = []\n",
    "            currentFront = 0\n",
    "            while currentFront < len(fronts) and len(newPopulation) + len(fronts[currentFront]) <= populationSize:\n",
    "                newPopulation = [*newPopulation, *NonDominatedSortChromosomeWrapper.toChromosomes(fronts[currentFront])]\n",
    "                currentFront += 1\n",
    "            selected = self.CrowdingDistanceSort.sort(\n",
    "                CrowdingDistanceChromosomeWrapper.fromChromosomes(NonDominatedSortChromosomeWrapper.toChromosomes(fronts[currentFront])), maxWeight)\n",
    "            newPopulation = [*newPopulation, *CrowdingDistanceChromosomeWrapper.toChromosomes(\n",
    "                selected[:(populationSize - len(newPopulation))])]\n",
    "            chromosomes = Chromosome.removeDuplicated(newPopulation)[:min(populationSize, len(newPopulation))]\n",
    "            bestResults.append(chromosomes[0].valueFitness(self.items, maxWeight))\n",
    "            bestWeights.append(chromosomes[0].weightFitness(self.items))\n",
    "        return [chromosomes, bestResults, bestWeights]"
   ]
  },
  {
   "cell_type": "markdown",
   "id": "elementary-benefit",
   "metadata": {},
   "source": [
    "### Test"
   ]
  },
  {
   "cell_type": "code",
   "execution_count": 75,
   "id": "sapphire-traveler",
   "metadata": {},
   "outputs": [],
   "source": [
    "from KnackpackData import weights,values\n",
    "import numpy as np\n",
    "\n",
    "def test(itemsNumber, mutationProbability, generationsNumber, populationSize, maxWeight, v = values, w = weights):\n",
    "    items = []\n",
    "    for i in range(itemsNumber):\n",
    "        item = Item(w[i], v[i])\n",
    "        items.append(item)\n",
    "        #print(f\"{i+1}. {item}\")\n",
    "\n",
    "    nsga = Nsga(mutationProbability, items)\n",
    "    bestChromosome = nsga.run(generationsNumber, populationSize, maxWeight)[0][0]\n",
    "    result = nsga.run(generationsNumber, populationSize, maxWeight)\n",
    "    #print(f\"Final weight: {bestChromosome.weightFitness(items)}\")\n",
    "    #print(f\"Final value: {bestChromosome.valueFitness(items, maxWeight)}\")\n",
    "    #print(bestChromosome)  \n",
    "    return result"
   ]
  },
  {
   "cell_type": "markdown",
   "id": "color-attack",
   "metadata": {},
   "source": [
    "## Wizualizacje"
   ]
  },
  {
   "cell_type": "code",
   "execution_count": 79,
   "id": "differential-roommate",
   "metadata": {},
   "outputs": [
    {
     "name": "stdout",
     "output_type": "stream",
     "text": [
      "Tests finished: 27/27\r"
     ]
    }
   ],
   "source": [
    "from pandas import DataFrame, read_csv\n",
    "\n",
    "max_weight = 3.0\n",
    "\n",
    "correlation_levels = [\"no\", \"low\", \"high\"]\n",
    "item_counts = list(range(16,25))\n",
    "                  \n",
    "scores_v = np.zeros((len(item_counts), len(correlation_levels)))\n",
    "scores_w = np.zeros((len(item_counts), len(correlation_levels)))\n",
    "\n",
    "for i, level in enumerate(correlation_levels):\n",
    "    for j, item_count in enumerate(item_counts):\n",
    "        csv = read_csv(f\"Data//{level}_correlation_{item_count}\")\n",
    "        n_items = csv.shape[0]\n",
    "        values = csv.value.values\n",
    "        weights = csv.weight.values\n",
    "\n",
    "        result = test(itemsNumber=n_items, mutationProbability=0.3, generationsNumber=70, populationSize=70, maxWeight=3, v=values, w=weights)\n",
    "        bestScores = result[1]\n",
    "        bestWeights = result[2]\n",
    "\n",
    "        scores_v[j,i] = bestScores[-1]\n",
    "        scores_w[j,i] = bestWeights[-1]\n",
    "        print(f\"Tests finished: {i*len(item_counts)+j+1}/{len(item_counts)*len(correlation_levels)}\", end=\"\\r\")\n",
    "        "
   ]
  },
  {
   "cell_type": "code",
   "execution_count": 80,
   "id": "given-implement",
   "metadata": {},
   "outputs": [
    {
     "data": {
      "text/html": [
       "<div>\n",
       "<style scoped>\n",
       "    .dataframe tbody tr th:only-of-type {\n",
       "        vertical-align: middle;\n",
       "    }\n",
       "\n",
       "    .dataframe tbody tr th {\n",
       "        vertical-align: top;\n",
       "    }\n",
       "\n",
       "    .dataframe thead th {\n",
       "        text-align: right;\n",
       "    }\n",
       "</style>\n",
       "<table border=\"1\" class=\"dataframe\">\n",
       "  <thead>\n",
       "    <tr style=\"text-align: right;\">\n",
       "      <th></th>\n",
       "      <th>no</th>\n",
       "      <th>low</th>\n",
       "      <th>high</th>\n",
       "    </tr>\n",
       "  </thead>\n",
       "  <tbody>\n",
       "    <tr>\n",
       "      <th>16</th>\n",
       "      <td>1.278921</td>\n",
       "      <td>2.369766</td>\n",
       "      <td>1.626739</td>\n",
       "    </tr>\n",
       "    <tr>\n",
       "      <th>17</th>\n",
       "      <td>0.850981</td>\n",
       "      <td>1.978645</td>\n",
       "      <td>0.757014</td>\n",
       "    </tr>\n",
       "    <tr>\n",
       "      <th>18</th>\n",
       "      <td>0.417499</td>\n",
       "      <td>1.008875</td>\n",
       "      <td>2.350732</td>\n",
       "    </tr>\n",
       "    <tr>\n",
       "      <th>19</th>\n",
       "      <td>2.039481</td>\n",
       "      <td>2.188045</td>\n",
       "      <td>2.958278</td>\n",
       "    </tr>\n",
       "    <tr>\n",
       "      <th>20</th>\n",
       "      <td>1.143851</td>\n",
       "      <td>2.722277</td>\n",
       "      <td>2.473014</td>\n",
       "    </tr>\n",
       "    <tr>\n",
       "      <th>21</th>\n",
       "      <td>2.332957</td>\n",
       "      <td>2.021832</td>\n",
       "      <td>2.931475</td>\n",
       "    </tr>\n",
       "    <tr>\n",
       "      <th>22</th>\n",
       "      <td>2.583397</td>\n",
       "      <td>2.845238</td>\n",
       "      <td>2.850037</td>\n",
       "    </tr>\n",
       "    <tr>\n",
       "      <th>23</th>\n",
       "      <td>2.897762</td>\n",
       "      <td>2.572158</td>\n",
       "      <td>0.655999</td>\n",
       "    </tr>\n",
       "    <tr>\n",
       "      <th>24</th>\n",
       "      <td>2.843250</td>\n",
       "      <td>2.476695</td>\n",
       "      <td>1.996717</td>\n",
       "    </tr>\n",
       "  </tbody>\n",
       "</table>\n",
       "</div>"
      ],
      "text/plain": [
       "          no       low      high\n",
       "16  1.278921  2.369766  1.626739\n",
       "17  0.850981  1.978645  0.757014\n",
       "18  0.417499  1.008875  2.350732\n",
       "19  2.039481  2.188045  2.958278\n",
       "20  1.143851  2.722277  2.473014\n",
       "21  2.332957  2.021832  2.931475\n",
       "22  2.583397  2.845238  2.850037\n",
       "23  2.897762  2.572158  0.655999\n",
       "24  2.843250  2.476695  1.996717"
      ]
     },
     "execution_count": 80,
     "metadata": {},
     "output_type": "execute_result"
    }
   ],
   "source": [
    "df_w = DataFrame(data=scores_w, columns=correlation_levels, index=item_counts)\n",
    "df_w"
   ]
  },
  {
   "cell_type": "code",
   "execution_count": 81,
   "id": "crucial-preserve",
   "metadata": {},
   "outputs": [
    {
     "data": {
      "text/html": [
       "<div>\n",
       "<style scoped>\n",
       "    .dataframe tbody tr th:only-of-type {\n",
       "        vertical-align: middle;\n",
       "    }\n",
       "\n",
       "    .dataframe tbody tr th {\n",
       "        vertical-align: top;\n",
       "    }\n",
       "\n",
       "    .dataframe thead th {\n",
       "        text-align: right;\n",
       "    }\n",
       "</style>\n",
       "<table border=\"1\" class=\"dataframe\">\n",
       "  <thead>\n",
       "    <tr style=\"text-align: right;\">\n",
       "      <th></th>\n",
       "      <th>no</th>\n",
       "      <th>low</th>\n",
       "      <th>high</th>\n",
       "    </tr>\n",
       "  </thead>\n",
       "  <tbody>\n",
       "    <tr>\n",
       "      <th>16</th>\n",
       "      <td>2.652058</td>\n",
       "      <td>3.876768</td>\n",
       "      <td>2.724527</td>\n",
       "    </tr>\n",
       "    <tr>\n",
       "      <th>17</th>\n",
       "      <td>1.831665</td>\n",
       "      <td>3.464366</td>\n",
       "      <td>1.144116</td>\n",
       "    </tr>\n",
       "    <tr>\n",
       "      <th>18</th>\n",
       "      <td>1.599355</td>\n",
       "      <td>3.666337</td>\n",
       "      <td>5.409933</td>\n",
       "    </tr>\n",
       "    <tr>\n",
       "      <th>19</th>\n",
       "      <td>4.465315</td>\n",
       "      <td>2.364011</td>\n",
       "      <td>4.522550</td>\n",
       "    </tr>\n",
       "    <tr>\n",
       "      <th>20</th>\n",
       "      <td>1.435601</td>\n",
       "      <td>4.170563</td>\n",
       "      <td>4.425617</td>\n",
       "    </tr>\n",
       "    <tr>\n",
       "      <th>21</th>\n",
       "      <td>4.586939</td>\n",
       "      <td>3.424726</td>\n",
       "      <td>5.362775</td>\n",
       "    </tr>\n",
       "    <tr>\n",
       "      <th>22</th>\n",
       "      <td>2.751685</td>\n",
       "      <td>4.557483</td>\n",
       "      <td>3.862308</td>\n",
       "    </tr>\n",
       "    <tr>\n",
       "      <th>23</th>\n",
       "      <td>5.715213</td>\n",
       "      <td>4.255409</td>\n",
       "      <td>2.041118</td>\n",
       "    </tr>\n",
       "    <tr>\n",
       "      <th>24</th>\n",
       "      <td>2.844551</td>\n",
       "      <td>3.627434</td>\n",
       "      <td>3.575614</td>\n",
       "    </tr>\n",
       "  </tbody>\n",
       "</table>\n",
       "</div>"
      ],
      "text/plain": [
       "          no       low      high\n",
       "16  2.652058  3.876768  2.724527\n",
       "17  1.831665  3.464366  1.144116\n",
       "18  1.599355  3.666337  5.409933\n",
       "19  4.465315  2.364011  4.522550\n",
       "20  1.435601  4.170563  4.425617\n",
       "21  4.586939  3.424726  5.362775\n",
       "22  2.751685  4.557483  3.862308\n",
       "23  5.715213  4.255409  2.041118\n",
       "24  2.844551  3.627434  3.575614"
      ]
     },
     "execution_count": 81,
     "metadata": {},
     "output_type": "execute_result"
    }
   ],
   "source": [
    "df_v = DataFrame(data=scores_v, columns=correlation_levels, index=item_counts)\n",
    "df_v"
   ]
  },
  {
   "cell_type": "code",
   "execution_count": 82,
   "id": "enhanced-offering",
   "metadata": {},
   "outputs": [
    {
     "data": {
      "text/plain": [
       "<AxesSubplot:title={'center':'Result for correlated data / weights'}, xlabel='Items', ylabel='Value'>"
      ]
     },
     "execution_count": 82,
     "metadata": {},
     "output_type": "execute_result"
    },
    {
     "data": {
      "image/png": "[encoded data removed]",
      "text/plain": [
       "<Figure size 432x288 with 1 Axes>"
      ]
     },
     "metadata": {
      "needs_background": "light"
     },
     "output_type": "display_data"
    }
   ],
   "source": [
    "df_w.plot(title=\"Result for correlated data / weights\", xlabel=\"Items\", ylabel=\"Value\")"
   ]
  },
  {
   "cell_type": "code",
   "execution_count": 84,
   "id": "twenty-validity",
   "metadata": {},
   "outputs": [
    {
     "data": {
      "text/plain": [
       "<AxesSubplot:title={'center':'Result for correlated data / values'}, xlabel='Items', ylabel='Weight'>"
      ]
     },
     "execution_count": 84,
     "metadata": {},
     "output_type": "execute_result"
    },
    {
     "data": {
      "image/png": "[encoded data removed]",
      "text/plain": [
       "<Figure size 432x288 with 1 Axes>"
      ]
     },
     "metadata": {
      "needs_background": "light"
     },
     "output_type": "display_data"
    }
   ],
   "source": [
    "df_v.plot(title=\"Result for correlated data / values\", xlabel=\"Items\", ylabel=\"Weight\")"
   ]
  },
  {
   "cell_type": "code",
   "execution_count": 85,
   "id": "fatty-talent",
   "metadata": {},
   "outputs": [],
   "source": [
    "df_w.to_csv(\"Results//NSGA_w.csv\")\n",
    "df_v.to_csv(\"Results//NSGA_v.csv\")"
   ]
  },
  {
   "cell_type": "code",
   "execution_count": null,
   "id": "touched-cuisine",
   "metadata": {},
   "outputs": [],
   "source": []
  }
 ],
 "metadata": {
  "kernelspec": {
   "display_name": "Python 3",
   "language": "python",
   "name": "python3"
  },
  "language_info": {
   "codemirror_mode": {
    "name": "ipython",
    "version": 3
   },
   "file_extension": ".py",
   "mimetype": "text/x-python",
   "name": "python",
   "nbconvert_exporter": "python",
   "pygments_lexer": "ipython3",
   "version": "3.8.8"
  }
 },
 "nbformat": 4,
 "nbformat_minor": 5
}
